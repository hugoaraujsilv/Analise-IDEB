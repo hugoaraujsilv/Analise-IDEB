{
 "cells": [
  {
   "cell_type": "markdown",
   "metadata": {},
   "source": [
    "# Relatório: Análise de Dados do INEP"
   ]
  },
  {
   "cell_type": "markdown",
   "metadata": {},
   "source": [
    "## Introdução"
   ]
  },
  {
   "cell_type": "markdown",
   "metadata": {},
   "source": [
    "Nesse trabalho desenvolvido para o curso de Álgebra Linear, encontraremos um modelo linear para as notas do IDEB de cada unidade federativa brasileira. Em seguida, será analisado se o modelo é devidamente ajustado aos dados, utilizando $R^{2}$.  Assim, poderá ser analisado quais estados tiveram maiores taxas de crescimento na educação. Ao fazer a regressão linear para encontrar tal modelo, utilizaremos o Método dos Mínimos Quadrados(MMQ), que explicaremos adiante, desenvolvido pelo famoso matemático Carl Friedrich Gauss, em 1795."
   ]
  },
  {
   "cell_type": "markdown",
   "metadata": {},
   "source": [
    "Sobre os métodos que serão utilizados:"
   ]
  },
  {
   "cell_type": "markdown",
   "metadata": {},
   "source": [
    "Ao fazermos a regressão linear, encontraremos um modelo da forma $b_i =Dt_i+C$, onde $b_i$ será a nota em função de $t_i$, o ano. Tendo os pontos $(t_i,b_i)$, a solução de mínimos quadrados é dada por:\\\\\n",
    "    $\\hat x = (A^{T}A)^{-1}A^{T}b\\Rightarrow A^{T}A\\hat x =A^{T}b$, onde $A=\\begin{bmatrix}\n",
    "1 & t_1\\\\\n",
    "\\vdots & \\vdots \\\\\n",
    "1 & t_m\n",
    "\\end{bmatrix}$, $b=\\begin{bmatrix}\n",
    "b_1\\\\\n",
    "\\vdots\\\\\n",
    "b_m \n",
    "\\end{bmatrix}$, $x=\\begin{bmatrix}\n",
    "C\\\\\n",
    "D\n",
    "\\end{bmatrix}$\n",
    "\n",
    " \n",
    "\n",
    "$A^{T}A = \\begin{bmatrix}\n",
    "    m & \\sum_{i=1}^{} t_i\\\\\n",
    "    \\sum_{i=1}^{m} t_i & \\sum_{i=1}^{n} t_i^{2}\n",
    "    \\end{bmatrix}$\n",
    "\n",
    "$A^{T}b=\\begin{bmatrix}\n",
    "    \\sum_{i=1}^{n} b_i\\\\\n",
    "    \\sum_{i=1}^{n} t_ib_1\n",
    "    \\end{bmatrix} $"
   ]
  },
  {
   "cell_type": "markdown",
   "metadata": {},
   "source": [
    "## Análise dos Dados"
   ]
  },
  {
   "cell_type": "markdown",
   "metadata": {},
   "source": [
    "### Importando bibliotecas"
   ]
  },
  {
   "cell_type": "code",
   "execution_count": 13,
   "metadata": {},
   "outputs": [],
   "source": [
    "import pandas as pd"
   ]
  },
  {
   "cell_type": "markdown",
   "metadata": {},
   "source": []
  },
  {
   "cell_type": "markdown",
   "metadata": {},
   "source": [
    "### Coletando os dados"
   ]
  },
  {
   "cell_type": "code",
   "execution_count": 17,
   "metadata": {},
   "outputs": [
    {
     "name": "stdout",
     "output_type": "stream",
     "text": [
      "        Estado   Ano  Valor\n",
      "0         Acre  2005    3.4\n",
      "1         Acre  2007    3.8\n",
      "2         Acre  2009    4.3\n",
      "3         Acre  2011    4.6\n",
      "4         Acre  2013    5.1\n",
      "..         ...   ...    ...\n",
      "211  Tocantins  2011    4.9\n",
      "212  Tocantins  2013    5.1\n",
      "213  Tocantins  2015    5.1\n",
      "214  Tocantins  2017    5.6\n",
      "215  Tocantins  2019    5.6\n",
      "\n",
      "[216 rows x 3 columns]\n"
     ]
    }
   ],
   "source": [
    "dados = pd.read_excel('ideb.xlsx').dropna()\n",
    "print(dados)"
   ]
  }
 ],
 "metadata": {
  "interpreter": {
   "hash": "b6d96202fc7e9b9d9df4f111fba01276a9db700c9f1ac4261b123e5cbfd55f84"
  },
  "kernelspec": {
   "display_name": "Python 3.10.0 64-bit",
   "language": "python",
   "name": "python3"
  },
  "language_info": {
   "codemirror_mode": {
    "name": "ipython",
    "version": 3
   },
   "file_extension": ".py",
   "mimetype": "text/x-python",
   "name": "python",
   "nbconvert_exporter": "python",
   "pygments_lexer": "ipython3",
   "version": "3.8.8"
  },
  "orig_nbformat": 4
 },
 "nbformat": 4,
 "nbformat_minor": 2
}
