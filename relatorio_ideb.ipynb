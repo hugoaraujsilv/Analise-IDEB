{
 "cells": [
  {
   "cell_type": "markdown",
   "metadata": {},
   "source": [
    "# Relatório: Análise de Dados do INEP"
   ]
  },
  {
   "cell_type": "markdown",
   "metadata": {},
   "source": [
    "## Introdução"
   ]
  },
  {
   "cell_type": "markdown",
   "metadata": {},
   "source": [
    "## Análise dos Dados"
   ]
  },
  {
   "cell_type": "markdown",
   "metadata": {},
   "source": [
    "### Importando bibliotecas"
   ]
  },
  {
   "cell_type": "code",
   "execution_count": 16,
   "metadata": {},
   "outputs": [],
   "source": [
    "import pandas as pd"
   ]
  },
  {
   "cell_type": "markdown",
   "metadata": {},
   "source": [
    "### Coletando os dados"
   ]
  },
  {
   "cell_type": "code",
   "execution_count": 24,
   "metadata": {},
   "outputs": [
    {
     "name": "stdout",
     "output_type": "stream",
     "text": [
      "                 Estado  2005  2007  2009  2011  2013  2015  2017  2019\n",
      "1                  ACRE   3.4   3.8   4.3   4.6   5.1   5.4   5.8   5.9\n",
      "2               ALAGOAS   2.5   3.3   3.7   3.8   4.1   4.7   5.2   5.6\n",
      "3                 AMAPÁ   3.2   3.4   3.8   4.1   4.0   4.5   4.6   4.9\n",
      "4              AMAZONAS   3.1   3.6   3.9   4.3   4.7   5.2   5.4   5.5\n",
      "5                 BAHIA   2.7   3.4   3.8   4.2   4.3   4.7   5.1   5.3\n",
      "6                 CEARÁ   3.2   3.8   4.4   4.9   5.2   5.9   6.2   6.4\n",
      "7      DISTRITO FEDERAL   4.8   5.0   5.6   5.7   5.9   6.0   6.3   6.5\n",
      "8        ESPÍRITO SANTO   4.2   4.6   5.1   5.2   5.4   5.7   6.0   6.1\n",
      "9                 GOIÁS   4.1   4.3   4.9   5.3   5.7   5.8   6.1   6.2\n",
      "10             MARANHÃO   2.9   3.7   3.9   4.1   4.1   4.6   4.8   5.0\n",
      "11          MATO GROSSO   3.6   4.4   4.9   5.1   5.3   5.7   5.9   5.9\n",
      "12   MATO GROSSO DO SUL   3.6   4.3   4.6   5.1   5.2   5.5   5.7   5.7\n",
      "13         MINAS GERAIS   4.7   4.7   5.6   5.9   6.1   6.3   6.5   6.5\n",
      "14                 PARÁ   2.8   3.1   3.6   4.2   4.0   4.5   4.7   4.9\n",
      "15              PARAÍBA   3.0   3.4   3.9   4.3   4.5   4.9   5.1   5.4\n",
      "16               PARANÁ   4.6   5.0   5.4   5.6   5.9   6.2   6.5   6.5\n",
      "17           PERNAMBUCO   3.2   3.6   4.1   4.3   4.7   5.0   5.2   5.5\n",
      "18                PIAUÍ   2.8   3.5   4.0   4.4   4.5   4.9   5.3   5.7\n",
      "19       RIO DE JANEIRO   4.3   4.4   4.7   5.1   5.2   5.5   5.8   5.8\n",
      "20  RIO GRANDE DO NORTE   2.7   3.4   3.9   4.1   4.4   4.8   5.0   5.2\n",
      "21    RIO GRANDE DO SUL   4.3   4.6   4.9   5.1   5.6   5.7   5.8   6.0\n",
      "22             RONDÔNIA   3.6   4.0   4.3   4.7   5.2   5.4   5.8   5.6\n",
      "23              RORAIMA   3.7   4.1   4.3   4.7   5.0   5.2   5.5   5.7\n",
      "24       SANTA CATARINA   4.4   4.9   5.2   5.8   6.0   6.3   6.5   6.5\n",
      "25            SÃO PAULO   4.7   5.0   5.5   5.6   6.1   6.4   6.6   6.7\n",
      "26              SERGIPE   3.0   3.4   3.8   4.1   4.4   4.6   4.9   5.1\n",
      "27            TOCANTINS   3.5   4.1   4.5   4.9   5.1   5.1   5.6   5.6\n"
     ]
    }
   ],
   "source": [
    "dados = pd.read_excel('ideb.xlsx').dropna()\n",
    "print(dados)"
   ]
  }
 ],
 "metadata": {
  "interpreter": {
   "hash": "b6d96202fc7e9b9d9df4f111fba01276a9db700c9f1ac4261b123e5cbfd55f84"
  },
  "kernelspec": {
   "display_name": "Python 3.10.0 64-bit",
   "language": "python",
   "name": "python3"
  },
  "language_info": {
   "codemirror_mode": {
    "name": "ipython",
    "version": 3
   },
   "file_extension": ".py",
   "mimetype": "text/x-python",
   "name": "python",
   "nbconvert_exporter": "python",
   "pygments_lexer": "ipython3",
   "version": "3.8.8"
  },
  "orig_nbformat": 4
 },
 "nbformat": 4,
 "nbformat_minor": 2
}
