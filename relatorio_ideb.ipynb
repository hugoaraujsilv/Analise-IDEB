{
 "cells": [
  {
   "cell_type": "markdown",
   "metadata": {},
   "source": [
    "# Relatório: Análise de Dados do INEP"
   ]
  },
  {
   "cell_type": "markdown",
   "metadata": {},
   "source": [
    "## Introdução"
   ]
  },
  {
   "cell_type": "markdown",
   "metadata": {},
   "source": [
    "Nesse trabalho, desenvolvido para o curso de Álgebra Linear, encontraremos um modelo linear para as notas do IDEB de cada unidade federativa brasileira. Em seguida, será analisado se o modelo é devidamente ajustado aos dados, utilizando $R^{2}$. Assim, poderá ser analisado quais estados tiveram maiores taxas de crescimento na educação. Ao fazer a regressão linear para encontrar tal modelo, utilizaremos o Método dos Mínimos Quadrados (MMQ), que explicaremos adiante, desenvolvido pelo famoso matemático Carl Friedrich Gauss, em 1795."
   ]
  },
  {
   "cell_type": "markdown",
   "metadata": {},
   "source": [
    "### Sobre os métodos que serão utilizados:"
   ]
  },
  {
   "cell_type": "markdown",
   "metadata": {},
   "source": [
    "Ao fazermos a regressão linear, encontraremos um modelo da forma $b_i =Dt_i+C$, onde $b_i$ será a nota em função de $t_i$, o ano. Tendo os pontos $(t_i,b_i)$, a solução utilizando mínimos quadrados, técnica de otimização para obter o melhor ajuste de dados ao minimizar a soma dos erros quadrados(SEQ), sendo erro=e, é dada por:\n",
    "$$e=\\displaystyle\\sum_{i=1}^{n} (y(t_i)-b_i)^{2}=\\displaystyle\\sum_{i=1}^{n} (C+ Dt_i-b_i)^{2}$$\n",
    "\n",
    "Sendo: $A=\\begin{bmatrix}\n",
    "1 & t_1\\\\\n",
    "\\vdots & \\vdots \\\\\n",
    "1 & t_n\n",
    "\\end{bmatrix}$ $b=\\begin{bmatrix}\n",
    "b_1\\\\\n",
    "\\vdots\\\\\n",
    "b_n\n",
    "\\end{bmatrix}$ $\\hat x=\\begin{bmatrix}\n",
    "C\\\\\n",
    "D\n",
    "\\end{bmatrix}$\n",
    "\n",
    "$e=\\|Ax-b||^{2}\\Rightarrow$\n",
    " $\\hat x = (A^{T}A)^{-1}A^{T}b\\Rightarrow A^{T}A\\hat x =A^{T}b$\n",
    "\n",
    "$A^{T}A = \\begin{bmatrix}\n",
    "    m & \\displaystyle\\sum_{i=1}^{n} t_i\\\\\n",
    "    \\displaystyle\\sum_{i=1}^{n} t_i & \\displaystyle\\sum_{i=1}^{n} t_i^{2}\n",
    "    \\end{bmatrix}$\n",
    "\n",
    "$A^{T}b=\\begin{bmatrix}\n",
    "    \\displaystyle\\sum_{i=1}^{n} b_i\\\\\n",
    "    \\displaystyle\\sum_{i=1}^{n} t_ib_i\n",
    "    \\end{bmatrix} $\n",
    "\n",
    "\n",
    "O $R^{2}$ (coeficiente de determinação) mede quão bem um modelo é ajustado à um modelo linear. Esse coeficiente varia entre 0 e 1, sendo 1 um modelo linear perfeitamente ajustado aos dados. Sendo $SEQ$ a soma dos erros quadrados e $SEQ_m$ a média, $R^{2}=\\dfrac{SEQ_m - SEQ}{SEQ_m}$."
   ]
  },
  {
   "cell_type": "markdown",
   "metadata": {},
   "source": [
    "### Sobre o IDEB e a base de dados:"
   ]
  },
  {
   "cell_type": "markdown",
   "metadata": {},
   "source": [
    "O Índice de Desenvolvimento da Educação Básica (IDEB) é um indicador social da qualidade da educação brasileira criado em 2005 pelo Ministério da Educação, por meio do Instituto Nacional de Estudos e Pesquisas Educacionais Anísio Teixeira (Inep). O cálculo do IDEB é baseado em dois fatores: \n",
    "\n",
    "(i) o fluxo escolar, isto é, as aprovações e o rendimento escolar dos alunos de cada instituição, obtidos pelo Censo Escolar; \n",
    "\n",
    "(ii) o desempenho dos alunos no Saeb, o Sistema de Avaliação da Educação Básica, que consiste em um conjunto de provas aplicadas no 2º, 5º e 9º ano do Ensino Fundamental, bem como no 3º ano do Ensino Médio.\n",
    "\n",
    "O valor final do IDEB varia de zero a dez, e, a cada aplicação, são estipuladas metas de melhoria na nota, o que reflete diretamente o progresso da qualidade das escolas, em nível local, municipal, estadual e federal. A principal função do IDEB é nortear as políticas públicas que serão aplicadas nas escolas brasileiras, com base em suas deficiências no ensino e seus contextos sociais, analisados a partir dos questionários socioeconômicos aplicados no Saeb, como também encontrar exemplos de instituições bem sucedidas, de forma a estudá-las e expandir seus métodos em larga escala.\n",
    "\n",
    "Para este trabalho, a base de dados escolhida retrata o valor do IDEB do 5º ano do Ensino Fundamental para cada um dos estados brasileiros, de 2005 a 2019.\n",
    "\n"
   ]
  },
  {
   "cell_type": "markdown",
   "metadata": {},
   "source": [
    "## Análise dos dados"
   ]
  },
  {
   "cell_type": "markdown",
   "metadata": {},
   "source": [
    "### Importando bibliotecas"
   ]
  },
  {
   "cell_type": "markdown",
   "metadata": {},
   "source": [
    "Utilizando o código disponibilizado no EClass como referência, primeiramente foram importadas as bibliotecas e os pacotes necessários para dar início à análise."
   ]
  },
  {
   "cell_type": "code",
   "execution_count": 3,
   "metadata": {},
   "outputs": [],
   "source": [
    "# Importando bibliotecas\n",
    "import pandas as pd\n",
    "import matplotlib.pyplot as plt\n",
    "import numpy as np\n",
    "from sklearn import linear_model"
   ]
  },
  {
   "cell_type": "markdown",
   "metadata": {},
   "source": [
    "Realizando a estilização dos gráficos plotados pelo matplotlib:"
   ]
  },
  {
   "cell_type": "code",
   "execution_count": 204,
   "metadata": {},
   "outputs": [],
   "source": [
    "# Definindo a estilização dos gráficos\n",
    "params = {'legend.fontsize': 20,\n",
    "          'figure.figsize': (10, 7.5),\n",
    "         'axes.labelsize': 20,\n",
    "         'axes.titlesize':20,\n",
    "         'xtick.labelsize':20,\n",
    "         'ytick.labelsize':20}\n",
    "\n",
    "plt.style.use('ggplot')\n",
    "    \n",
    "plt.rcParams.update(params)"
   ]
  },
  {
   "cell_type": "markdown",
   "metadata": {},
   "source": [
    "### Coletando os dados"
   ]
  },
  {
   "cell_type": "markdown",
   "metadata": {},
   "source": [
    "Em sequência, foi feita a leitura da base de dados dos valores do IDEB."
   ]
  },
  {
   "cell_type": "code",
   "execution_count": 5,
   "metadata": {},
   "outputs": [
    {
     "name": "stdout",
     "output_type": "stream",
     "text": [
      "    Ano   AC   AL   AP   AM   BA   CE   DF   ES   GO  ...   PI   RJ   RN   RS  \\\n",
      "0  2005  3.4  3.2  3.2  3.1  2.7  3.2  4.8  4.2  4.1  ...  2.8  4.3  2.7  4.3   \n",
      "1  2007  3.8  3.3  3.4  3.6  3.4  3.8  5.0  4.6  4.3  ...  3.5  4.4  3.4  4.6   \n",
      "2  2009  4.3  3.7  3.8  3.9  3.8  4.4  5.6  5.1  4.9  ...  4.0  4.7  3.9  4.9   \n",
      "3  2011  4.6  3.8  4.1  4.3  4.2  4.9  5.7  5.2  5.3  ...  4.4  5.1  4.1  5.1   \n",
      "4  2013  5.1  4.1  4.0  4.7  4.3  5.2  5.9  5.4  5.7  ...  4.5  5.2  4.4  5.6   \n",
      "5  2015  5.4  4.7  4.5  5.2  4.7  5.9  6.0  5.7  5.8  ...  4.9  5.5  4.8  5.7   \n",
      "6  2017  5.8  5.2  4.6  5.4  5.1  6.2  6.3  6.0  6.1  ...  5.3  5.8  5.0  5.8   \n",
      "7  2019  5.9  5.6  4.9  5.5  5.3  6.4  6.5  6.1  6.2  ...  5.7  5.8  5.2  6.0   \n",
      "\n",
      "    RO   RR   SC   SP   SE   TO  \n",
      "0  3.6  3.7  4.4  4.7  3.0  3.5  \n",
      "1  4.0  4.1  4.9  5.0  3.4  4.1  \n",
      "2  4.3  4.3  5.2  5.5  3.8  4.5  \n",
      "3  4.7  4.7  5.8  5.6  4.1  4.9  \n",
      "4  5.2  5.0  6.0  6.1  4.4  5.1  \n",
      "5  5.4  5.2  6.3  6.4  4.6  5.1  \n",
      "6  5.8  5.5  6.5  6.6  4.9  5.6  \n",
      "7  5.6  5.7  6.5  6.7  5.1  5.6  \n",
      "\n",
      "[8 rows x 28 columns]\n"
     ]
    }
   ],
   "source": [
    "# Lendo a base de dados\n",
    "data = pd.read_excel('ideb.xlsx').dropna()\n",
    "print(data)\n"
   ]
  },
  {
   "cell_type": "markdown",
   "metadata": {},
   "source": [
    "Abaixo, segue um resumo dos dados da base escolhida"
   ]
  },
  {
   "cell_type": "code",
   "execution_count": 33,
   "metadata": {},
   "outputs": [
    {
     "data": {
      "text/html": [
       "<div>\n",
       "<style scoped>\n",
       "    .dataframe tbody tr th:only-of-type {\n",
       "        vertical-align: middle;\n",
       "    }\n",
       "\n",
       "    .dataframe tbody tr th {\n",
       "        vertical-align: top;\n",
       "    }\n",
       "\n",
       "    .dataframe thead th {\n",
       "        text-align: right;\n",
       "    }\n",
       "</style>\n",
       "<table border=\"1\" class=\"dataframe\">\n",
       "  <thead>\n",
       "    <tr style=\"text-align: right;\">\n",
       "      <th></th>\n",
       "      <th>Ano</th>\n",
       "      <th>AC</th>\n",
       "      <th>AL</th>\n",
       "      <th>AP</th>\n",
       "      <th>AM</th>\n",
       "      <th>BA</th>\n",
       "      <th>CE</th>\n",
       "      <th>DF</th>\n",
       "      <th>ES</th>\n",
       "      <th>GO</th>\n",
       "      <th>...</th>\n",
       "      <th>PI</th>\n",
       "      <th>RJ</th>\n",
       "      <th>RN</th>\n",
       "      <th>RS</th>\n",
       "      <th>RO</th>\n",
       "      <th>RR</th>\n",
       "      <th>SC</th>\n",
       "      <th>SP</th>\n",
       "      <th>SE</th>\n",
       "      <th>TO</th>\n",
       "    </tr>\n",
       "  </thead>\n",
       "  <tbody>\n",
       "    <tr>\n",
       "      <th>count</th>\n",
       "      <td>8.000000</td>\n",
       "      <td>8.000000</td>\n",
       "      <td>8.000000</td>\n",
       "      <td>8.000000</td>\n",
       "      <td>8.000000</td>\n",
       "      <td>8.000000</td>\n",
       "      <td>8.000000</td>\n",
       "      <td>8.000000</td>\n",
       "      <td>8.000000</td>\n",
       "      <td>8.000000</td>\n",
       "      <td>...</td>\n",
       "      <td>8.000000</td>\n",
       "      <td>8.000000</td>\n",
       "      <td>8.000000</td>\n",
       "      <td>8.000000</td>\n",
       "      <td>8.000000</td>\n",
       "      <td>8.000000</td>\n",
       "      <td>8.000000</td>\n",
       "      <td>8.000000</td>\n",
       "      <td>8.000000</td>\n",
       "      <td>8.000000</td>\n",
       "    </tr>\n",
       "    <tr>\n",
       "      <th>mean</th>\n",
       "      <td>2012.000000</td>\n",
       "      <td>4.787500</td>\n",
       "      <td>4.200000</td>\n",
       "      <td>4.062500</td>\n",
       "      <td>4.462500</td>\n",
       "      <td>4.187500</td>\n",
       "      <td>5.000000</td>\n",
       "      <td>5.725000</td>\n",
       "      <td>5.287500</td>\n",
       "      <td>5.300000</td>\n",
       "      <td>...</td>\n",
       "      <td>4.387500</td>\n",
       "      <td>5.100000</td>\n",
       "      <td>4.187500</td>\n",
       "      <td>5.250000</td>\n",
       "      <td>4.825000</td>\n",
       "      <td>4.775000</td>\n",
       "      <td>5.700000</td>\n",
       "      <td>5.825000</td>\n",
       "      <td>4.162500</td>\n",
       "      <td>4.800000</td>\n",
       "    </tr>\n",
       "    <tr>\n",
       "      <th>std</th>\n",
       "      <td>4.898979</td>\n",
       "      <td>0.918753</td>\n",
       "      <td>0.881557</td>\n",
       "      <td>0.590248</td>\n",
       "      <td>0.886305</td>\n",
       "      <td>0.872496</td>\n",
       "      <td>1.152637</td>\n",
       "      <td>0.589794</td>\n",
       "      <td>0.659951</td>\n",
       "      <td>0.798212</td>\n",
       "      <td>...</td>\n",
       "      <td>0.947836</td>\n",
       "      <td>0.590399</td>\n",
       "      <td>0.847581</td>\n",
       "      <td>0.616441</td>\n",
       "      <td>0.801338</td>\n",
       "      <td>0.702546</td>\n",
       "      <td>0.785584</td>\n",
       "      <td>0.744024</td>\n",
       "      <td>0.730826</td>\n",
       "      <td>0.730949</td>\n",
       "    </tr>\n",
       "    <tr>\n",
       "      <th>min</th>\n",
       "      <td>2005.000000</td>\n",
       "      <td>3.400000</td>\n",
       "      <td>3.200000</td>\n",
       "      <td>3.200000</td>\n",
       "      <td>3.100000</td>\n",
       "      <td>2.700000</td>\n",
       "      <td>3.200000</td>\n",
       "      <td>4.800000</td>\n",
       "      <td>4.200000</td>\n",
       "      <td>4.100000</td>\n",
       "      <td>...</td>\n",
       "      <td>2.800000</td>\n",
       "      <td>4.300000</td>\n",
       "      <td>2.700000</td>\n",
       "      <td>4.300000</td>\n",
       "      <td>3.600000</td>\n",
       "      <td>3.700000</td>\n",
       "      <td>4.400000</td>\n",
       "      <td>4.700000</td>\n",
       "      <td>3.000000</td>\n",
       "      <td>3.500000</td>\n",
       "    </tr>\n",
       "    <tr>\n",
       "      <th>25%</th>\n",
       "      <td>2008.500000</td>\n",
       "      <td>4.175000</td>\n",
       "      <td>3.600000</td>\n",
       "      <td>3.700000</td>\n",
       "      <td>3.825000</td>\n",
       "      <td>3.700000</td>\n",
       "      <td>4.250000</td>\n",
       "      <td>5.450000</td>\n",
       "      <td>4.975000</td>\n",
       "      <td>4.750000</td>\n",
       "      <td>...</td>\n",
       "      <td>3.875000</td>\n",
       "      <td>4.625000</td>\n",
       "      <td>3.775000</td>\n",
       "      <td>4.825000</td>\n",
       "      <td>4.225000</td>\n",
       "      <td>4.250000</td>\n",
       "      <td>5.125000</td>\n",
       "      <td>5.375000</td>\n",
       "      <td>3.700000</td>\n",
       "      <td>4.400000</td>\n",
       "    </tr>\n",
       "    <tr>\n",
       "      <th>50%</th>\n",
       "      <td>2012.000000</td>\n",
       "      <td>4.850000</td>\n",
       "      <td>3.950000</td>\n",
       "      <td>4.050000</td>\n",
       "      <td>4.500000</td>\n",
       "      <td>4.250000</td>\n",
       "      <td>5.050000</td>\n",
       "      <td>5.800000</td>\n",
       "      <td>5.300000</td>\n",
       "      <td>5.500000</td>\n",
       "      <td>...</td>\n",
       "      <td>4.450000</td>\n",
       "      <td>5.150000</td>\n",
       "      <td>4.250000</td>\n",
       "      <td>5.350000</td>\n",
       "      <td>4.950000</td>\n",
       "      <td>4.850000</td>\n",
       "      <td>5.900000</td>\n",
       "      <td>5.850000</td>\n",
       "      <td>4.250000</td>\n",
       "      <td>5.000000</td>\n",
       "    </tr>\n",
       "    <tr>\n",
       "      <th>75%</th>\n",
       "      <td>2015.500000</td>\n",
       "      <td>5.500000</td>\n",
       "      <td>4.825000</td>\n",
       "      <td>4.525000</td>\n",
       "      <td>5.250000</td>\n",
       "      <td>4.800000</td>\n",
       "      <td>5.975000</td>\n",
       "      <td>6.075000</td>\n",
       "      <td>5.775000</td>\n",
       "      <td>5.875000</td>\n",
       "      <td>...</td>\n",
       "      <td>5.000000</td>\n",
       "      <td>5.575000</td>\n",
       "      <td>4.850000</td>\n",
       "      <td>5.725000</td>\n",
       "      <td>5.450000</td>\n",
       "      <td>5.275000</td>\n",
       "      <td>6.350000</td>\n",
       "      <td>6.450000</td>\n",
       "      <td>4.675000</td>\n",
       "      <td>5.225000</td>\n",
       "    </tr>\n",
       "    <tr>\n",
       "      <th>max</th>\n",
       "      <td>2019.000000</td>\n",
       "      <td>5.900000</td>\n",
       "      <td>5.600000</td>\n",
       "      <td>4.900000</td>\n",
       "      <td>5.500000</td>\n",
       "      <td>5.300000</td>\n",
       "      <td>6.400000</td>\n",
       "      <td>6.500000</td>\n",
       "      <td>6.100000</td>\n",
       "      <td>6.200000</td>\n",
       "      <td>...</td>\n",
       "      <td>5.700000</td>\n",
       "      <td>5.800000</td>\n",
       "      <td>5.200000</td>\n",
       "      <td>6.000000</td>\n",
       "      <td>5.800000</td>\n",
       "      <td>5.700000</td>\n",
       "      <td>6.500000</td>\n",
       "      <td>6.700000</td>\n",
       "      <td>5.100000</td>\n",
       "      <td>5.600000</td>\n",
       "    </tr>\n",
       "  </tbody>\n",
       "</table>\n",
       "<p>8 rows × 28 columns</p>\n",
       "</div>"
      ],
      "text/plain": [
       "               Ano        AC        AL        AP        AM        BA  \\\n",
       "count     8.000000  8.000000  8.000000  8.000000  8.000000  8.000000   \n",
       "mean   2012.000000  4.787500  4.200000  4.062500  4.462500  4.187500   \n",
       "std       4.898979  0.918753  0.881557  0.590248  0.886305  0.872496   \n",
       "min    2005.000000  3.400000  3.200000  3.200000  3.100000  2.700000   \n",
       "25%    2008.500000  4.175000  3.600000  3.700000  3.825000  3.700000   \n",
       "50%    2012.000000  4.850000  3.950000  4.050000  4.500000  4.250000   \n",
       "75%    2015.500000  5.500000  4.825000  4.525000  5.250000  4.800000   \n",
       "max    2019.000000  5.900000  5.600000  4.900000  5.500000  5.300000   \n",
       "\n",
       "             CE        DF        ES        GO  ...        PI        RJ  \\\n",
       "count  8.000000  8.000000  8.000000  8.000000  ...  8.000000  8.000000   \n",
       "mean   5.000000  5.725000  5.287500  5.300000  ...  4.387500  5.100000   \n",
       "std    1.152637  0.589794  0.659951  0.798212  ...  0.947836  0.590399   \n",
       "min    3.200000  4.800000  4.200000  4.100000  ...  2.800000  4.300000   \n",
       "25%    4.250000  5.450000  4.975000  4.750000  ...  3.875000  4.625000   \n",
       "50%    5.050000  5.800000  5.300000  5.500000  ...  4.450000  5.150000   \n",
       "75%    5.975000  6.075000  5.775000  5.875000  ...  5.000000  5.575000   \n",
       "max    6.400000  6.500000  6.100000  6.200000  ...  5.700000  5.800000   \n",
       "\n",
       "             RN        RS        RO        RR        SC        SP        SE  \\\n",
       "count  8.000000  8.000000  8.000000  8.000000  8.000000  8.000000  8.000000   \n",
       "mean   4.187500  5.250000  4.825000  4.775000  5.700000  5.825000  4.162500   \n",
       "std    0.847581  0.616441  0.801338  0.702546  0.785584  0.744024  0.730826   \n",
       "min    2.700000  4.300000  3.600000  3.700000  4.400000  4.700000  3.000000   \n",
       "25%    3.775000  4.825000  4.225000  4.250000  5.125000  5.375000  3.700000   \n",
       "50%    4.250000  5.350000  4.950000  4.850000  5.900000  5.850000  4.250000   \n",
       "75%    4.850000  5.725000  5.450000  5.275000  6.350000  6.450000  4.675000   \n",
       "max    5.200000  6.000000  5.800000  5.700000  6.500000  6.700000  5.100000   \n",
       "\n",
       "             TO  \n",
       "count  8.000000  \n",
       "mean   4.800000  \n",
       "std    0.730949  \n",
       "min    3.500000  \n",
       "25%    4.400000  \n",
       "50%    5.000000  \n",
       "75%    5.225000  \n",
       "max    5.600000  \n",
       "\n",
       "[8 rows x 28 columns]"
      ]
     },
     "execution_count": 33,
     "metadata": {},
     "output_type": "execute_result"
    }
   ],
   "source": [
    "# Descrevendo informações sobre a base\n",
    "data.describe()"
   ]
  },
  {
   "cell_type": "markdown",
   "metadata": {},
   "source": [
    "## Regressão linear e minímos quadrados"
   ]
  },
  {
   "cell_type": "markdown",
   "metadata": {},
   "source": [
    "Nessa etapa, será realizada a regressão linear e o cálculo dos mínimos quadrados para cada estado. Devido à grande quantidade de estados, a explicação do código e dos procedimentos será feita somente uma vez (correspondente ao estado do Acre), visando tornar o trabalho mais compacto e evitar muitas repetições."
   ]
  },
  {
   "cell_type": "markdown",
   "metadata": {},
   "source": [
    "\n",
    "### Acre"
   ]
  },
  {
   "cell_type": "markdown",
   "metadata": {},
   "source": [
    "Primeiramente foram setadas duas variáveis, uma correspondente aos valores do IDEB do estado em questão e a outra com os anos relacionados a esses valores. Plotou-se então o gráfico de dispersão da nota pelo ano. "
   ]
  },
  {
   "cell_type": "code",
   "execution_count": 200,
   "metadata": {},
   "outputs": [
    {
     "data": {
      "text/plain": [
       "Text(0.5, 1.0, 'ACRE')"
      ]
     },
     "execution_count": 200,
     "metadata": {},
     "output_type": "execute_result"
    },
    {
     "data": {
      "image/png": "[encoded data removed]",
      "text/plain": [
       "<Figure size 720x540 with 1 Axes>"
      ]
     },
     "metadata": {},
     "output_type": "display_data"
    }
   ],
   "source": [
    "# Setando as váriaveis\n",
    "AC = data['AC'].values\n",
    "Ano = data['Ano'].values\n",
    "\n",
    "# Plotando o gráfico\n",
    "plt.figure()\n",
    "plt.scatter(Ano, AC)\n",
    "plt.xlabel('Ano')\n",
    "plt.ylabel('IDEB')\n",
    "plt.title('ACRE')"
   ]
  },
  {
   "cell_type": "markdown",
   "metadata": {},
   "source": [
    "Abaixo, foi feita uma modelagem nos dados, aplicando o logaritmo natural em cada uma das variáveis, de modo a controlar a discrepância na escala dos dados. Após a modelagem, o gráfico foi plotado mais uma vez."
   ]
  },
  {
   "cell_type": "code",
   "execution_count": 201,
   "metadata": {},
   "outputs": [
    {
     "data": {
      "text/plain": [
       "Text(0.5, 1.0, 'ACRE')"
      ]
     },
     "execution_count": 201,
     "metadata": {},
     "output_type": "execute_result"
    },
    {
     "data": {
      "image/png": "[encoded data removed]",
      "text/plain": [
       "<Figure size 720x540 with 1 Axes>"
      ]
     },
     "metadata": {},
     "output_type": "display_data"
    }
   ],
   "source": [
    "# Plotando o gráfico com a nova modelagem\n",
    "plt.figure()\n",
    "plt.scatter(np.log(Ano), np.log(AC))\n",
    "plt.xlabel('log(Ano)')\n",
    "plt.ylabel('log(IDEB)')\n",
    "plt.title('ACRE')"
   ]
  },
  {
   "cell_type": "markdown",
   "metadata": {},
   "source": [
    "Foi calculada, então, a solução dos mínimos quadrados para $b=Dt+C$, em que $b$ será a nota em função de $t$, o ano. Para isso, setamos as variáveis $t$ como o log do ano, $b$ como o log do IDEB e uma variável $ones$, que é um vetor composto somente pelo número $1$ e do mesmo tamanho de $t$. Utilizando $t$ e $ones$, foi composta a matriz $A$. Por fim, efetua-se a multiplicação $A^TA$ e $A^Tb$ e resolve-se o sistema $(A^TA)\\hat x=A^Tb$."
   ]
  },
  {
   "cell_type": "code",
   "execution_count": 190,
   "metadata": {},
   "outputs": [],
   "source": [
    "# Setando as variáveis\n",
    "t = np.log(Ano)\n",
    "ones = np.ones(len(t))\n",
    "b = np.log(AC)\n",
    "\n",
    "# Criando a matriz A\n",
    "A = np.array([ones, t]).T\n",
    "\n",
    "# Realizando a multiplicação matricial\n",
    "AtA = A.T @ A\n",
    "Atb = A.T @ b\n",
    "\n",
    "# Encontrando a solução do sistema\n",
    "x_hat = np.linalg.solve(AtA, Atb)"
   ]
  },
  {
   "cell_type": "markdown",
   "metadata": {},
   "source": [
    "Portanto, obtemos que $b = 80.96086954t -614.31078896$."
   ]
  },
  {
   "cell_type": "code",
   "execution_count": 194,
   "metadata": {},
   "outputs": [
    {
     "name": "stdout",
     "output_type": "stream",
     "text": [
      "[-614.31078896   80.96086954]\n",
      "O coeficiente angular é 80.96086954207776\n"
     ]
    }
   ],
   "source": [
    "# Exibindo o resultado do sistema\n",
    "print(x_hat)\n",
    "print('O coeficiente angular é', x_hat[1])"
   ]
  },
  {
   "cell_type": "markdown",
   "metadata": {},
   "source": [
    "Para o novo plot, criou-se um linspace da variável $t$, isto é, um conjunto de números igualmente espaçados no intervalo entre o menor e o maior valor de $t$. O linspace auxilia na visualização dos dados e na construção do eixo desejado."
   ]
  },
  {
   "cell_type": "code",
   "execution_count": 195,
   "metadata": {},
   "outputs": [],
   "source": [
    "# Criando o linspace\n",
    "t_linspace = np.linspace(np.min(t), np.max(t), 101)\n",
    "\n",
    "# Criando a reta\n",
    "least_square = x_hat[0] + x_hat[1] * t\n",
    "least_square_plot = x_hat[0] + x_hat[1] * t_linspace"
   ]
  },
  {
   "cell_type": "markdown",
   "metadata": {},
   "source": [
    "Abaixo, foi calculado o coeficiente de determinação, $R^2$, o qual diz muito sobre a confiabilidade do modelo: quanto mais próximo de 1, melhor é a previsão do modelo."
   ]
  },
  {
   "cell_type": "code",
   "execution_count": 196,
   "metadata": {},
   "outputs": [
    {
     "name": "stdout",
     "output_type": "stream",
     "text": [
      "SEQ:  0.008231837055654216\n",
      "R²: 0.9946856648881632\n"
     ]
    }
   ],
   "source": [
    "# Calculando o R²\n",
    "SEQ = np.sum((least_square - b)**2)\n",
    "SEQ_m = np.mean(least_square)\n",
    "R = (SEQ_m -SEQ)/SEQ_m\n",
    "\n",
    "# Printando o valor\n",
    "print('SEQ: ', SEQ)\n",
    "print('R²:', R)"
   ]
  },
  {
   "cell_type": "markdown",
   "metadata": {},
   "source": [
    "A seguir, foi feita a regressão através da biblioteca scikit-learn."
   ]
  },
  {
   "cell_type": "code",
   "execution_count": 197,
   "metadata": {},
   "outputs": [],
   "source": [
    "# Determinando o modelo da regressão e ajustando-o\n",
    "regr = linear_model.LinearRegression()\n",
    "regr.fit(t.reshape(-1, 1), b)\n",
    "\n",
    "# Fazendo o predict da regressão\n",
    "least_square_sklearn_plot = regr.predict(t_linspace.reshape(-1, 1))\n",
    "least_square_sklearn = regr.predict(t.reshape(-1, 1))"
   ]
  },
  {
   "cell_type": "markdown",
   "metadata": {},
   "source": [
    "Plota-se, portanto, o gráfico de dispersão contendo a regressão calculada a partir da fórmula e a partir do scikit-learn."
   ]
  },
  {
   "cell_type": "code",
   "execution_count": 202,
   "metadata": {},
   "outputs": [
    {
     "data": {
      "text/plain": [
       "<matplotlib.legend.Legend at 0x1f59bc14e20>"
      ]
     },
     "execution_count": 202,
     "metadata": {},
     "output_type": "execute_result"
    },
    {
     "data": {
      "image/png": "[encoded data removed]",
      "text/plain": [
       "<Figure size 720x540 with 1 Axes>"
      ]
     },
     "metadata": {},
     "output_type": "display_data"
    }
   ],
   "source": [
    "# Plotando o gráfico\n",
    "fig, ax = plt.subplots()\n",
    "plt.scatter(t, b, label='data')\n",
    "plt.plot(t_linspace, least_square_plot, color='k', label='numpy')\n",
    "plt.plot(t_linspace, least_square_sklearn_plot, 'k--', linewidth=5, label='sklearn')\n",
    "plt.xlabel('log(Ano)')\n",
    "plt.ylabel('log(IDEB)')\n",
    "plt.title('ACRE')\n",
    "plt.legend()"
   ]
  },
  {
   "cell_type": "markdown",
   "metadata": {},
   "source": [
    "Por fim, utiliza-se a fórmula encontrada para estimar uma previsão do IDEB do estado em 2021."
   ]
  },
  {
   "cell_type": "code",
   "execution_count": 203,
   "metadata": {},
   "outputs": [
    {
     "name": "stdout",
     "output_type": "stream",
     "text": [
      "IDEB estimado:  6.756740697318955\n"
     ]
    }
   ],
   "source": [
    "# Calculando a previsão\n",
    "previsao = np.log(2021)\n",
    "\n",
    "estimado = x_hat[0] + x_hat[1] * previsao\n",
    "\n",
    "print('IDEB estimado: ', np.exp(estimado))"
   ]
  },
  {
   "cell_type": "markdown",
   "metadata": {},
   "source": [
    "### ALAGOAS"
   ]
  },
  {
   "cell_type": "code",
   "execution_count": 397,
   "metadata": {},
   "outputs": [
    {
     "name": "stdout",
     "output_type": "stream",
     "text": [
      "[-634.82686484   83.64046765]\n",
      "O coeficiente angular é 83.64046764589816\n"
     ]
    }
   ],
   "source": [
    "AL = data['AL'].values\n",
    "Ano = data['Ano'].values\n",
    "\n",
    "t = np.log(Ano)\n",
    "ones = np.ones(len(t))\n",
    "b = np.log(AL)\n",
    "\n",
    "A = np.array([ones, t]).T\n",
    "\n",
    "AtA = A.T @ A\n",
    "Atb = A.T @ b\n",
    "\n",
    "x_hat = np.linalg.solve(AtA, Atb)\n",
    "\n",
    "print(x_hat)\n",
    "print('O coeficiente angular é', x_hat[1])\n",
    "\n",
    "\n"
   ]
  },
  {
   "cell_type": "code",
   "execution_count": 398,
   "metadata": {},
   "outputs": [
    {
     "name": "stdout",
     "output_type": "stream",
     "text": [
      "SEQ:  0.00664482930744163\n",
      "R²: 0.9953083104287654\n"
     ]
    }
   ],
   "source": [
    "t_linspace = np.linspace(np.min(t), np.max(t), 101)\n",
    "\n",
    "least_square = x_hat[0] + x_hat[1] * t\n",
    "least_square_plot = x_hat[0] + x_hat[1] * t_linspace\n",
    "\n",
    "SEQ = np.sum((least_square - b)**2)\n",
    "SEQ_m = np.mean(least_square)\n",
    "R = (SEQ_m -SEQ)/SEQ_m\n",
    "\n",
    "print('SEQ: ', SEQ)\n",
    "print('R²:', R)"
   ]
  },
  {
   "cell_type": "code",
   "execution_count": 403,
   "metadata": {},
   "outputs": [
    {
     "name": "stderr",
     "output_type": "stream",
     "text": [
      "No handles with labels found to put in legend.\n"
     ]
    },
    {
     "name": "stdout",
     "output_type": "stream",
     "text": [
      "IDEB estimado:  5.9883604461274444\n",
      "R²: 0.9953083104287654\n",
      "Modelo: b = 83.64046764589816 . t -634.8268648396886\n"
     ]
    },
    {
     "data": {
      "image/png": "[encoded data removed]",
      "text/plain": [
       "<Figure size 288x216 with 1 Axes>"
      ]
     },
     "metadata": {},
     "output_type": "display_data"
    }
   ],
   "source": [
    "regr = linear_model.LinearRegression()\n",
    "regr.fit(t.reshape(-1, 1), b)\n",
    "\n",
    "least_square_sklearn_plot = regr.predict(t_linspace.reshape(-1, 1))\n",
    "least_square_sklearn = regr.predict(t.reshape(-1, 1))\n",
    "\n",
    "fig, ax = plt.subplots()\n",
    "plt.scatter(t, b)\n",
    "plt.plot(t_linspace, least_square_plot, color='k')\n",
    "plt.plot(t_linspace, least_square_sklearn_plot, 'k--',linewidth=5)\n",
    "plt.xlabel('log(Ano)')\n",
    "plt.ylabel('log(IDEB)')\n",
    "plt.title('ALAGOAS')\n",
    "plt.legend()\n",
    "\n",
    "previsao = np.log(2021)\n",
    "\n",
    "estimado = x_hat[0] + x_hat[1] * previsao\n",
    "\n",
    "print('IDEB estimado: ', np.exp(estimado))\n",
    "print('R²:', R)\n",
    "print('Modelo: b =',x_hat[1],'. t',x_hat[0])\n"
   ]
  },
  {
   "cell_type": "markdown",
   "metadata": {},
   "source": [
    "### AMAPÁ"
   ]
  },
  {
   "cell_type": "code",
   "execution_count": 404,
   "metadata": {},
   "outputs": [
    {
     "name": "stdout",
     "output_type": "stream",
     "text": [
      "[-452.01931289   59.60545185]\n",
      "O coeficiente angular é 59.6054518542234\n"
     ]
    }
   ],
   "source": [
    "AP = data['AP'].values\n",
    "Ano = data['Ano'].values\n",
    "\n",
    "t = np.log(Ano)\n",
    "ones = np.ones(len(t))\n",
    "b = np.log(AP)\n",
    "\n",
    "A = np.array([ones, t]).T\n",
    "\n",
    "AtA = A.T @ A\n",
    "Atb = A.T @ b\n",
    "\n",
    "x_hat = np.linalg.solve(AtA, Atb)\n",
    "\n",
    "print(x_hat)\n",
    "print('O coeficiente angular é', x_hat[1])\n"
   ]
  },
  {
   "cell_type": "code",
   "execution_count": 405,
   "metadata": {},
   "outputs": [
    {
     "name": "stdout",
     "output_type": "stream",
     "text": [
      "SEQ:  0.0063022949635165686\n",
      "R²: 0.9954735369494758\n"
     ]
    }
   ],
   "source": [
    "t_linspace = np.linspace(np.min(t), np.max(t), 101)\n",
    "\n",
    "least_square = x_hat[0] + x_hat[1] * t\n",
    "least_square_plot = x_hat[0] + x_hat[1] * t_linspace\n",
    "\n",
    "SEQ = np.sum((least_square - b)**2)\n",
    "SEQ_m = np.mean(least_square)\n",
    "R = (SEQ_m -SEQ)/SEQ_m\n",
    "\n",
    "print('SEQ: ', SEQ)\n",
    "print('R²:', R)"
   ]
  },
  {
   "cell_type": "code",
   "execution_count": 406,
   "metadata": {},
   "outputs": [
    {
     "name": "stderr",
     "output_type": "stream",
     "text": [
      "No handles with labels found to put in legend.\n"
     ]
    },
    {
     "name": "stdout",
     "output_type": "stream",
     "text": [
      "IDEB estimado:  5.251464693668699\n",
      "R²: 0.9954735369494758\n",
      "Modelo: b = 59.6054518542234 . t -452.01931288849124\n"
     ]
    },
    {
     "data": {
      "image/png": "[encoded data removed]",
      "text/plain": [
       "<Figure size 288x216 with 1 Axes>"
      ]
     },
     "metadata": {},
     "output_type": "display_data"
    }
   ],
   "source": [
    "regr = linear_model.LinearRegression()\n",
    "regr.fit(t.reshape(-1, 1), b)\n",
    "\n",
    "least_square_sklearn_plot = regr.predict(t_linspace.reshape(-1, 1))\n",
    "least_square_sklearn = regr.predict(t.reshape(-1, 1))\n",
    "\n",
    "fig, ax = plt.subplots()\n",
    "plt.scatter(t, b)\n",
    "plt.plot(t_linspace, least_square_plot, color='k')\n",
    "plt.plot(t_linspace, least_square_sklearn_plot, 'k--', linewidth=5)\n",
    "plt.xlabel('log(Ano)')\n",
    "plt.ylabel('log(IDEB)')\n",
    "plt.title('AMAPÁ')\n",
    "plt.legend()\n",
    "\n",
    "previsao = np.log(2021)\n",
    "\n",
    "estimado = x_hat[0] + x_hat[1] * previsao\n",
    "\n",
    "print('IDEB estimado: ', np.exp(estimado))\n",
    "print('R²:', R)\n",
    "print('Modelo: b =',x_hat[1],'. t',x_hat[0])"
   ]
  },
  {
   "cell_type": "markdown",
   "metadata": {},
   "source": [
    "### AMAZONAS"
   ]
  },
  {
   "cell_type": "code",
   "execution_count": 407,
   "metadata": {},
   "outputs": [
    {
     "name": "stdout",
     "output_type": "stream",
     "text": [
      "[-635.68120253   83.76081287]\n",
      "O coeficiente angular é 83.76081287181721\n"
     ]
    }
   ],
   "source": [
    "AM = data['AM'].values\n",
    "Ano = data['Ano'].values\n",
    "\n",
    "t = np.log(Ano)\n",
    "ones = np.ones(len(t))\n",
    "b = np.log(AM)\n",
    "\n",
    "A = np.array([ones, t]).T\n",
    "\n",
    "AtA = A.T @ A\n",
    "Atb = A.T @ b\n",
    "\n",
    "x_hat = np.linalg.solve(AtA, Atb)\n",
    "x_hat\n",
    "\n",
    "print(x_hat)\n",
    "print('O coeficiente angular é', x_hat[1])"
   ]
  },
  {
   "cell_type": "code",
   "execution_count": 408,
   "metadata": {},
   "outputs": [
    {
     "name": "stdout",
     "output_type": "stream",
     "text": [
      "SEQ:  0.010676462216950249\n",
      "R²: 0.9927735374585493\n"
     ]
    }
   ],
   "source": [
    "t_linspace = np.linspace(np.min(t), np.max(t), 101)\n",
    "\n",
    "least_square = x_hat[0] + x_hat[1] * t\n",
    "least_square_plot = x_hat[0] + x_hat[1] * t_linspace\n",
    "\n",
    "SEQ = np.sum((least_square - b)**2)\n",
    "SEQ_m = np.mean(least_square)\n",
    "R = (SEQ_m -SEQ)/SEQ_m\n",
    "\n",
    "print('SEQ: ', SEQ)\n",
    "print('R²:', R)"
   ]
  },
  {
   "cell_type": "code",
   "execution_count": 410,
   "metadata": {},
   "outputs": [
    {
     "name": "stdout",
     "output_type": "stream",
     "text": [
      "IDEB estimado:  6.369171033584488\n",
      "R²: 0.9927735374585493\n",
      "Modelo: b = 83.76081287181721 . t -635.6812025346771\n"
     ]
    },
    {
     "data": {
      "image/png": "[encoded data removed]",
      "text/plain": [
       "<Figure size 288x216 with 1 Axes>"
      ]
     },
     "metadata": {},
     "output_type": "display_data"
    }
   ],
   "source": [
    "regr = linear_model.LinearRegression()\n",
    "regr.fit(t.reshape(-1, 1), b)\n",
    "\n",
    "least_square_sklearn_plot = regr.predict(t_linspace.reshape(-1, 1))\n",
    "least_square_sklearn = regr.predict(t.reshape(-1, 1))\n",
    "\n",
    "fig, ax = plt.subplots()\n",
    "plt.scatter(t, b)\n",
    "plt.plot(t_linspace, least_square_plot, color='k')\n",
    "plt.plot(t_linspace, least_square_sklearn_plot, 'k--', linewidth=5)\n",
    "plt.xlabel('log(Ano)')\n",
    "plt.ylabel('log(IDEB)')\n",
    "plt.title('AMAZONAS')\n",
    "\n",
    "previsao = np.log(2021)\n",
    "\n",
    "estimado = x_hat[0] + x_hat[1] * previsao\n",
    "\n",
    "print('IDEB estimado: ', np.exp(estimado))\n",
    "print('R²:', R)\n",
    "print('Modelo: b =',x_hat[1],'. t',x_hat[0])"
   ]
  },
  {
   "cell_type": "markdown",
   "metadata": {},
   "source": [
    "### BAHIA"
   ]
  },
  {
   "cell_type": "code",
   "execution_count": 411,
   "metadata": {},
   "outputs": [
    {
     "name": "stdout",
     "output_type": "stream",
     "text": [
      "[-673.77117425   88.75942331]\n",
      "O coeficiente angular é 88.7594233108828\n"
     ]
    }
   ],
   "source": [
    "BA = data['BA'].values\n",
    "Ano = data['Ano'].values\n",
    "\n",
    "t = np.log(Ano)\n",
    "ones = np.ones(len(t))\n",
    "b = np.log(BA)\n",
    "\n",
    "A = np.array([ones, t]).T\n",
    "\n",
    "AtA = A.T @ A\n",
    "Atb = A.T @ b\n",
    "\n",
    "x_hat = np.linalg.solve(AtA, Atb)\n",
    "\n",
    "print(x_hat)\n",
    "print('O coeficiente angular é', x_hat[1])\n",
    "\n"
   ]
  },
  {
   "cell_type": "code",
   "execution_count": 412,
   "metadata": {},
   "outputs": [
    {
     "name": "stdout",
     "output_type": "stream",
     "text": [
      "SEQ:  0.023412713723739865\n",
      "R²: 0.9834102952515283\n"
     ]
    }
   ],
   "source": [
    "t_linspace = np.linspace(np.min(t), np.max(t), 101)\n",
    "\n",
    "least_square = x_hat[0] + x_hat[1] * t\n",
    "least_square_plot = x_hat[0] + x_hat[1] * t_linspace\n",
    "\n",
    "SEQ = np.sum((least_square - b)**2)\n",
    "SEQ_m = np.mean(least_square)\n",
    "R = (SEQ_m -SEQ)/SEQ_m\n",
    "\n",
    "print('SEQ: ', SEQ)\n",
    "print('R²:', R)"
   ]
  },
  {
   "cell_type": "code",
   "execution_count": 413,
   "metadata": {},
   "outputs": [
    {
     "name": "stdout",
     "output_type": "stream",
     "text": [
      "IDEB estimado:  6.096164277590525\n",
      "R²: 0.9834102952515283\n",
      "Modelo: b = 88.7594233108828 . t -673.7711742489047\n"
     ]
    },
    {
     "data": {
      "image/png": "[encoded data removed]",
      "text/plain": [
       "<Figure size 288x216 with 1 Axes>"
      ]
     },
     "metadata": {},
     "output_type": "display_data"
    }
   ],
   "source": [
    "regr = linear_model.LinearRegression()\n",
    "regr.fit(t.reshape(-1, 1), b)\n",
    "\n",
    "least_square_sklearn_plot = regr.predict(t_linspace.reshape(-1, 1))\n",
    "least_square_sklearn = regr.predict(t.reshape(-1, 1))\n",
    "\n",
    "fig, ax = plt.subplots()\n",
    "plt.scatter(t, b)\n",
    "plt.plot(t_linspace, least_square_plot, color='k')\n",
    "plt.plot(t_linspace, least_square_sklearn_plot, 'k--', linewidth=5)\n",
    "plt.xlabel('log(Ano)')\n",
    "plt.ylabel('log(IDEB)')\n",
    "\n",
    "plt.title('BAHIA')\n",
    "\n",
    "previsao = np.log(2021)\n",
    "\n",
    "estimado = x_hat[0] + x_hat[1] * previsao\n",
    "\n",
    "print('IDEB estimado: ', np.exp(estimado))\n",
    "print('R²:', R)\n",
    "print('Modelo: b =',x_hat[1],'. t',x_hat[0])"
   ]
  },
  {
   "cell_type": "markdown",
   "metadata": {},
   "source": [
    "### CEARÁ"
   ]
  },
  {
   "cell_type": "code",
   "execution_count": 414,
   "metadata": {},
   "outputs": [
    {
     "name": "stdout",
     "output_type": "stream",
     "text": [
      "[-749.17013448   98.69409331]\n",
      "O coeficiente angular é 98.6940933083374\n"
     ]
    }
   ],
   "source": [
    "CE = data['CE'].values\n",
    "Ano = data['Ano'].values\n",
    "\n",
    "t = np.log(Ano)\n",
    "ones = np.ones(len(t))\n",
    "b = np.log(CE)\n",
    "\n",
    "A = np.array([ones, t]).T\n",
    "\n",
    "AtA = A.T @ A\n",
    "Atb = A.T @ b\n",
    "\n",
    "x_hat = np.linalg.solve(AtA, Atb)\n",
    "\n",
    "print(x_hat)\n",
    "print('O coeficiente angular é', x_hat[1])\n"
   ]
  },
  {
   "cell_type": "code",
   "execution_count": 415,
   "metadata": {},
   "outputs": [
    {
     "name": "stdout",
     "output_type": "stream",
     "text": [
      "SEQ:  0.023412713723739865\n",
      "R²: 0.9852209373500257\n"
     ]
    }
   ],
   "source": [
    "t_linspace = np.linspace(np.min(t), np.max(t), 101)\n",
    "\n",
    "least_square = x_hat[0] + x_hat[1] * t\n",
    "least_square_plot = x_hat[0] + x_hat[1] * t_linspace\n",
    "\n",
    "EQ = np.sum((least_square - b)**2)\n",
    "SEQ_m = np.mean(least_square)\n",
    "R = (SEQ_m -SEQ)/SEQ_m\n",
    "\n",
    "print('SEQ: ', SEQ)\n",
    "print('R²:', R)"
   ]
  },
  {
   "cell_type": "code",
   "execution_count": 416,
   "metadata": {},
   "outputs": [
    {
     "name": "stdout",
     "output_type": "stream",
     "text": [
      "IDEB estimado:  7.575560491539805\n",
      "R²: 0.9852209373500257\n",
      "Modelo: b = 98.6940933083374 . t -749.1701344826932\n"
     ]
    },
    {
     "data": {
      "image/png": "[encoded data removed]",
      "text/plain": [
       "<Figure size 288x216 with 1 Axes>"
      ]
     },
     "metadata": {},
     "output_type": "display_data"
    }
   ],
   "source": [
    "regr = linear_model.LinearRegression()\n",
    "regr.fit(t.reshape(-1, 1), b)\n",
    "\n",
    "least_square_sklearn_plot = regr.predict(t_linspace.reshape(-1, 1))\n",
    "least_square_sklearn = regr.predict(t.reshape(-1, 1))\n",
    "\n",
    "fig, ax = plt.subplots()\n",
    "plt.scatter(t, b)\n",
    "plt.plot(t_linspace, least_square_plot, color='k')\n",
    "plt.plot(t_linspace, least_square_sklearn_plot, 'k--', linewidth=5)\n",
    "plt.xlabel('log(Ano)')\n",
    "plt.ylabel('log(IDEB)')\n",
    "plt.title('CEARÁ')\n",
    "\n",
    "previsao = np.log(2021)\n",
    "\n",
    "estimado = x_hat[0] + x_hat[1] * previsao\n",
    "\n",
    "print('IDEB estimado: ', np.exp(estimado))\n",
    "print('R²:', R)\n",
    "print('Modelo: b =',x_hat[1],'. t',x_hat[0])"
   ]
  },
  {
   "cell_type": "markdown",
   "metadata": {},
   "source": [
    "### Distrito Federal\n"
   ]
  },
  {
   "cell_type": "code",
   "execution_count": 417,
   "metadata": {},
   "outputs": [
    {
     "name": "stdout",
     "output_type": "stream",
     "text": [
      "[-318.92779416   42.15496449]\n",
      "O coeficiente angular é 42.15496448896311\n"
     ]
    }
   ],
   "source": [
    "DF = data['DF'].values\n",
    "Ano = data['Ano'].values\n",
    "\n",
    "t = np.log(Ano)\n",
    "ones = np.ones(len(t))\n",
    "b = np.log(DF)\n",
    "\n",
    "A = np.array([ones, t]).T\n",
    "\n",
    "AtA = A.T @ A\n",
    "Atb = A.T @ b\n",
    "\n",
    "x_hat = np.linalg.solve(AtA, Atb)\n",
    "\n",
    "print(x_hat)\n",
    "print('O coeficiente angular é', x_hat[1])\n"
   ]
  },
  {
   "cell_type": "code",
   "execution_count": 418,
   "metadata": {},
   "outputs": [
    {
     "name": "stdout",
     "output_type": "stream",
     "text": [
      "SEQ:  0.0043502928732411725\n",
      "R²: 0.9974998945858056\n"
     ]
    }
   ],
   "source": [
    "t_linspace = np.linspace(np.min(t), np.max(t), 101)\n",
    "\n",
    "least_square = x_hat[0] + x_hat[1] * t\n",
    "least_square_plot = x_hat[0] + x_hat[1] * t_linspace\n",
    "\n",
    "SEQ = np.sum((least_square - b)**2)\n",
    "SEQ_m = np.mean(least_square)\n",
    "R = (SEQ_m -SEQ)/SEQ_m\n",
    "\n",
    "print('SEQ: ', SEQ)\n",
    "print('R²:', R)"
   ]
  },
  {
   "cell_type": "code",
   "execution_count": 419,
   "metadata": {},
   "outputs": [
    {
     "name": "stdout",
     "output_type": "stream",
     "text": [
      "IDEB estimado:  6.877798226587905\n",
      "R²: 0.9974998945858056\n",
      "Modelo: b = 42.15496448896311 . t -318.9277941647791\n"
     ]
    },
    {
     "data": {
      "image/png": "[encoded data removed]",
      "text/plain": [
       "<Figure size 288x216 with 1 Axes>"
      ]
     },
     "metadata": {},
     "output_type": "display_data"
    }
   ],
   "source": [
    "regr = linear_model.LinearRegression()\n",
    "regr.fit(t.reshape(-1, 1), b)\n",
    "\n",
    "least_square_sklearn_plot = regr.predict(t_linspace.reshape(-1, 1))\n",
    "least_square_sklearn = regr.predict(t.reshape(-1, 1))\n",
    "\n",
    "fig, ax = plt.subplots()\n",
    "plt.scatter(t, b)\n",
    "plt.plot(t_linspace, least_square_plot, color='k')\n",
    "plt.plot(t_linspace, least_square_sklearn_plot, 'k--', linewidth=5)\n",
    "plt.xlabel('log(Ano)')\n",
    "plt.ylabel('log(IDEB)')\n",
    "plt.title('DISTRITO FEDERAL')\n",
    "\n",
    "previsao = np.log(2021)\n",
    "\n",
    "estimado = x_hat[0] + x_hat[1] * previsao\n",
    "\n",
    "print('IDEB estimado: ', np.exp(estimado))\n",
    "print('R²:', R)\n",
    "print('Modelo: b =',x_hat[1],'. t',x_hat[0])"
   ]
  },
  {
   "cell_type": "markdown",
   "metadata": {},
   "source": [
    "### Espírito Santo"
   ]
  },
  {
   "cell_type": "code",
   "execution_count": 420,
   "metadata": {},
   "outputs": [
    {
     "name": "stdout",
     "output_type": "stream",
     "text": [
      "[-391.27187541   51.65455739]\n",
      "O coeficiente angular é 51.654557388477684\n"
     ]
    }
   ],
   "source": [
    "ES = data['ES'].values\n",
    "Ano = data['Ano'].values\n",
    "\n",
    "t = np.log(Ano)\n",
    "ones = np.ones(len(t))\n",
    "b = np.log(ES)\n",
    "\n",
    "A = np.array([ones, t]).T\n",
    "\n",
    "AtA = A.T @ A\n",
    "Atb = A.T @ b\n",
    "\n",
    "x_hat = np.linalg.solve(AtA, Atb)\n",
    "\n",
    "print(x_hat)\n",
    "print('O coeficiente angular é', x_hat[1])"
   ]
  },
  {
   "cell_type": "code",
   "execution_count": 421,
   "metadata": {},
   "outputs": [
    {
     "name": "stdout",
     "output_type": "stream",
     "text": [
      "SEQ:  0.005367679379744492\n",
      "R²: 0.9967630343735427\n"
     ]
    }
   ],
   "source": [
    "t_linspace = np.linspace(np.min(t), np.max(t), 101)\n",
    "\n",
    "least_square = x_hat[0] + x_hat[1] * t\n",
    "least_square_plot = x_hat[0] + x_hat[1] * t_linspace\n",
    "\n",
    "SEQ = np.sum((least_square - b)**2)\n",
    "SEQ_m = np.mean(least_square)\n",
    "R = (SEQ_m -SEQ)/SEQ_m\n",
    "\n",
    "print('SEQ: ', SEQ)\n",
    "print('R²:', R)"
   ]
  },
  {
   "cell_type": "code",
   "execution_count": 422,
   "metadata": {},
   "outputs": [
    {
     "name": "stdout",
     "output_type": "stream",
     "text": [
      "IDEB estimado:  6.612237233012372\n",
      "R²: 0.9967630343735427\n",
      "Modelo: b = 51.654557388477684 . t -391.2718754138079\n"
     ]
    },
    {
     "data": {
      "image/png": "[encoded data removed]",
      "text/plain": [
       "<Figure size 288x216 with 1 Axes>"
      ]
     },
     "metadata": {},
     "output_type": "display_data"
    }
   ],
   "source": [
    "regr = linear_model.LinearRegression()\n",
    "regr.fit(t.reshape(-1, 1), b)\n",
    "\n",
    "least_square_sklearn_plot = regr.predict(t_linspace.reshape(-1, 1))\n",
    "least_square_sklearn = regr.predict(t.reshape(-1, 1))\n",
    "\n",
    "fig, ax = plt.subplots()\n",
    "plt.scatter(t, b)\n",
    "plt.plot(t_linspace, least_square_plot, color='k')\n",
    "plt.plot(t_linspace, least_square_sklearn_plot, 'k--', linewidth=5)\n",
    "plt.xlabel('log(Ano)')\n",
    "plt.ylabel('log(IDEB)')\n",
    "\n",
    "plt.title('ESPÍRITO SANTO')\n",
    "\n",
    "previsao = np.log(2021)\n",
    "\n",
    "estimado = x_hat[0] + x_hat[1] * previsao\n",
    "\n",
    "print('IDEB estimado: ', np.exp(estimado))\n",
    "print('R²:', R)\n",
    "print('Modelo: b =',x_hat[1],'. t',x_hat[0])"
   ]
  },
  {
   "cell_type": "markdown",
   "metadata": {},
   "source": [
    "### GOIÁS"
   ]
  },
  {
   "cell_type": "code",
   "execution_count": 423,
   "metadata": {},
   "outputs": [
    {
     "name": "stdout",
     "output_type": "stream",
     "text": [
      "[-474.17218678   62.55248918]\n",
      "O coeficiente angular é 62.55248917553731\n"
     ]
    }
   ],
   "source": [
    "GO = data['GO'].values\n",
    "Ano = data['Ano'].values\n",
    "\n",
    "t = np.log(Ano)\n",
    "ones = np.ones(len(t))\n",
    "b = np.log(GO)\n",
    "\n",
    "A = np.array([ones, t]).T\n",
    "\n",
    "AtA = A.T @ A\n",
    "Atb = A.T @ b\n",
    "\n",
    "x_hat = np.linalg.solve(AtA, Atb)\n",
    "\n",
    "print(x_hat)\n",
    "print('O coeficiente angular é', x_hat[1])"
   ]
  },
  {
   "cell_type": "code",
   "execution_count": 424,
   "metadata": {},
   "outputs": [
    {
     "name": "stdout",
     "output_type": "stream",
     "text": [
      "SEQ:  0.010300443790495245\n",
      "R²: 0.9937844790630131\n"
     ]
    }
   ],
   "source": [
    "t_linspace = np.linspace(np.min(t), np.max(t), 101)\n",
    "\n",
    "least_square = x_hat[0] + x_hat[1] * t\n",
    "least_square_plot = x_hat[0] + x_hat[1] * t_linspace\n",
    "\n",
    "SEQ = np.sum((least_square - b)**2)\n",
    "SEQ_m = np.mean(least_square)\n",
    "R = (SEQ_m -SEQ)/SEQ_m\n",
    "\n",
    "print('SEQ: ', SEQ)\n",
    "print('R²:', R)"
   ]
  },
  {
   "cell_type": "code",
   "execution_count": 425,
   "metadata": {},
   "outputs": [
    {
     "name": "stdout",
     "output_type": "stream",
     "text": [
      "IDEB estimado:  6.934846544878836\n",
      "R²: 0.9937844790630131\n",
      "Modelo: b = 62.55248917553731 . t -474.1721867782497\n"
     ]
    },
    {
     "data": {
      "image/png": "[encoded data removed]",
      "text/plain": [
       "<Figure size 288x216 with 1 Axes>"
      ]
     },
     "metadata": {},
     "output_type": "display_data"
    }
   ],
   "source": [
    "regr = linear_model.LinearRegression()\n",
    "regr.fit(t.reshape(-1, 1), b)\n",
    "\n",
    "least_square_sklearn_plot = regr.predict(t_linspace.reshape(-1, 1))\n",
    "least_square_sklearn = regr.predict(t.reshape(-1, 1))\n",
    "\n",
    "fig, ax = plt.subplots()\n",
    "plt.scatter(t, b)\n",
    "plt.plot(t_linspace, least_square_plot, color='k')\n",
    "plt.plot(t_linspace, least_square_sklearn_plot, 'k--', linewidth=5)\n",
    "plt.xlabel('log(Ano)')\n",
    "plt.ylabel('log(IDEB)')\n",
    "plt.title('GOIÁS')\n",
    "\n",
    "previsao = np.log(2021)\n",
    "\n",
    "estimado = x_hat[0] + x_hat[1] * previsao\n",
    "\n",
    "print('IDEB estimado: ', np.exp(estimado))\n",
    "print('R²:', R)\n",
    "print('Modelo: b =',x_hat[1],'. t',x_hat[0])"
   ]
  },
  {
   "cell_type": "markdown",
   "metadata": {},
   "source": [
    "### MARANHÃO"
   ]
  },
  {
   "cell_type": "code",
   "execution_count": 426,
   "metadata": {},
   "outputs": [
    {
     "name": "stdout",
     "output_type": "stream",
     "text": [
      "[-509.75294688   67.19710706]\n",
      "O coeficiente angular é 67.19710705544226\n"
     ]
    }
   ],
   "source": [
    "MA = data['MA'].values\n",
    "Ano = data['Ano'].values\n",
    "\n",
    "t = np.log(Ano)\n",
    "ones = np.ones(len(t))\n",
    "b = np.log(MA)\n",
    "\n",
    "A = np.array([ones, t]).T\n",
    "\n",
    "AtA = A.T @ A\n",
    "Atb = A.T @ b\n",
    "\n",
    "x_hat = np.linalg.solve(AtA, Atb)\n",
    "\n",
    "print(x_hat)\n",
    "print('O coeficiente angular é', x_hat[1])"
   ]
  },
  {
   "cell_type": "code",
   "execution_count": 427,
   "metadata": {},
   "outputs": [
    {
     "name": "stdout",
     "output_type": "stream",
     "text": [
      "SEQ:  0.02292540309706028\n",
      "R²: 0.9837121200954437\n"
     ]
    }
   ],
   "source": [
    "t_linspace = np.linspace(np.min(t), np.max(t), 101)\n",
    "\n",
    "least_square = x_hat[0] + x_hat[1] * t\n",
    "least_square_plot = x_hat[0] + x_hat[1] * t_linspace\n",
    "\n",
    "SEQ = np.sum((least_square - b)**2)\n",
    "SEQ_m = np.mean(least_square)\n",
    "R = (SEQ_m -SEQ)/SEQ_m\n",
    "\n",
    "print('SEQ: ', SEQ)\n",
    "print('R²:', R)"
   ]
  },
  {
   "cell_type": "code",
   "execution_count": 428,
   "metadata": {},
   "outputs": [
    {
     "name": "stdout",
     "output_type": "stream",
     "text": [
      "IDEB estimado:  5.515710743889038\n",
      "R²: 0.9837121200954437\n",
      "Modelo: b = 67.19710705544226 . t -509.75294688348015\n"
     ]
    },
    {
     "data": {
      "image/png": "[encoded data removed]",
      "text/plain": [
       "<Figure size 288x216 with 1 Axes>"
      ]
     },
     "metadata": {},
     "output_type": "display_data"
    }
   ],
   "source": [
    "regr = linear_model.LinearRegression()\n",
    "regr.fit(t.reshape(-1, 1), b)\n",
    "\n",
    "least_square_sklearn_plot = regr.predict(t_linspace.reshape(-1, 1))\n",
    "least_square_sklearn = regr.predict(t.reshape(-1, 1))\n",
    "\n",
    "fig, ax = plt.subplots()\n",
    "plt.scatter(t, b)\n",
    "plt.plot(t_linspace, least_square_plot, color='k')\n",
    "plt.plot(t_linspace, least_square_sklearn_plot, 'k--', linewidth=5)\n",
    "plt.xlabel('log(Ano)')\n",
    "plt.ylabel('log(IDEB)')\n",
    "\n",
    "plt.title('MARANHÃO')\n",
    "\n",
    "previsao = np.log(2021)\n",
    "\n",
    "estimado = x_hat[0] + x_hat[1] * previsao\n",
    "\n",
    "print('IDEB estimado: ', np.exp(estimado))\n",
    "print('R²:', R)\n",
    "print('Modelo: b =',x_hat[1],'. t',x_hat[0])"
   ]
  },
  {
   "cell_type": "markdown",
   "metadata": {},
   "source": [
    "### MATO GROSSO"
   ]
  },
  {
   "cell_type": "code",
   "execution_count": 429,
   "metadata": {},
   "outputs": [
    {
     "name": "stdout",
     "output_type": "stream",
     "text": [
      "[-492.04523928   64.89684339]\n",
      "O coeficiente angular é 64.89684338771394\n"
     ]
    }
   ],
   "source": [
    "MT = data['MT'].values\n",
    "Ano = data['Ano'].values\n",
    "\n",
    "t = np.log(Ano)\n",
    "ones = np.ones(len(t))\n",
    "b = np.log(MT)\n",
    "\n",
    "A = np.array([ones, t]).T\n",
    "\n",
    "AtA = A.T @ A\n",
    "Atb = A.T @ b\n",
    "\n",
    "x_hat = np.linalg.solve(AtA, Atb)\n",
    "\n",
    "print(x_hat)\n",
    "print('O coeficiente angular é', x_hat[1])"
   ]
  },
  {
   "cell_type": "code",
   "execution_count": 430,
   "metadata": {},
   "outputs": [
    {
     "name": "stdout",
     "output_type": "stream",
     "text": [
      "SEQ:  0.025120123097199232\n",
      "R²: 0.9844686947552496\n"
     ]
    }
   ],
   "source": [
    "t_linspace = np.linspace(np.min(t), np.max(t), 101)\n",
    "\n",
    "least_square = x_hat[0] + x_hat[1] * t\n",
    "least_square_plot = x_hat[0] + x_hat[1] * t_linspace\n",
    "\n",
    "SEQ = np.sum((least_square - b)**2)\n",
    "SEQ_m = np.mean(least_square)\n",
    "R = (SEQ_m -SEQ)/SEQ_m\n",
    "\n",
    "print('SEQ: ', SEQ)\n",
    "print('R²:', R)"
   ]
  },
  {
   "cell_type": "code",
   "execution_count": 431,
   "metadata": {},
   "outputs": [
    {
     "name": "stdout",
     "output_type": "stream",
     "text": [
      "IDEB estimado:  6.734216714350742\n",
      "R²: 0.9844686947552496\n",
      "Modelo: b = 64.89684338771394 . t -492.04523928344247\n"
     ]
    },
    {
     "data": {
      "image/png": "[encoded data removed]",
      "text/plain": [
       "<Figure size 288x216 with 1 Axes>"
      ]
     },
     "metadata": {},
     "output_type": "display_data"
    }
   ],
   "source": [
    "regr = linear_model.LinearRegression()\n",
    "regr.fit(t.reshape(-1, 1), b)\n",
    "\n",
    "least_square_sklearn_plot = regr.predict(t_linspace.reshape(-1, 1))\n",
    "least_square_sklearn = regr.predict(t.reshape(-1, 1))\n",
    "\n",
    "fig, ax = plt.subplots()\n",
    "plt.scatter(t, b)\n",
    "plt.plot(t_linspace, least_square_plot, color='k')\n",
    "plt.plot(t_linspace, least_square_sklearn_plot, 'k--', linewidth=5)\n",
    "plt.xlabel('log(Ano)')\n",
    "plt.ylabel('log(IDEB)')\n",
    "plt.title('MATO GROSSO')\n",
    "\n",
    "previsao = np.log(2021)\n",
    "\n",
    "estimado = x_hat[0] + x_hat[1] * previsao\n",
    "\n",
    "print('IDEB estimado: ', np.exp(estimado))\n",
    "print('R²:', R)\n",
    "print('Modelo: b =',x_hat[1],'. t',x_hat[0])"
   ]
  },
  {
   "cell_type": "markdown",
   "metadata": {},
   "source": [
    "### MATO GROSSO DO SUL"
   ]
  },
  {
   "cell_type": "code",
   "execution_count": 432,
   "metadata": {},
   "outputs": [
    {
     "name": "stdout",
     "output_type": "stream",
     "text": [
      "[-470.60395239   62.07472449]\n",
      "O coeficiente angular é 62.07472448978087\n"
     ]
    }
   ],
   "source": [
    "MS = data['MS'].values\n",
    "Ano = data['Ano'].values\n",
    "\n",
    "t = np.log(Ano)\n",
    "ones = np.ones(len(t))\n",
    "b = np.log(MS)\n",
    "\n",
    "A = np.array([ones, t]).T\n",
    "\n",
    "AtA = A.T @ A\n",
    "Atb = A.T @ b\n",
    "\n",
    "x_hat = np.linalg.solve(AtA, Atb)\n",
    "\n",
    "print(x_hat)\n",
    "print('O coeficiente angular é', x_hat[1])"
   ]
  },
  {
   "cell_type": "code",
   "execution_count": 433,
   "metadata": {},
   "outputs": [
    {
     "name": "stdout",
     "output_type": "stream",
     "text": [
      "SEQ:  0.020376246719834526\n",
      "R²: 0.9871939973698112\n"
     ]
    }
   ],
   "source": [
    "t_linspace = np.linspace(np.min(t), np.max(t), 101)\n",
    "\n",
    "least_square = x_hat[0] + x_hat[1] * t\n",
    "least_square_plot = x_hat[0] + x_hat[1] * t_linspace\n",
    "\n",
    "SEQ = np.sum((least_square - b)**2)\n",
    "SEQ_m = np.mean(least_square)\n",
    "R = (SEQ_m -SEQ)/SEQ_m\n",
    "\n",
    "print('SEQ: ', SEQ)\n",
    "print('R²:', R)"
   ]
  },
  {
   "cell_type": "code",
   "execution_count": 434,
   "metadata": {},
   "outputs": [
    {
     "name": "stdout",
     "output_type": "stream",
     "text": [
      "IDEB estimado:  6.47766534429917\n",
      "R²: 0.9871939973698112\n",
      "Modelo: b = 62.07472448978087 . t -470.60395239468045\n"
     ]
    },
    {
     "data": {
      "image/png": "[encoded data removed]",
      "text/plain": [
       "<Figure size 288x216 with 1 Axes>"
      ]
     },
     "metadata": {},
     "output_type": "display_data"
    }
   ],
   "source": [
    "regr = linear_model.LinearRegression()\n",
    "regr.fit(t.reshape(-1, 1), b)\n",
    "\n",
    "least_square_sklearn_plot = regr.predict(t_linspace.reshape(-1, 1))\n",
    "least_square_sklearn = regr.predict(t.reshape(-1, 1))\n",
    "\n",
    "fig, ax = plt.subplots()\n",
    "plt.scatter(t, b)\n",
    "plt.plot(t_linspace, least_square_plot, color='k')\n",
    "plt.plot(t_linspace, least_square_sklearn_plot, 'k--', linewidth=5)\n",
    "plt.xlabel('log(Ano)')\n",
    "plt.ylabel('log(IDEB)')\n",
    "plt.title('MATO GROSSO DO SUL')\n",
    "\n",
    "previsao = np.log(2021)\n",
    "\n",
    "estimado = x_hat[0] + x_hat[1] * previsao\n",
    "\n",
    "print('IDEB estimado: ', np.exp(estimado))\n",
    "print('R²:', R)\n",
    "print('Modelo: b =',x_hat[1],'. t',x_hat[0])"
   ]
  },
  {
   "cell_type": "markdown",
   "metadata": {},
   "source": [
    "### MINAS GERAIS"
   ]
  },
  {
   "cell_type": "code",
   "execution_count": 435,
   "metadata": {},
   "outputs": [
    {
     "name": "stdout",
     "output_type": "stream",
     "text": [
      "[-388.05568312   51.24357748]\n",
      "O coeficiente angular é 51.24357748251072\n"
     ]
    }
   ],
   "source": [
    "MG = data['MG'].values\n",
    "Ano = data['Ano'].values\n",
    "\n",
    "t = np.log(Ano)\n",
    "ones = np.ones(len(t))\n",
    "b = np.log(MG)\n",
    "\n",
    "A = np.array([ones, t]).T\n",
    "\n",
    "AtA = A.T @ A\n",
    "Atb = A.T @ b\n",
    "\n",
    "x_hat = np.linalg.solve(AtA, Atb)\n",
    "\n",
    "print(x_hat)\n",
    "print('O coeficiente angular é', x_hat[1])"
   ]
  },
  {
   "cell_type": "code",
   "execution_count": 436,
   "metadata": {},
   "outputs": [
    {
     "name": "stdout",
     "output_type": "stream",
     "text": [
      "SEQ:  0.015590340746816686\n",
      "R²: 0.9910818613567389\n"
     ]
    }
   ],
   "source": [
    "t_linspace = np.linspace(np.min(t), np.max(t), 101)\n",
    "\n",
    "least_square = x_hat[0] + x_hat[1] * t\n",
    "least_square_plot = x_hat[0] + x_hat[1] * t_linspace\n",
    "\n",
    "SEQ = np.sum((least_square - b)**2)\n",
    "SEQ_m = np.mean(least_square)\n",
    "R = (SEQ_m -SEQ)/SEQ_m\n",
    "\n",
    "print('SEQ: ', SEQ)\n",
    "print('R²:', R)"
   ]
  },
  {
   "cell_type": "code",
   "execution_count": 437,
   "metadata": {},
   "outputs": [
    {
     "name": "stdout",
     "output_type": "stream",
     "text": [
      "IDEB estimado:  7.221071743627761\n",
      "R²: 0.9910818613567389\n",
      "Modelo: b = 51.24357748251072 . t -388.05568312026946\n"
     ]
    },
    {
     "data": {
      "image/png": "[encoded data removed]",
      "text/plain": [
       "<Figure size 288x216 with 1 Axes>"
      ]
     },
     "metadata": {},
     "output_type": "display_data"
    }
   ],
   "source": [
    "regr = linear_model.LinearRegression()\n",
    "regr.fit(t.reshape(-1, 1), b)\n",
    "\n",
    "least_square_sklearn_plot = regr.predict(t_linspace.reshape(-1, 1))\n",
    "least_square_sklearn = regr.predict(t.reshape(-1, 1))\n",
    "\n",
    "fig, ax = plt.subplots()\n",
    "plt.scatter(t, b)\n",
    "plt.plot(t_linspace, least_square_plot, color='k')\n",
    "plt.plot(t_linspace, least_square_sklearn_plot, 'k--', linewidth=5)\n",
    "plt.xlabel('log(Ano)')\n",
    "plt.ylabel('log(IDEB)')\n",
    "\n",
    "plt.title('MINAS GERAIS')\n",
    "\n",
    "previsao = np.log(2021)\n",
    "\n",
    "estimado = x_hat[0] + x_hat[1] * previsao\n",
    "\n",
    "print('IDEB estimado: ', np.exp(estimado))\n",
    "print('R²:', R)\n",
    "print('Modelo: b =',x_hat[1],'. t',x_hat[0])"
   ]
  },
  {
   "cell_type": "markdown",
   "metadata": {},
   "source": [
    "### PARÁ"
   ]
  },
  {
   "cell_type": "code",
   "execution_count": 438,
   "metadata": {},
   "outputs": [
    {
     "name": "stdout",
     "output_type": "stream",
     "text": [
      "[-601.74408354   79.28440518]\n",
      "O coeficiente angular é 79.28440518305621\n"
     ]
    }
   ],
   "source": [
    "PA = data['PA'].values\n",
    "Ano = data['Ano'].values\n",
    "\n",
    "t = np.log(Ano)\n",
    "ones = np.ones(len(t))\n",
    "b = np.log(PA)\n",
    "\n",
    "A = np.array([ones, t]).T\n",
    "\n",
    "AtA = A.T @ A\n",
    "Atb = A.T @ b\n",
    "\n",
    "x_hat = np.linalg.solve(AtA, Atb)\n",
    "\n",
    "print(x_hat)\n",
    "print('O coeficiente angular é', x_hat[1])"
   ]
  },
  {
   "cell_type": "code",
   "execution_count": 439,
   "metadata": {},
   "outputs": [
    {
     "name": "stdout",
     "output_type": "stream",
     "text": [
      "SEQ:  0.02152767644399744\n",
      "R²: 0.9842059698516434\n"
     ]
    }
   ],
   "source": [
    "t_linspace = np.linspace(np.min(t), np.max(t), 101)\n",
    "\n",
    "least_square = x_hat[0] + x_hat[1] * t\n",
    "least_square_plot = x_hat[0] + x_hat[1] * t_linspace\n",
    "\n",
    "SEQ = np.sum((least_square - b)**2)\n",
    "SEQ_m = np.mean(least_square)\n",
    "R = (SEQ_m -SEQ)/SEQ_m\n",
    "\n",
    "print('SEQ: ', SEQ)\n",
    "print('R²:', R)"
   ]
  },
  {
   "cell_type": "code",
   "execution_count": 440,
   "metadata": {},
   "outputs": [
    {
     "name": "stdout",
     "output_type": "stream",
     "text": [
      "IDEB estimado:  5.568317148526994\n",
      "R²: 0.9842059698516434\n",
      "Modelo: b = 79.28440518305621 . t -601.7440835352023\n"
     ]
    },
    {
     "data": {
      "image/png": "[encoded data removed]",
      "text/plain": [
       "<Figure size 288x216 with 1 Axes>"
      ]
     },
     "metadata": {},
     "output_type": "display_data"
    }
   ],
   "source": [
    "regr = linear_model.LinearRegression()\n",
    "regr.fit(t.reshape(-1, 1), b)\n",
    "\n",
    "least_square_sklearn_plot = regr.predict(t_linspace.reshape(-1, 1))\n",
    "least_square_sklearn = regr.predict(t.reshape(-1, 1))\n",
    "\n",
    "fig, ax = plt.subplots()\n",
    "plt.scatter(t, b)\n",
    "plt.plot(t_linspace, least_square_plot, color='k')\n",
    "plt.plot(t_linspace, least_square_sklearn_plot, 'k--', linewidth=5)\n",
    "plt.xlabel('log(Ano)')\n",
    "plt.ylabel('log(IDEB)')\n",
    "plt.title('PARÁ')\n",
    "\n",
    "previsao = np.log(2021)\n",
    "\n",
    "estimado = x_hat[0] + x_hat[1] * previsao\n",
    "\n",
    "print('IDEB estimado: ', np.exp(estimado))\n",
    "print('R²:', R)\n",
    "print('Modelo: b =',x_hat[1],'. t',x_hat[0])"
   ]
  },
  {
   "cell_type": "markdown",
   "metadata": {},
   "source": [
    "### PARAÍBA"
   ]
  },
  {
   "cell_type": "code",
   "execution_count": 441,
   "metadata": {},
   "outputs": [
    {
     "name": "stdout",
     "output_type": "stream",
     "text": [
      "[-624.72851959   82.31656429]\n",
      "O coeficiente angular é 82.31656428507661\n"
     ]
    }
   ],
   "source": [
    "PB = data['PB'].values\n",
    "Ano = data['Ano'].values\n",
    "\n",
    "t = np.log(Ano)\n",
    "ones = np.ones(len(t))\n",
    "b = np.log(PB)\n",
    "\n",
    "A = np.array([ones, t]).T\n",
    "\n",
    "AtA = A.T @ A\n",
    "Atb = A.T @ b\n",
    "\n",
    "x_hat = np.linalg.solve(AtA, Atb)\n",
    "\n",
    "print(x_hat)\n",
    "print('O coeficiente angular é', x_hat[1])"
   ]
  },
  {
   "cell_type": "code",
   "execution_count": 442,
   "metadata": {},
   "outputs": [
    {
     "name": "stdout",
     "output_type": "stream",
     "text": [
      "SEQ:  0.01146167401881298\n",
      "R²: 0.9920618183032918\n"
     ]
    }
   ],
   "source": [
    "t_linspace = np.linspace(np.min(t), np.max(t), 101)\n",
    "\n",
    "least_square = x_hat[0] + x_hat[1] * t\n",
    "least_square_plot = x_hat[0] + x_hat[1] * t_linspace\n",
    "\n",
    "SEQ = np.sum((least_square - b)**2)\n",
    "SEQ_m = np.mean(least_square)\n",
    "R = (SEQ_m -SEQ)/SEQ_m\n",
    "\n",
    "print('SEQ: ', SEQ)\n",
    "print('R²:', R)"
   ]
  },
  {
   "cell_type": "code",
   "execution_count": 443,
   "metadata": {},
   "outputs": [
    {
     "name": "stdout",
     "output_type": "stream",
     "text": [
      "IDEB estimado:  6.119461414484501\n",
      "R²: 0.9920618183032918\n",
      "Modelo: b = 82.31656428507661 . t -624.7285195872439\n"
     ]
    },
    {
     "data": {
      "image/png": "[encoded data removed]",
      "text/plain": [
       "<Figure size 288x216 with 1 Axes>"
      ]
     },
     "metadata": {},
     "output_type": "display_data"
    }
   ],
   "source": [
    "regr = linear_model.LinearRegression()\n",
    "regr.fit(t.reshape(-1, 1), b)\n",
    "\n",
    "least_square_sklearn_plot = regr.predict(t_linspace.reshape(-1, 1))\n",
    "least_square_sklearn = regr.predict(t.reshape(-1, 1))\n",
    "\n",
    "fig, ax = plt.subplots()\n",
    "plt.scatter(t, b)\n",
    "plt.plot(t_linspace, least_square_plot, color='k')\n",
    "plt.plot(t_linspace, least_square_sklearn_plot, 'k--', linewidth=5)\n",
    "plt.xlabel('log(Ano)')\n",
    "plt.ylabel('log(IDEB)')\n",
    "plt.title('PARAÍBA')\n",
    "\n",
    "previsao = np.log(2021)\n",
    "\n",
    "estimado = x_hat[0] + x_hat[1] * previsao\n",
    "\n",
    "print('IDEB estimado: ', np.exp(estimado))\n",
    "print('R²:', R)\n",
    "print('Modelo: b =',x_hat[1],'. t',x_hat[0])"
   ]
  },
  {
   "cell_type": "markdown",
   "metadata": {},
   "source": [
    "### PARANÁ"
   ]
  },
  {
   "cell_type": "code",
   "execution_count": 444,
   "metadata": {},
   "outputs": [
    {
     "name": "stdout",
     "output_type": "stream",
     "text": [
      "[-380.83670785   50.29296915]\n",
      "O coeficiente angular é 50.29296914585229\n"
     ]
    }
   ],
   "source": [
    "PR = data['PR'].values\n",
    "Ano = data['Ano'].values\n",
    "\n",
    "t = np.log(Ano)\n",
    "ones = np.ones(len(t))\n",
    "b = np.log(PR)\n",
    "\n",
    "A = np.array([ones, t]).T\n",
    "\n",
    "AtA = A.T @ A\n",
    "Atb = A.T @ b\n",
    "\n",
    "x_hat = np.linalg.solve(AtA, Atb)\n",
    "\n",
    "print(x_hat)\n",
    "print('O coeficiente angular é', x_hat[1])"
   ]
  },
  {
   "cell_type": "code",
   "execution_count": 445,
   "metadata": {},
   "outputs": [
    {
     "name": "stdout",
     "output_type": "stream",
     "text": [
      "SEQ:  0.004001030722145207\n",
      "R²: 0.9976952199280233\n"
     ]
    }
   ],
   "source": [
    "t_linspace = np.linspace(np.min(t), np.max(t), 101)\n",
    "\n",
    "least_square = x_hat[0] + x_hat[1] * t\n",
    "least_square_plot = x_hat[0] + x_hat[1] * t_linspace\n",
    "\n",
    "SEQ = np.sum((least_square - b)**2)\n",
    "SEQ_m = np.mean(least_square)\n",
    "R = (SEQ_m -SEQ)/SEQ_m\n",
    "\n",
    "print('SEQ: ', SEQ)\n",
    "print('R²:', R)"
   ]
  },
  {
   "cell_type": "code",
   "execution_count": 446,
   "metadata": {},
   "outputs": [
    {
     "name": "stdout",
     "output_type": "stream",
     "text": [
      "IDEB estimado:  7.103361019755176\n",
      "R²: 0.9976952199280233\n",
      "Modelo: b = 50.29296914585229 . t -380.8367078546326\n"
     ]
    },
    {
     "data": {
      "image/png": "[encoded data removed]",
      "text/plain": [
       "<Figure size 288x216 with 1 Axes>"
      ]
     },
     "metadata": {},
     "output_type": "display_data"
    }
   ],
   "source": [
    "regr = linear_model.LinearRegression()\n",
    "regr.fit(t.reshape(-1, 1), b)\n",
    "\n",
    "least_square_sklearn_plot = regr.predict(t_linspace.reshape(-1, 1))\n",
    "least_square_sklearn = regr.predict(t.reshape(-1, 1))\n",
    "\n",
    "fig, ax = plt.subplots()\n",
    "plt.scatter(t, b)\n",
    "plt.plot(t_linspace, least_square_plot, color='k')\n",
    "plt.plot(t_linspace, least_square_sklearn_plot, 'k--', linewidth=5)\n",
    "plt.xlabel('log(Ano)')\n",
    "plt.ylabel('log(IDEB)')\n",
    "plt.title('PARANÁ')\n",
    "\n",
    "previsao = np.log(2021)\n",
    "\n",
    "estimado = x_hat[0] + x_hat[1] * previsao\n",
    "\n",
    "print('IDEB estimado: ', np.exp(estimado))\n",
    "print('R²:', R)\n",
    "print('Modelo: b =',x_hat[1],'. t',x_hat[0])"
   ]
  },
  {
   "cell_type": "markdown",
   "metadata": {},
   "source": [
    "### PERNAMBUCO"
   ]
  },
  {
   "cell_type": "code",
   "execution_count": 447,
   "metadata": {},
   "outputs": [
    {
     "name": "stdout",
     "output_type": "stream",
     "text": [
      "[-573.84239999   75.63156842]\n",
      "O coeficiente angular é 75.63156841981582\n"
     ]
    }
   ],
   "source": [
    "PE = data['PE'].values\n",
    "Ano = data['Ano'].values\n",
    "\n",
    "t = np.log(Ano)\n",
    "ones = np.ones(len(t))\n",
    "b = np.log(PE)\n",
    "\n",
    "A = np.array([ones, t]).T\n",
    "\n",
    "AtA = A.T @ A\n",
    "Atb = A.T @ b\n",
    "\n",
    "x_hat = np.linalg.solve(AtA, Atb)\n",
    "\n",
    "print(x_hat)\n",
    "print('O coeficiente angular é', x_hat[1])"
   ]
  },
  {
   "cell_type": "code",
   "execution_count": 448,
   "metadata": {},
   "outputs": [
    {
     "name": "stdout",
     "output_type": "stream",
     "text": [
      "SEQ:  0.008095426657645175\n",
      "R²: 0.9945227588339706\n"
     ]
    }
   ],
   "source": [
    "t_linspace = np.linspace(np.min(t), np.max(t), 101)\n",
    "\n",
    "least_square = x_hat[0] + x_hat[1] * t\n",
    "least_square_plot = x_hat[0] + x_hat[1] * t_linspace\n",
    "\n",
    "SEQ = np.sum((least_square - b)**2)\n",
    "SEQ_m = np.mean(least_square)\n",
    "R = (SEQ_m -SEQ)/SEQ_m\n",
    "\n",
    "print('SEQ: ', SEQ)\n",
    "print('R²:', R)"
   ]
  },
  {
   "cell_type": "code",
   "execution_count": 449,
   "metadata": {},
   "outputs": [
    {
     "name": "stdout",
     "output_type": "stream",
     "text": [
      "IDEB estimado:  6.145780001776215\n",
      "R²: 0.9945227588339706\n",
      "Modelo: b = 75.63156841981582 . t -573.8423999881038\n"
     ]
    },
    {
     "data": {
      "image/png": "[encoded data removed]",
      "text/plain": [
       "<Figure size 288x216 with 1 Axes>"
      ]
     },
     "metadata": {},
     "output_type": "display_data"
    }
   ],
   "source": [
    "regr = linear_model.LinearRegression()\n",
    "regr.fit(t.reshape(-1, 1), b)\n",
    "\n",
    "least_square_sklearn_plot = regr.predict(t_linspace.reshape(-1, 1))\n",
    "least_square_sklearn = regr.predict(t.reshape(-1, 1))\n",
    "\n",
    "fig, ax = plt.subplots()\n",
    "plt.scatter(t, b)\n",
    "plt.plot(t_linspace, least_square_plot, color='k')\n",
    "plt.plot(t_linspace, least_square_sklearn_plot, 'k--', linewidth=5)\n",
    "plt.xlabel('log(Ano)')\n",
    "plt.ylabel('log(IDEB)')\n",
    "plt.title('PERNAMBUCO')\n",
    "\n",
    "previsao = np.log(2021)\n",
    "\n",
    "estimado = x_hat[0] + x_hat[1] * previsao\n",
    "\n",
    "print('IDEB estimado: ', np.exp(estimado))\n",
    "print('R²:', R)\n",
    "print('Modelo: b =',x_hat[1],'. t',x_hat[0])"
   ]
  },
  {
   "cell_type": "markdown",
   "metadata": {},
   "source": [
    "### PIAUÍ"
   ]
  },
  {
   "cell_type": "code",
   "execution_count": 450,
   "metadata": {},
   "outputs": [
    {
     "name": "stdout",
     "output_type": "stream",
     "text": [
      "[-698.51682858   92.01842558]\n",
      "O coeficiente angular é 92.0184255775471\n"
     ]
    }
   ],
   "source": [
    "PI = data['PI'].values\n",
    "Ano = data['Ano'].values\n",
    "\n",
    "t = np.log(Ano)\n",
    "ones = np.ones(len(t))\n",
    "b = np.log(PI)\n",
    "\n",
    "A = np.array([ones, t]).T\n",
    "\n",
    "AtA = A.T @ A\n",
    "Atb = A.T @ b\n",
    "\n",
    "x_hat = np.linalg.solve(AtA, Atb)\n",
    "\n",
    "print(x_hat)\n",
    "print('O coeficiente angular é', x_hat[1])"
   ]
  },
  {
   "cell_type": "code",
   "execution_count": 451,
   "metadata": {},
   "outputs": [
    {
     "name": "stdout",
     "output_type": "stream",
     "text": [
      "SEQ:  0.023018791292171374\n",
      "R²: 0.9841955016647085\n"
     ]
    }
   ],
   "source": [
    "t_linspace = np.linspace(np.min(t), np.max(t), 101)\n",
    "\n",
    "least_square = x_hat[0] + x_hat[1] * t\n",
    "least_square_plot = x_hat[0] + x_hat[1] * t_linspace\n",
    "\n",
    "SEQ = np.sum((least_square - b)**2)\n",
    "SEQ_m = np.mean(least_square)\n",
    "R = (SEQ_m -SEQ)/SEQ_m\n",
    "\n",
    "print('SEQ: ', SEQ)\n",
    "print('R²:', R)"
   ]
  },
  {
   "cell_type": "code",
   "execution_count": 452,
   "metadata": {},
   "outputs": [
    {
     "name": "stdout",
     "output_type": "stream",
     "text": [
      "IDEB estimado:  6.471480470297741\n",
      "R²: 0.9841955016647085\n",
      "Modelo: b = 92.0184255775471 . t -698.5168285756438\n"
     ]
    },
    {
     "data": {
      "image/png": "[encoded data removed]",
      "text/plain": [
       "<Figure size 288x216 with 1 Axes>"
      ]
     },
     "metadata": {},
     "output_type": "display_data"
    }
   ],
   "source": [
    "regr = linear_model.LinearRegression()\n",
    "regr.fit(t.reshape(-1, 1), b)\n",
    "\n",
    "least_square_sklearn_plot = regr.predict(t_linspace.reshape(-1, 1))\n",
    "least_square_sklearn = regr.predict(t.reshape(-1, 1))\n",
    "\n",
    "fig, ax = plt.subplots()\n",
    "plt.scatter(t, b)\n",
    "plt.plot(t_linspace, least_square_plot, color='k')\n",
    "plt.plot(t_linspace, least_square_sklearn_plot, 'k--', linewidth=5)\n",
    "plt.xlabel('log(Ano)')\n",
    "plt.ylabel('log(IDEB)')\n",
    "plt.title('PIAUÍ')\n",
    "\n",
    "previsao = np.log(2021)\n",
    "\n",
    "estimado = x_hat[0] + x_hat[1] * previsao\n",
    "\n",
    "print('IDEB estimado: ', np.exp(estimado))\n",
    "print('R²:', R)\n",
    "print('Modelo: b =',x_hat[1],'. t',x_hat[0])"
   ]
  },
  {
   "cell_type": "markdown",
   "metadata": {},
   "source": [
    "### RIO DE JANEIRO"
   ]
  },
  {
   "cell_type": "code",
   "execution_count": 453,
   "metadata": {},
   "outputs": [
    {
     "name": "stdout",
     "output_type": "stream",
     "text": [
      "[-359.804935     47.51331835]\n",
      "O coeficiente angular é 47.51331835064216\n"
     ]
    }
   ],
   "source": [
    "RJ = data['RJ'].values\n",
    "Ano = data['Ano'].values\n",
    "\n",
    "t = np.log(Ano)\n",
    "ones = np.ones(len(t))\n",
    "b = np.log(RJ)\n",
    "\n",
    "A = np.array([ones, t]).T\n",
    "\n",
    "AtA = A.T @ A\n",
    "Atb = A.T @ b\n",
    "\n",
    "x_hat = np.linalg.solve(AtA, Atb)\n",
    "\n",
    "print(x_hat)\n",
    "print('O coeficiente angular é', x_hat[1])"
   ]
  },
  {
   "cell_type": "code",
   "execution_count": 454,
   "metadata": {},
   "outputs": [
    {
     "name": "stdout",
     "output_type": "stream",
     "text": [
      "SEQ:  0.002770030014717909\n",
      "R²: 0.9982935474818602\n"
     ]
    }
   ],
   "source": [
    "t_linspace = np.linspace(np.min(t), np.max(t), 101)\n",
    "\n",
    "least_square = x_hat[0] + x_hat[1] * t\n",
    "least_square_plot = x_hat[0] + x_hat[1] * t_linspace\n",
    "\n",
    "SEQ = np.sum((least_square - b)**2)\n",
    "SEQ_m = np.mean(least_square)\n",
    "R = (SEQ_m -SEQ)/SEQ_m\n",
    "\n",
    "print('SEQ: ', SEQ)\n",
    "print('R²:', R)"
   ]
  },
  {
   "cell_type": "code",
   "execution_count": 455,
   "metadata": {},
   "outputs": [
    {
     "name": "stdout",
     "output_type": "stream",
     "text": [
      "IDEB estimado:  6.267967700244845\n",
      "R²: 0.9982935474818602\n",
      "Modelo: b = 47.51331835064216 . t -359.80493500307114\n"
     ]
    },
    {
     "data": {
      "image/png": "[encoded data removed]",
      "text/plain": [
       "<Figure size 288x216 with 1 Axes>"
      ]
     },
     "metadata": {},
     "output_type": "display_data"
    }
   ],
   "source": [
    "regr = linear_model.LinearRegression()\n",
    "regr.fit(t.reshape(-1, 1), b)\n",
    "\n",
    "least_square_sklearn_plot = regr.predict(t_linspace.reshape(-1, 1))\n",
    "least_square_sklearn = regr.predict(t.reshape(-1, 1))\n",
    "\n",
    "fig, ax = plt.subplots()\n",
    "plt.scatter(t, b)\n",
    "plt.plot(t_linspace, least_square_plot, color='k')\n",
    "plt.plot(t_linspace, least_square_sklearn_plot, 'k--', linewidth=5)\n",
    "plt.xlabel('log(Ano)')\n",
    "plt.ylabel('log(IDEB)')\n",
    "plt.title('RIO DE JANEIRO')\n",
    "\n",
    "previsao = np.log(2021)\n",
    "\n",
    "estimado = x_hat[0] + x_hat[1] * previsao\n",
    "\n",
    "print('IDEB estimado: ', np.exp(estimado))\n",
    "print('R²:', R)\n",
    "print('Modelo: b =',x_hat[1],'. t',x_hat[0])"
   ]
  },
  {
   "cell_type": "markdown",
   "metadata": {},
   "source": [
    "### RIO GRANDE DO NORTE"
   ]
  },
  {
   "cell_type": "code",
   "execution_count": 456,
   "metadata": {},
   "outputs": [
    {
     "name": "stdout",
     "output_type": "stream",
     "text": [
      "[-655.57349847   86.3672747 ]\n",
      "O coeficiente angular é 86.367274704969\n"
     ]
    }
   ],
   "source": [
    "RN = data['RN'].values\n",
    "Ano = data['Ano'].values\n",
    "\n",
    "t = np.log(Ano)\n",
    "ones = np.ones(len(t))\n",
    "b = np.log(RN)\n",
    "\n",
    "A = np.array([ones, t]).T\n",
    "\n",
    "AtA = A.T @ A\n",
    "Atb = A.T @ b\n",
    "\n",
    "x_hat = np.linalg.solve(AtA, Atb)\n",
    "\n",
    "print(x_hat)\n",
    "print('O coeficiente angular é', x_hat[1])"
   ]
  },
  {
   "cell_type": "code",
   "execution_count": 457,
   "metadata": {},
   "outputs": [
    {
     "name": "stdout",
     "output_type": "stream",
     "text": [
      "SEQ:  0.028178015404995017\n",
      "R²: 0.9800462084719069\n"
     ]
    }
   ],
   "source": [
    "t_linspace = np.linspace(np.min(t), np.max(t), 101)\n",
    "\n",
    "least_square = x_hat[0] + x_hat[1] * t\n",
    "least_square_plot = x_hat[0] + x_hat[1] * t_linspace\n",
    "\n",
    "SEQ = np.sum((least_square - b)**2)\n",
    "SEQ_m = np.mean(least_square)\n",
    "R = (SEQ_m -SEQ)/SEQ_m\n",
    "\n",
    "print('SEQ: ', SEQ)\n",
    "print('R²:', R)"
   ]
  },
  {
   "cell_type": "code",
   "execution_count": 458,
   "metadata": {},
   "outputs": [
    {
     "name": "stdout",
     "output_type": "stream",
     "text": [
      "IDEB estimado:  6.036719360166841\n",
      "R²: 0.9800462084719069\n",
      "Modelo: b = 86.367274704969 . t -655.5734984719415\n"
     ]
    },
    {
     "data": {
      "image/png": "[encoded data removed]",
      "text/plain": [
       "<Figure size 288x216 with 1 Axes>"
      ]
     },
     "metadata": {},
     "output_type": "display_data"
    }
   ],
   "source": [
    "regr = linear_model.LinearRegression()\n",
    "regr.fit(t.reshape(-1, 1), b)\n",
    "\n",
    "least_square_sklearn_plot = regr.predict(t_linspace.reshape(-1, 1))\n",
    "least_square_sklearn = regr.predict(t.reshape(-1, 1))\n",
    "\n",
    "fig, ax = plt.subplots()\n",
    "plt.scatter(t, b)\n",
    "plt.plot(t_linspace, least_square_plot, color='k')\n",
    "plt.plot(t_linspace, least_square_sklearn_plot, 'k--', linewidth=5)\n",
    "plt.xlabel('log(Ano)')\n",
    "plt.ylabel('log(IDEB)')\n",
    "plt.title('RIO GRANDE DO NORTE')\n",
    "\n",
    "previsao = np.log(2021)\n",
    "\n",
    "estimado = x_hat[0] + x_hat[1] * previsao\n",
    "\n",
    "print('IDEB estimado: ', np.exp(estimado))\n",
    "print('R²:', R)\n",
    "print('Modelo: b =',x_hat[1],'. t',x_hat[0])"
   ]
  },
  {
   "cell_type": "markdown",
   "metadata": {},
   "source": [
    "### RIO GRANDE DO SUL"
   ]
  },
  {
   "cell_type": "code",
   "execution_count": 459,
   "metadata": {},
   "outputs": [
    {
     "name": "stdout",
     "output_type": "stream",
     "text": [
      "[-366.30045351   48.37099566]\n",
      "O coeficiente angular é 48.3709956572378\n"
     ]
    }
   ],
   "source": [
    "RS = data['RS'].values\n",
    "Ano = data['Ano'].values\n",
    "\n",
    "t = np.log(Ano)\n",
    "ones = np.ones(len(t))\n",
    "b = np.log(RS)\n",
    "\n",
    "A = np.array([ones, t]).T\n",
    "\n",
    "AtA = A.T @ A\n",
    "Atb = A.T @ b\n",
    "\n",
    "x_hat = np.linalg.solve(AtA, Atb)\n",
    "\n",
    "print(x_hat)\n",
    "print('O coeficiente angular é', x_hat[1])"
   ]
  },
  {
   "cell_type": "code",
   "execution_count": 460,
   "metadata": {},
   "outputs": [
    {
     "name": "stdout",
     "output_type": "stream",
     "text": [
      "SEQ:  0.004188143725739294\n",
      "R²: 0.9974648035088236\n"
     ]
    }
   ],
   "source": [
    "t_linspace = np.linspace(np.min(t), np.max(t), 101)\n",
    "\n",
    "least_square = x_hat[0] + x_hat[1] * t\n",
    "least_square_plot = x_hat[0] + x_hat[1] * t_linspace\n",
    "\n",
    "SEQ = np.sum((least_square - b)**2)\n",
    "SEQ_m = np.mean(least_square)\n",
    "R = (SEQ_m -SEQ)/SEQ_m\n",
    "\n",
    "print('SEQ: ', SEQ)\n",
    "print('R²:', R)"
   ]
  },
  {
   "cell_type": "code",
   "execution_count": 461,
   "metadata": {},
   "outputs": [
    {
     "name": "stdout",
     "output_type": "stream",
     "text": [
      "IDEB estimado:  6.475422637644858\n",
      "R²: 0.9974648035088236\n",
      "Modelo: b = 48.3709956572378 . t -366.3004535065788\n"
     ]
    },
    {
     "data": {
      "image/png": "[encoded data removed]",
      "text/plain": [
       "<Figure size 288x216 with 1 Axes>"
      ]
     },
     "metadata": {},
     "output_type": "display_data"
    }
   ],
   "source": [
    "regr = linear_model.LinearRegression()\n",
    "regr.fit(t.reshape(-1, 1), b)\n",
    "\n",
    "least_square_sklearn_plot = regr.predict(t_linspace.reshape(-1, 1))\n",
    "least_square_sklearn = regr.predict(t.reshape(-1, 1))\n",
    "\n",
    "fig, ax = plt.subplots()\n",
    "plt.scatter(t, b)\n",
    "plt.plot(t_linspace, least_square_plot, color='k')\n",
    "plt.plot(t_linspace, least_square_sklearn_plot, 'k--', linewidth=5)\n",
    "plt.xlabel('log(Ano)')\n",
    "plt.ylabel('log(IDEB)')\n",
    "plt.title('RIO GRANDE DO SUL')\n",
    "\n",
    "previsao = np.log(2021)\n",
    "\n",
    "estimado = x_hat[0] + x_hat[1] * previsao\n",
    "\n",
    "print('IDEB estimado: ', np.exp(estimado))\n",
    "print('R²:', R)\n",
    "print('Modelo: b =',x_hat[1],'. t',x_hat[0])"
   ]
  },
  {
   "cell_type": "markdown",
   "metadata": {},
   "source": [
    "### RONDÔNIA"
   ]
  },
  {
   "cell_type": "code",
   "execution_count": 462,
   "metadata": {},
   "outputs": [
    {
     "name": "stdout",
     "output_type": "stream",
     "text": [
      "[-521.02510358   68.699139  ]\n",
      "O coeficiente angular é 68.69913899830487\n"
     ]
    }
   ],
   "source": [
    "RO = data['RO'].values\n",
    "Ano = data['Ano'].values\n",
    "\n",
    "t = np.log(Ano)\n",
    "ones = np.ones(len(t))\n",
    "b = np.log(RO)\n",
    "\n",
    "A = np.array([ones, t]).T\n",
    "\n",
    "AtA = A.T @ A\n",
    "Atb = A.T @ b\n",
    "\n",
    "x_hat = np.linalg.solve(AtA, Atb)\n",
    "\n",
    "print(x_hat)\n",
    "print('O coeficiente angular é', x_hat[1])"
   ]
  },
  {
   "cell_type": "code",
   "execution_count": 463,
   "metadata": {},
   "outputs": [
    {
     "name": "stdout",
     "output_type": "stream",
     "text": [
      "SEQ:  0.012086644430938008\n",
      "R²: 0.9922577888197501\n"
     ]
    }
   ],
   "source": [
    "t_linspace = np.linspace(np.min(t), np.max(t), 101)\n",
    "\n",
    "least_square = x_hat[0] + x_hat[1] * t\n",
    "least_square_plot = x_hat[0] + x_hat[1] * t_linspace\n",
    "\n",
    "SEQ = np.sum((least_square - b)**2)\n",
    "SEQ_m = np.mean(least_square)\n",
    "R = (SEQ_m -SEQ)/SEQ_m\n",
    "\n",
    "print('SEQ: ', SEQ)\n",
    "print('R²:', R)"
   ]
  },
  {
   "cell_type": "code",
   "execution_count": 464,
   "metadata": {},
   "outputs": [
    {
     "name": "stdout",
     "output_type": "stream",
     "text": [
      "IDEB estimado:  6.4748874062504616\n",
      "R²: 0.9922577888197501\n",
      "Modelo: b = 68.69913899830487 . t -521.0251035839036\n"
     ]
    },
    {
     "data": {
      "image/png": "[encoded data removed]",
      "text/plain": [
       "<Figure size 288x216 with 1 Axes>"
      ]
     },
     "metadata": {},
     "output_type": "display_data"
    }
   ],
   "source": [
    "regr = linear_model.LinearRegression()\n",
    "regr.fit(t.reshape(-1, 1), b)\n",
    "\n",
    "least_square_sklearn_plot = regr.predict(t_linspace.reshape(-1, 1))\n",
    "least_square_sklearn = regr.predict(t.reshape(-1, 1))\n",
    "\n",
    "fig, ax = plt.subplots()\n",
    "plt.scatter(t, b)\n",
    "plt.plot(t_linspace, least_square_plot, color='k')\n",
    "plt.plot(t_linspace, least_square_sklearn_plot, 'k--', linewidth=5)\n",
    "plt.xlabel('log(Ano)')\n",
    "plt.ylabel('log(IDEB)')\n",
    "plt.title('RONDONIA')\n",
    "\n",
    "previsao = np.log(2021)\n",
    "\n",
    "estimado = x_hat[0] + x_hat[1] * previsao\n",
    "\n",
    "print('IDEB estimado: ', np.exp(estimado))\n",
    "print('R²:', R)\n",
    "print('Modelo: b =',x_hat[1],'. t',x_hat[0])"
   ]
  },
  {
   "cell_type": "markdown",
   "metadata": {},
   "source": [
    "### RORAIMA"
   ]
  },
  {
   "cell_type": "code",
   "execution_count": 465,
   "metadata": {},
   "outputs": [
    {
     "name": "stdout",
     "output_type": "stream",
     "text": [
      "[-465.46625063   61.39438675]\n",
      "O coeficiente angular é 61.39438675225113\n"
     ]
    }
   ],
   "source": [
    "RR = data['RR'].values\n",
    "Ano = data['Ano'].values\n",
    "\n",
    "t = np.log(Ano)\n",
    "ones = np.ones(len(t))\n",
    "b = np.log(RR)\n",
    "\n",
    "A = np.array([ones, t]).T\n",
    "\n",
    "AtA = A.T @ A\n",
    "Atb = A.T @ b\n",
    "\n",
    "x_hat = np.linalg.solve(AtA, Atb)\n",
    "\n",
    "print(x_hat)\n",
    "print('O coeficiente angular é', x_hat[1])"
   ]
  },
  {
   "cell_type": "code",
   "execution_count": 466,
   "metadata": {},
   "outputs": [
    {
     "name": "stdout",
     "output_type": "stream",
     "text": [
      "SEQ:  0.0030440623940416697\n",
      "R²: 0.9980406408323421\n"
     ]
    }
   ],
   "source": [
    "t_linspace = np.linspace(np.min(t), np.max(t), 101)\n",
    "\n",
    "least_square = x_hat[0] + x_hat[1] * t\n",
    "least_square_plot = x_hat[0] + x_hat[1] * t_linspace\n",
    "\n",
    "SEQ = np.sum((least_square - b)**2)\n",
    "SEQ_m = np.mean(least_square)\n",
    "R = (SEQ_m -SEQ)/SEQ_m\n",
    "\n",
    "print('SEQ: ', SEQ)\n",
    "print('R²:', R)"
   ]
  },
  {
   "cell_type": "code",
   "execution_count": 467,
   "metadata": {},
   "outputs": [
    {
     "name": "stdout",
     "output_type": "stream",
     "text": [
      "IDEB estimado:  6.220030680521711\n",
      "R²: 0.9980406408323421\n",
      "Modelo: b = 61.39438675225113 . t -465.46625062884306\n"
     ]
    },
    {
     "data": {
      "image/png": "[encoded data removed]",
      "text/plain": [
       "<Figure size 288x216 with 1 Axes>"
      ]
     },
     "metadata": {},
     "output_type": "display_data"
    }
   ],
   "source": [
    "regr = linear_model.LinearRegression()\n",
    "regr.fit(t.reshape(-1, 1), b)\n",
    "\n",
    "least_square_sklearn_plot = regr.predict(t_linspace.reshape(-1, 1))\n",
    "least_square_sklearn = regr.predict(t.reshape(-1, 1))\n",
    "\n",
    "fig, ax = plt.subplots()\n",
    "plt.scatter(t, b)\n",
    "plt.plot(t_linspace, least_square_plot, color='k')\n",
    "plt.plot(t_linspace, least_square_sklearn_plot, 'k--', linewidth=5)\n",
    "plt.xlabel('log(Ano)')\n",
    "plt.ylabel('log(IDEB)')\n",
    "plt.title('RORAIMA')\n",
    "\n",
    "previsao = np.log(2021)\n",
    "\n",
    "estimado = x_hat[0] + x_hat[1] * previsao\n",
    "\n",
    "print('IDEB estimado: ', np.exp(estimado))\n",
    "print('R²:', R)\n",
    "print('Modelo: b =',x_hat[1],'. t',x_hat[0])"
   ]
  },
  {
   "cell_type": "markdown",
   "metadata": {},
   "source": [
    "### SANTA CATARINA"
   ]
  },
  {
   "cell_type": "code",
   "execution_count": 468,
   "metadata": {},
   "outputs": [
    {
     "name": "stdout",
     "output_type": "stream",
     "text": [
      "[-431.46007711   56.94734576]\n",
      "O coeficiente angular é 56.947345757141456\n"
     ]
    }
   ],
   "source": [
    "SC = data['SC'].values\n",
    "Ano = data['Ano'].values\n",
    "\n",
    "t = np.log(Ano)\n",
    "ones = np.ones(len(t))\n",
    "b = np.log(SC)\n",
    "\n",
    "A = np.array([ones, t]).T\n",
    "\n",
    "AtA = A.T @ A\n",
    "Atb = A.T @ b\n",
    "\n",
    "x_hat = np.linalg.solve(AtA, Atb)\n",
    "\n",
    "print(x_hat)\n",
    "print('O coeficiente angular é', x_hat[1])"
   ]
  },
  {
   "cell_type": "code",
   "execution_count": 469,
   "metadata": {},
   "outputs": [
    {
     "name": "stdout",
     "output_type": "stream",
     "text": [
      "SEQ:  0.010549589180683109\n",
      "R²: 0.9939078127405833\n"
     ]
    }
   ],
   "source": [
    "t_linspace = np.linspace(np.min(t), np.max(t), 101)\n",
    "\n",
    "least_square = x_hat[0] + x_hat[1] * t\n",
    "least_square_plot = x_hat[0] + x_hat[1] * t_linspace\n",
    "\n",
    "SEQ = np.sum((least_square - b)**2)\n",
    "SEQ_m = np.mean(least_square)\n",
    "R = (SEQ_m -SEQ)/SEQ_m\n",
    "\n",
    "print('SEQ: ', SEQ)\n",
    "print('R²:', R)"
   ]
  },
  {
   "cell_type": "code",
   "execution_count": 470,
   "metadata": {},
   "outputs": [
    {
     "name": "stdout",
     "output_type": "stream",
     "text": [
      "IDEB estimado:  7.286133597653863\n",
      "R²: 0.9939078127405833\n",
      "Modelo: b = 56.947345757141456 . t -431.46007710618136\n"
     ]
    },
    {
     "data": {
      "image/png": "[encoded data removed]",
      "text/plain": [
       "<Figure size 288x216 with 1 Axes>"
      ]
     },
     "metadata": {},
     "output_type": "display_data"
    }
   ],
   "source": [
    "regr = linear_model.LinearRegression()\n",
    "regr.fit(t.reshape(-1, 1), b)\n",
    "\n",
    "least_square_sklearn_plot = regr.predict(t_linspace.reshape(-1, 1))\n",
    "least_square_sklearn = regr.predict(t.reshape(-1, 1))\n",
    "\n",
    "fig, ax = plt.subplots()\n",
    "plt.scatter(t, b)\n",
    "plt.plot(t_linspace, least_square_plot, color='k')\n",
    "plt.plot(t_linspace, least_square_sklearn_plot, 'k--', linewidth=5)\n",
    "plt.xlabel('log(Ano)')\n",
    "plt.ylabel('log(IDEB)')\n",
    "plt.title('SANTA CATARINA')\n",
    "\n",
    "previsao = np.log(2021)\n",
    "\n",
    "estimado = x_hat[0] + x_hat[1] * previsao\n",
    "\n",
    "print('IDEB estimado: ', np.exp(estimado))\n",
    "print('R²:', R)\n",
    "print('Modelo: b =',x_hat[1],'. t',x_hat[0])"
   ]
  },
  {
   "cell_type": "markdown",
   "metadata": {},
   "source": [
    "### SÃO PAULO"
   ]
  },
  {
   "cell_type": "code",
   "execution_count": 471,
   "metadata": {},
   "outputs": [
    {
     "name": "stdout",
     "output_type": "stream",
     "text": [
      "[-400.07718119   52.82479331]\n",
      "O coeficiente angular é 52.82479330966832\n"
     ]
    }
   ],
   "source": [
    "SP = data['SP'].values\n",
    "Ano = data['Ano'].values\n",
    "\n",
    "t = np.log(Ano)\n",
    "ones = np.ones(len(t))\n",
    "b = np.log(SP)\n",
    "\n",
    "A = np.array([ones, t]).T\n",
    "\n",
    "AtA = A.T @ A\n",
    "Atb = A.T @ b\n",
    "\n",
    "x_hat = np.linalg.solve(AtA, Atb)\n",
    "\n",
    "print(x_hat)\n",
    "print('O coeficiente angular é', x_hat[1])"
   ]
  },
  {
   "cell_type": "code",
   "execution_count": 472,
   "metadata": {},
   "outputs": [
    {
     "name": "stdout",
     "output_type": "stream",
     "text": [
      "SEQ:  0.004160247682068111\n",
      "R²: 0.997629197899365\n"
     ]
    }
   ],
   "source": [
    "t_linspace = np.linspace(np.min(t), np.max(t), 101)\n",
    "\n",
    "least_square = x_hat[0] + x_hat[1] * t\n",
    "least_square_plot = x_hat[0] + x_hat[1] * t_linspace\n",
    "\n",
    "SEQ = np.sum((least_square - b)**2)\n",
    "SEQ_m = np.mean(least_square)\n",
    "R = (SEQ_m -SEQ)/SEQ_m\n",
    "\n",
    "print('SEQ: ', SEQ)\n",
    "print('R²:', R)"
   ]
  },
  {
   "cell_type": "code",
   "execution_count": 473,
   "metadata": {},
   "outputs": [
    {
     "name": "stdout",
     "output_type": "stream",
     "text": [
      "IDEB estimado:  7.320574329938021\n",
      "R²: 0.997629197899365\n",
      "Modelo: b = 52.82479330966832 . t -400.07718119459264\n"
     ]
    },
    {
     "data": {
      "image/png": "[encoded data removed]",
      "text/plain": [
       "<Figure size 288x216 with 1 Axes>"
      ]
     },
     "metadata": {},
     "output_type": "display_data"
    }
   ],
   "source": [
    "regr = linear_model.LinearRegression()\n",
    "regr.fit(t.reshape(-1, 1), b)\n",
    "\n",
    "least_square_sklearn_plot = regr.predict(t_linspace.reshape(-1, 1))\n",
    "least_square_sklearn = regr.predict(t.reshape(-1, 1))\n",
    "\n",
    "fig, ax = plt.subplots()\n",
    "plt.scatter(t, b)\n",
    "plt.plot(t_linspace, least_square_plot, color='k')\n",
    "plt.plot(t_linspace, least_square_sklearn_plot, 'k--', linewidth=5)\n",
    "plt.xlabel('log(Ano)')\n",
    "plt.ylabel('log(IDEB)')\n",
    "plt.title('SÃO PAULO')\n",
    "\n",
    "previsao = np.log(2021)\n",
    "\n",
    "estimado = x_hat[0] + x_hat[1] * previsao\n",
    "\n",
    "print('IDEB estimado: ', np.exp(estimado))\n",
    "print('R²:', R)\n",
    "print('Modelo: b =',x_hat[1],'. t',x_hat[0])"
   ]
  },
  {
   "cell_type": "markdown",
   "metadata": {},
   "source": [
    "### SERGIPE"
   ]
  },
  {
   "cell_type": "code",
   "execution_count": 474,
   "metadata": {},
   "outputs": [
    {
     "name": "stdout",
     "output_type": "stream",
     "text": [
      "[-562.19530405   74.09173992]\n",
      "O coeficiente angular é 74.09173991828837\n"
     ]
    }
   ],
   "source": [
    "SE = data['SE'].values\n",
    "Ano = data['Ano'].values\n",
    "\n",
    "t = np.log(Ano)\n",
    "ones = np.ones(len(t))\n",
    "b = np.log(SE)\n",
    "\n",
    "A = np.array([ones, t]).T\n",
    "\n",
    "AtA = A.T @ A\n",
    "Atb = A.T @ b\n",
    "\n",
    "x_hat = np.linalg.solve(AtA, Atb)\n",
    "\n",
    "print(x_hat)\n",
    "print('O coeficiente angular é', x_hat[1])"
   ]
  },
  {
   "cell_type": "code",
   "execution_count": 475,
   "metadata": {},
   "outputs": [
    {
     "name": "stdout",
     "output_type": "stream",
     "text": [
      "SEQ:  0.008207159278979293\n",
      "R²: 0.9941867986684841\n"
     ]
    }
   ],
   "source": [
    "t_linspace = np.linspace(np.min(t), np.max(t), 101)\n",
    "\n",
    "least_square = x_hat[0] + x_hat[1] * t\n",
    "least_square_plot = x_hat[0] + x_hat[1] * t_linspace\n",
    "\n",
    "SEQ = np.sum((least_square - b)**2)\n",
    "SEQ_m = np.mean(least_square)\n",
    "R = (SEQ_m -SEQ)/SEQ_m\n",
    "\n",
    "print('SEQ: ', SEQ)\n",
    "print('R²:', R)"
   ]
  },
  {
   "cell_type": "code",
   "execution_count": 476,
   "metadata": {},
   "outputs": [
    {
     "name": "stdout",
     "output_type": "stream",
     "text": [
      "IDEB estimado:  5.712698205050424\n",
      "R²: 0.9941867986684841\n",
      "Modelo: b = 74.09173991828837 . t -562.195304053182\n"
     ]
    },
    {
     "data": {
      "image/png": "[encoded data removed]",
      "text/plain": [
       "<Figure size 288x216 with 1 Axes>"
      ]
     },
     "metadata": {},
     "output_type": "display_data"
    }
   ],
   "source": [
    "regr = linear_model.LinearRegression()\n",
    "regr.fit(t.reshape(-1, 1), b)\n",
    "\n",
    "least_square_sklearn_plot = regr.predict(t_linspace.reshape(-1, 1))\n",
    "least_square_sklearn = regr.predict(t.reshape(-1, 1))\n",
    "\n",
    "fig, ax = plt.subplots()\n",
    "plt.scatter(t, b)\n",
    "plt.plot(t_linspace, least_square_plot, color='k')\n",
    "plt.plot(t_linspace, least_square_sklearn_plot, 'k--', linewidth=5)\n",
    "plt.xlabel('log(Ano)')\n",
    "plt.ylabel('log(IDEB)')\n",
    "plt.title('SERGIPE')\n",
    "\n",
    "\n",
    "previsao = np.log(2021)\n",
    "\n",
    "estimado = x_hat[0] + x_hat[1] * previsao\n",
    "\n",
    "print('IDEB estimado: ', np.exp(estimado))\n",
    "print('R²:', R)\n",
    "print('Modelo: b =',x_hat[1],'. t',x_hat[0])"
   ]
  },
  {
   "cell_type": "markdown",
   "metadata": {},
   "source": [
    "### TOCANTINS"
   ]
  },
  {
   "cell_type": "code",
   "execution_count": 477,
   "metadata": {},
   "outputs": [
    {
     "name": "stdout",
     "output_type": "stream",
     "text": [
      "[-478.17526731   63.06564317]\n",
      "O coeficiente angular é 63.065643170704256\n"
     ]
    }
   ],
   "source": [
    "TO = data['TO'].values\n",
    "Ano = data['Ano'].values\n",
    "\n",
    "t = np.log(Ano)\n",
    "ones = np.ones(len(t))\n",
    "b = np.log(TO)\n",
    "\n",
    "A = np.array([ones, t]).T\n",
    "\n",
    "AtA = A.T @ A\n",
    "Atb = A.T @ b\n",
    "\n",
    "x_hat = np.linalg.solve(AtA, Atb)\n",
    "\n",
    "print(x_hat)\n",
    "print('O coeficiente angular é', x_hat[1])"
   ]
  },
  {
   "cell_type": "code",
   "execution_count": 478,
   "metadata": {},
   "outputs": [
    {
     "name": "stdout",
     "output_type": "stream",
     "text": [
      "SEQ:  0.018051100099071345\n",
      "R²: 0.9884112101313827\n"
     ]
    }
   ],
   "source": [
    "t_linspace = np.linspace(np.min(t), np.max(t), 101)\n",
    "\n",
    "least_square = x_hat[0] + x_hat[1] * t\n",
    "least_square_plot = x_hat[0] + x_hat[1] * t_linspace\n",
    "\n",
    "SEQ = np.sum((least_square - b)**2)\n",
    "SEQ_m = np.mean(least_square)\n",
    "R = (SEQ_m -SEQ)/SEQ_m\n",
    "\n",
    "print('SEQ: ', SEQ)\n",
    "print('R²:', R)"
   ]
  },
  {
   "cell_type": "code",
   "execution_count": 479,
   "metadata": {},
   "outputs": [
    {
     "name": "stdout",
     "output_type": "stream",
     "text": [
      "IDEB estimado:  6.291955350229018\n",
      "R²: 0.9884112101313827\n",
      "Modelo: b = 63.065643170704256 . t -478.17526730503664\n"
     ]
    },
    {
     "data": {
      "image/png": "[encoded data removed]",
      "text/plain": [
       "<Figure size 288x216 with 1 Axes>"
      ]
     },
     "metadata": {},
     "output_type": "display_data"
    }
   ],
   "source": [
    "regr = linear_model.LinearRegression()\n",
    "regr.fit(t.reshape(-1, 1), b)\n",
    "\n",
    "least_square_sklearn_plot = regr.predict(t_linspace.reshape(-1, 1))\n",
    "least_square_sklearn = regr.predict(t.reshape(-1, 1))\n",
    "\n",
    "fig, ax = plt.subplots()\n",
    "plt.scatter(t, b)\n",
    "plt.plot(t_linspace, least_square_plot, color='k')\n",
    "plt.plot(t_linspace, least_square_sklearn_plot, 'k--', linewidth=5)\n",
    "plt.xlabel('log(Ano)')\n",
    "plt.ylabel('log(IDEB)')\n",
    "plt.title('TOCANTINS')\n",
    "\n",
    "previsao = np.log(2021)\n",
    "\n",
    "estimado = x_hat[0] + x_hat[1] * previsao\n",
    "\n",
    "print('IDEB estimado: ', np.exp(estimado))\n",
    "print('R²:', R)\n",
    "print('Modelo: b =',x_hat[1],'. t',x_hat[0])"
   ]
  },
  {
   "cell_type": "markdown",
   "metadata": {},
   "source": [
    "## CONCLUSÃO"
   ]
  },
  {
   "cell_type": "code",
   "execution_count": 394,
   "metadata": {},
   "outputs": [
    {
     "name": "stdout",
     "output_type": "stream",
     "text": [
      "Dataframe com os dados obtidos: Coeficiente Angular, R² e a previsão do IDEB para 2021\n",
      "                 Estado  Coef angular            R²   IDEB 2021\n",
      "1                  Acre        80.960        0.9946        6.75\n",
      "2               Alagoas        83.640        0.9953        5.98\n",
      "3                 Amapá        59.600        0.9954        5.25\n",
      "4              Amazonas        83.760        0.9927        6.36\n",
      "5                 Bahia        88.750        0.9834        6.09\n",
      "6                 Ceará        98.694        0.9973        7.57\n",
      "7      Distrito Federal        42.150        0.9974        6.87\n",
      "8        Espírito Santo        51.650        0.9967        6.61\n",
      "9                 Goiás        62.550        0.9937        6.93\n",
      "10             Maranhão        67.190        0.9837        5.51\n",
      "11          Mato Grosso        64.890        0.9844        6.73\n",
      "12   Mato Grosso do Sul        62.070        0.9871        6.47\n",
      "13         Minas Gerais        51.240        0.9910        7.22\n",
      "14                 Pará        79.280        0.9842        5.56\n",
      "15              Paraíba        82.310        0.9920        6.11\n",
      "16               Paraná        50.290        0.9976        7.10\n",
      "17           Pernambuco        75.630        0.9945        6.14\n",
      "18                Piauí        92.010        0.9841        6.47\n",
      "19       Rio de Janeiro        47.510        0.9982        6.26\n",
      "20  Rio grande do Norte        86.360        0.9800        6.03\n",
      "21    Rio Grande do Sul        48.370        0.9974        6.47\n",
      "22             Rondônia        68.690        0.9922        6.47\n",
      "23              Roraima        61.390        0.9980        6.22\n",
      "24       Santa Catarina        56.940        0.9939        7.28\n",
      "25            São Paulo        52.820        0.9976        7.32\n",
      "26              Sergipe        74.090        0.9941        5.71\n",
      "27            Tocantins        63.060        0.9884        6.29\n"
     ]
    }
   ],
   "source": [
    "indice = [1,2,3,4,5,6,7,8,9,10,11,12,13,14,15,16,17,18,19,20,21,22,23,24,25,26,27]\n",
    "colunas = [\"Estado\", \"Coef angular\", \"          R²\", \" IDEB 2021\"]\n",
    "dados = [[\"Acre\", 80.96, 0.9946,  6.75 ],\n",
    "[\"Alagoas\", 83.64, 0.9953, 5.98],\n",
    "[\"Amapá\", 59.60 , 0.9954, 5.25],\n",
    "[\"Amazonas\", 83.76 , 0.9927 , 6.36],\n",
    "[\"Bahia\", 88.75, 0.9834, 6.09],\n",
    "[\"Ceará\", 98.694, 0.9973, 7.57],\n",
    "[\"Distrito Federal\", 42.15, 0.9974, 6.87],\n",
    "[\"Espírito Santo\", 51.65, 0.9967, 6.61],\n",
    "[\"Goiás\", 62.55, 0.9937, 6.93],\n",
    "[\"Maranhão\", 67.19, 0.9837, 5.51],\n",
    "[\"Mato Grosso\", 64.89, 0.9844 , 6.73],\n",
    "[\"Mato Grosso do Sul\", 62.07, 0.9871, 6.47],\n",
    "[\"Minas Gerais\", 51.24, 0.9910 , 7.22],\n",
    "[\"Pará\", 79.28, 0.9842 , 5.56],\n",
    "[\"Paraíba\", 82.31, 0.9920 , 6.11],\n",
    "[\"Paraná\", 50.29, 0.9976, 7.10],\n",
    "[\"Pernambuco\", 75.63, 0.9945, 6.14],\n",
    "[\"Piauí\", 92.01, 0.9841, 6.47],\n",
    "[\"Rio de Janeiro\", 47.51, 0.9982, 6.26],\n",
    "[\"Rio grande do Norte\", 86.36, 0.9800, 6.03],\n",
    "[\"Rio Grande do Sul\", 48.37, 0.9974, 6.47],\n",
    "[\"Rondônia\", 68.69, 0.9922, 6.47],\n",
    "[\"Roraima\", 61.39, 0.9980, 6.22],\n",
    "[\"Santa Catarina\", 56.94, 0.9939, 7.28],\n",
    "[\"São Paulo\", 52.82, 0.9976, 7.32],\n",
    "[\"Sergipe\", 74.09, 0.9941, 5.71],\n",
    "[\"Tocantins\", 63.06, 0.9884, 6.29]]\n",
    "df = pd.DataFrame(dados,index=indice, columns=colunas)\n",
    "print('Dataframe com os dados obtidos: Coeficiente Angular, R² e a previsão do IDEB para 2021')\n",
    "print(df)"
   ]
  },
  {
   "cell_type": "code",
   "execution_count": 385,
   "metadata": {},
   "outputs": [
    {
     "name": "stdout",
     "output_type": "stream",
     "text": [
      "                 Estado  Coef angular      R²  IDEB 2021\n",
      "6                 Ceará        98.694  0.9973       7.57\n",
      "18                Piauí        92.010  0.9841       6.47\n",
      "5                 Bahia        88.750  0.9834       6.09\n",
      "20  Rio grande do Norte        86.360  0.9800       6.03\n",
      "4              Amazonas        83.760  0.9927       6.36\n",
      "2               Alagoas        83.640  0.9953       5.98\n",
      "15              Paraíba        82.310  0.9920       6.11\n",
      "1                  Acre        80.960  0.9946       6.75\n",
      "14                 Pará        79.280  0.9842       5.56\n",
      "17           Pernambuco        75.630  0.9945       6.14\n",
      "26              Sergipe        74.090  0.9941       5.71\n",
      "22             Rondônia        68.690  0.9922       6.47\n",
      "10             Maranhão        67.190  0.9837       5.51\n",
      "11          Mato Grosso        64.890  0.9844       6.73\n",
      "27            Tocantins        63.060  0.9884       6.29\n",
      "9                 Goiás        62.550  0.9937       6.93\n",
      "12   Mato Grosso do Sul        62.070  0.9871       6.47\n",
      "23              Roraima        61.390  0.9980       6.22\n",
      "3                 Amapá        59.600  0.9954       5.25\n",
      "24       Santa Catarina        56.940  0.9939       7.28\n",
      "25            São Paulo        52.820  0.9976       7.32\n",
      "8        Espírito Santo        51.650  0.9967       6.61\n",
      "13         Minas Gerais        51.240  0.9910       7.22\n",
      "16               Paraná        50.290  0.9976       7.10\n",
      "21    Rio Grande do Sul        48.370  0.9974       6.47\n",
      "19       Rio de Janeiro        47.510  0.9982       6.26\n",
      "7      Distrito Federal        42.150  0.9974       6.87\n"
     ]
    }
   ],
   "source": [
    "print('Dataframe odenado por coeficiente angular)\n",
    "print(df.sort_values(by=['Coef angular'],ascending=False))"
   ]
  },
  {
   "cell_type": "code",
   "execution_count": 396,
   "metadata": {},
   "outputs": [
    {
     "name": "stdout",
     "output_type": "stream",
     "text": [
      "Dataframe odenado pela estimativa do IDEB para 2021\n",
      "                 Estado  Coef angular            R²   IDEB 2021\n",
      "6                 Ceará        98.694        0.9973        7.57\n",
      "25            São Paulo        52.820        0.9976        7.32\n",
      "24       Santa Catarina        56.940        0.9939        7.28\n",
      "13         Minas Gerais        51.240        0.9910        7.22\n",
      "16               Paraná        50.290        0.9976        7.10\n",
      "9                 Goiás        62.550        0.9937        6.93\n",
      "7      Distrito Federal        42.150        0.9974        6.87\n",
      "1                  Acre        80.960        0.9946        6.75\n",
      "11          Mato Grosso        64.890        0.9844        6.73\n",
      "8        Espírito Santo        51.650        0.9967        6.61\n",
      "22             Rondônia        68.690        0.9922        6.47\n",
      "12   Mato Grosso do Sul        62.070        0.9871        6.47\n",
      "21    Rio Grande do Sul        48.370        0.9974        6.47\n",
      "18                Piauí        92.010        0.9841        6.47\n",
      "4              Amazonas        83.760        0.9927        6.36\n",
      "27            Tocantins        63.060        0.9884        6.29\n",
      "19       Rio de Janeiro        47.510        0.9982        6.26\n",
      "23              Roraima        61.390        0.9980        6.22\n",
      "17           Pernambuco        75.630        0.9945        6.14\n",
      "15              Paraíba        82.310        0.9920        6.11\n",
      "5                 Bahia        88.750        0.9834        6.09\n",
      "20  Rio grande do Norte        86.360        0.9800        6.03\n",
      "2               Alagoas        83.640        0.9953        5.98\n",
      "26              Sergipe        74.090        0.9941        5.71\n",
      "14                 Pará        79.280        0.9842        5.56\n",
      "10             Maranhão        67.190        0.9837        5.51\n",
      "3                 Amapá        59.600        0.9954        5.25\n"
     ]
    }
   ],
   "source": [
    "print('Dataframe odenado pela estimativa do IDEB para 2021')\n",
    "print(df.sort_values(by=[' IDEB 2021'],ascending=False))"
   ]
  },
  {
   "cell_type": "code",
   "execution_count": 395,
   "metadata": {},
   "outputs": [
    {
     "name": "stdout",
     "output_type": "stream",
     "text": [
      "Dataframe odenado por R²\n",
      "                 Estado  Coef angular            R²   IDEB 2021\n",
      "19       Rio de Janeiro        47.510        0.9982        6.26\n",
      "23              Roraima        61.390        0.9980        6.22\n",
      "16               Paraná        50.290        0.9976        7.10\n",
      "25            São Paulo        52.820        0.9976        7.32\n",
      "7      Distrito Federal        42.150        0.9974        6.87\n",
      "21    Rio Grande do Sul        48.370        0.9974        6.47\n",
      "6                 Ceará        98.694        0.9973        7.57\n",
      "8        Espírito Santo        51.650        0.9967        6.61\n",
      "3                 Amapá        59.600        0.9954        5.25\n",
      "2               Alagoas        83.640        0.9953        5.98\n",
      "1                  Acre        80.960        0.9946        6.75\n",
      "17           Pernambuco        75.630        0.9945        6.14\n",
      "26              Sergipe        74.090        0.9941        5.71\n",
      "24       Santa Catarina        56.940        0.9939        7.28\n",
      "9                 Goiás        62.550        0.9937        6.93\n",
      "4              Amazonas        83.760        0.9927        6.36\n",
      "22             Rondônia        68.690        0.9922        6.47\n",
      "15              Paraíba        82.310        0.9920        6.11\n",
      "13         Minas Gerais        51.240        0.9910        7.22\n",
      "27            Tocantins        63.060        0.9884        6.29\n",
      "12   Mato Grosso do Sul        62.070        0.9871        6.47\n",
      "11          Mato Grosso        64.890        0.9844        6.73\n",
      "14                 Pará        79.280        0.9842        5.56\n",
      "18                Piauí        92.010        0.9841        6.47\n",
      "10             Maranhão        67.190        0.9837        5.51\n",
      "5                 Bahia        88.750        0.9834        6.09\n",
      "20  Rio grande do Norte        86.360        0.9800        6.03\n"
     ]
    }
   ],
   "source": [
    "print('Dataframe odenado por R²')\n",
    "print(df.sort_values(by=['          R²'],ascending=False))"
   ]
  },
  {
   "cell_type": "markdown",
   "metadata": {},
   "source": [
    "Unindo os resultados obtidos com os conceitos da Álgebra Linear e das outras áreas da matemática, é possível encontrar diversas conclusões muito interessantes. Pelo cálculo do $R^2$, que variou entre $0.9800462084719069$ (correspondente ao Rio Grande do Norte) e $0.9982935474818602$ (correspondente ao Rio de Janeiro), podemos perceber que a regressão linear pelo método dos mínimos quadrados obteve grande confiabilidade, isto é, todos os valores estão bem próximo a $1$. De fato, se olharmos a meta estipulada para o estado do Rio de Janeiro, encontramos o valor de $6.4$, o qual é bem próximo do valor de $6.27$ estimado pelos cálculos do trabalho, principalmente considerando que as notas observadas no estado têm se mantido abaixo da meta desde $2013$. O Distrito Federal e o Rio Grande do Sul apresentaram resultados surpreendentes, com ambas as metas estimadas e projetadas estando por volta de $6.8$ e $6.4$, respectivamente. Já no caso do Rio Grande do Norte, a regressão apontou um valor de $6.4$, enquanto a meta projetada pelo governo é apenas de $5$ pontos. No Ceará, também foi encontrada uma grande diferença, variando acima de $2$ pontos. Isso mostra que, para estipular uma meta para o IDEB, não basta apenas observar sua regressão, mas também o contexto de cada localidade. Em 2021, por exemplo, é possível que uma melhoria na qualidade da educação seja freada pela pandemia da covid-19, a qual interrompeu os estudos presenciais, obrigando as escolas a se ajustarem a um sistema de educação à distância que por muitas vezes pode ser falho, principalmente levando em conta as condições socioeconômicas e o nível de acesso à internet dos alunos. Em relação ao Ceará, que é um estado considerado referência na educação brasileira, pode-se observar que as suas notas do IDEB vêm crescendo muito acima da meta estipulada, revelando um sistema de ensino bem-sucedido e que, como supracitado na introdução, pode ser estudado e expandido em larga escala. É interessante ressaltar também que o maior valor do coeficiente angular foi obtido pelo Ceará, o que evidencia ainda mais o crescimento vertiginoso da sua nota no IDEB ao longo dos anos. Enfim, o trabalho cumpre bem com sua proposta, permitindo não só explorar e aprimorar a compreensão do tema de regressão linear e mínimos quadrados, como também exercitar tópicos de outras áreas, como programação, banco e visualização de dados."
   ]
  }
 ],
 "metadata": {
  "interpreter": {
   "hash": "ea66fd06e100e95532a13bdb26f09949020cc7fc57f4578ffdf034165640877b"
  },
  "kernelspec": {
   "display_name": "Python 3.8.8 64-bit ('base': conda)",
   "name": "python3"
  },
  "language_info": {
   "codemirror_mode": {
    "name": "ipython",
    "version": 3
   },
   "file_extension": ".py",
   "mimetype": "text/x-python",
   "name": "python",
   "nbconvert_exporter": "python",
   "pygments_lexer": "ipython3",
   "version": "3.8.8"
  },
  "orig_nbformat": 4
 },
 "nbformat": 4,
 "nbformat_minor": 2
}
