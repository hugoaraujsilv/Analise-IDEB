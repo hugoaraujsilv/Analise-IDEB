{
 "cells": [
  {
   "cell_type": "markdown",
   "metadata": {},
   "source": [
    "# Relatório: Análise de Dados do INEP"
   ]
  },
  {
   "cell_type": "markdown",
   "metadata": {},
   "source": [
    "## Introdução"
   ]
  },
  {
   "cell_type": "markdown",
   "metadata": {},
   "source": [
    "Nesse trabalho desenvolvido para o curso de Álgebra Linear, encontraremos um modelo linear para as notas do IDEB de cada unidade federativa brasileira. Em seguida, será analisado se o modelo é devidamente ajustado aos dados, utilizando $R^{2}$.  Assim, poderá ser analisado quais estados tiveram maiores taxas de crescimento na educação. Ao fazer a regressão linear para encontrar tal modelo, utilizaremos o Método dos Mínimos Quadrados(MMQ), que explicaremos adiante, desenvolvido pelo famoso matemático Carl Friedrich Gauss, em 1795."
   ]
  },
  {
   "cell_type": "markdown",
   "metadata": {},
   "source": [
    "Sobre os métodos que serão utilizados:"
   ]
  },
  {
   "cell_type": "markdown",
   "metadata": {},
   "source": [
    "Ao fazermos a regressão linear, encontraremos um modelo da forma $b_i =Dt_i+C$, onde $b_i$ será a nota em função de $t_i$, o ano. Tendo os pontos $(t_i,b_i)$, a solução utilizando mínimos quadrados, técnica de otimização para obter o melhor ajuste de dados ao minimizar a soma dos erros quadrados(SEQ), sendo erro=e, é dada por:\n",
    "$$e=\\displaystyle\\sum_{i=1}^{n} (y(t_i)-b_i)^{2}=\\displaystyle\\sum_{i=1}^{n} (C+ Dt_i-b_i)^{2}$$\n",
    "\n",
    "Sendo: $A=\\begin{bmatrix}\n",
    "1 & t_1\\\\\n",
    "\\vdots & \\vdots \\\\\n",
    "1 & t_n\n",
    "\\end{bmatrix}$ $b=\\begin{bmatrix}\n",
    "b_1\\\\\n",
    "\\vdots\\\\\n",
    "b_n\n",
    "\\end{bmatrix}$ $\\hat x=\\begin{bmatrix}\n",
    "C\\\\\n",
    "D\n",
    "\\end{bmatrix}$\n",
    "\n",
    "$e=\\|Ax-b||^{2}\\Rightarrow$\n",
    " $\\hat x = (A^{T}A)^{-1}A^{T}b\\Rightarrow A^{T}A\\hat x =A^{T}b$\n",
    "\n",
    "$A^{T}A = \\begin{bmatrix}\n",
    "    m & \\displaystyle\\sum_{i=1}^{n} t_i\\\\\n",
    "    \\displaystyle\\sum_{i=1}^{n} t_i & \\displaystyle\\sum_{i=1}^{n} t_i^{2}\n",
    "    \\end{bmatrix}$\n",
    "\n",
    "$A^{T}b=\\begin{bmatrix}\n",
    "    \\displaystyle\\sum_{i=1}^{n} b_i\\\\\n",
    "    \\displaystyle\\sum_{i=1}^{n} t_ib_i\n",
    "    \\end{bmatrix} $"
   ]
  },
  {
   "cell_type": "markdown",
   "metadata": {},
   "source": [
    "## Análise dos Dados"
   ]
  },
  {
   "cell_type": "markdown",
   "metadata": {},
   "source": [
    "### Importando bibliotecas"
   ]
  },
  {
   "cell_type": "code",
   "execution_count": 27,
   "metadata": {},
   "outputs": [],
   "source": [
    "import pandas as pd\n",
    "import matplotlib.pyplot as plt\n",
    "import numpy as np\n",
    "from sklearn import linear_model"
   ]
  },
  {
   "cell_type": "code",
   "execution_count": 94,
   "metadata": {},
   "outputs": [],
   "source": [
    "params = {'legend.fontsize': 20,\n",
    "          'figure.figsize': (4, 3),\n",
    "         'axes.labelsize': 20,\n",
    "         'axes.titlesize':20,\n",
    "         'xtick.labelsize':20,\n",
    "         'ytick.labelsize':20}\n",
    "\n",
    "plt.style.use('ggplot')\n",
    "    \n",
    "plt.rcParams.update(params)"
   ]
  },
  {
   "cell_type": "markdown",
   "metadata": {},
   "source": [
    "### Coletando os dados"
   ]
  },
  {
   "cell_type": "code",
   "execution_count": 30,
   "metadata": {},
   "outputs": [
    {
     "name": "stdout",
     "output_type": "stream",
     "text": [
      "    Ano   AC   AL   AP   AM   BA   CE   DF   ES   GO  ...   PI   RJ   RN   RS  \\\n",
      "0  2005  3.4  3.2  3.2  3.1  2.7  3.2  4.8  4.2  4.1  ...  2.8  4.3  2.7  4.3   \n",
      "1  2007  3.8  3.3  3.4  3.6  3.4  3.8  5.0  4.6  4.3  ...  3.5  4.4  3.4  4.6   \n",
      "2  2009  4.3  3.7  3.8  3.9  3.8  4.4  5.6  5.1  4.9  ...  4.0  4.7  3.9  4.9   \n",
      "3  2011  4.6  3.8  4.1  4.3  4.2  4.9  5.7  5.2  5.3  ...  4.4  5.1  4.1  5.1   \n",
      "4  2013  5.1  4.1  4.0  4.7  4.3  5.2  5.9  5.4  5.7  ...  4.5  5.2  4.4  5.6   \n",
      "5  2015  5.4  4.7  4.5  5.2  4.7  5.9  6.0  5.7  5.8  ...  4.9  5.5  4.8  5.7   \n",
      "6  2017  5.8  5.2  4.6  5.4  5.1  6.2  6.3  6.0  6.1  ...  5.3  5.8  5.0  5.8   \n",
      "7  2019  5.9  5.6  4.9  5.5  5.3  6.4  6.5  6.1  6.2  ...  5.7  5.8  5.2  6.0   \n",
      "\n",
      "    RO   RR   SC   SP   SE   TO  \n",
      "0  3.6  3.7  4.4  4.7  3.0  3.5  \n",
      "1  4.0  4.1  4.9  5.0  3.4  4.1  \n",
      "2  4.3  4.3  5.2  5.5  3.8  4.5  \n",
      "3  4.7  4.7  5.8  5.6  4.1  4.9  \n",
      "4  5.2  5.0  6.0  6.1  4.4  5.1  \n",
      "5  5.4  5.2  6.3  6.4  4.6  5.1  \n",
      "6  5.8  5.5  6.5  6.6  4.9  5.6  \n",
      "7  5.6  5.7  6.5  6.7  5.1  5.6  \n",
      "\n",
      "[8 rows x 28 columns]\n"
     ]
    }
   ],
   "source": [
    "data = pd.read_excel('ideb.xlsx').dropna()\n",
    "print(data)\n"
   ]
  },
  {
   "cell_type": "code",
   "execution_count": 31,
   "metadata": {},
   "outputs": [
    {
     "data": {
      "text/html": [
       "<div>\n",
       "<style scoped>\n",
       "    .dataframe tbody tr th:only-of-type {\n",
       "        vertical-align: middle;\n",
       "    }\n",
       "\n",
       "    .dataframe tbody tr th {\n",
       "        vertical-align: top;\n",
       "    }\n",
       "\n",
       "    .dataframe thead th {\n",
       "        text-align: right;\n",
       "    }\n",
       "</style>\n",
       "<table border=\"1\" class=\"dataframe\">\n",
       "  <thead>\n",
       "    <tr style=\"text-align: right;\">\n",
       "      <th></th>\n",
       "      <th>Ano</th>\n",
       "      <th>AC</th>\n",
       "      <th>AL</th>\n",
       "      <th>AP</th>\n",
       "      <th>AM</th>\n",
       "      <th>BA</th>\n",
       "      <th>CE</th>\n",
       "      <th>DF</th>\n",
       "      <th>ES</th>\n",
       "      <th>GO</th>\n",
       "      <th>...</th>\n",
       "      <th>PI</th>\n",
       "      <th>RJ</th>\n",
       "      <th>RN</th>\n",
       "      <th>RS</th>\n",
       "      <th>RO</th>\n",
       "      <th>RR</th>\n",
       "      <th>SC</th>\n",
       "      <th>SP</th>\n",
       "      <th>SE</th>\n",
       "      <th>TO</th>\n",
       "    </tr>\n",
       "  </thead>\n",
       "  <tbody>\n",
       "    <tr>\n",
       "      <th>count</th>\n",
       "      <td>8.000000</td>\n",
       "      <td>8.000000</td>\n",
       "      <td>8.000000</td>\n",
       "      <td>8.000000</td>\n",
       "      <td>8.000000</td>\n",
       "      <td>8.000000</td>\n",
       "      <td>8.000000</td>\n",
       "      <td>8.000000</td>\n",
       "      <td>8.000000</td>\n",
       "      <td>8.000000</td>\n",
       "      <td>...</td>\n",
       "      <td>8.000000</td>\n",
       "      <td>8.000000</td>\n",
       "      <td>8.000000</td>\n",
       "      <td>8.000000</td>\n",
       "      <td>8.000000</td>\n",
       "      <td>8.000000</td>\n",
       "      <td>8.000000</td>\n",
       "      <td>8.000000</td>\n",
       "      <td>8.000000</td>\n",
       "      <td>8.000000</td>\n",
       "    </tr>\n",
       "    <tr>\n",
       "      <th>mean</th>\n",
       "      <td>2012.000000</td>\n",
       "      <td>4.787500</td>\n",
       "      <td>4.200000</td>\n",
       "      <td>4.062500</td>\n",
       "      <td>4.462500</td>\n",
       "      <td>4.187500</td>\n",
       "      <td>5.000000</td>\n",
       "      <td>5.725000</td>\n",
       "      <td>5.287500</td>\n",
       "      <td>5.300000</td>\n",
       "      <td>...</td>\n",
       "      <td>4.387500</td>\n",
       "      <td>5.100000</td>\n",
       "      <td>4.187500</td>\n",
       "      <td>5.250000</td>\n",
       "      <td>4.825000</td>\n",
       "      <td>4.775000</td>\n",
       "      <td>5.700000</td>\n",
       "      <td>5.825000</td>\n",
       "      <td>4.162500</td>\n",
       "      <td>4.800000</td>\n",
       "    </tr>\n",
       "    <tr>\n",
       "      <th>std</th>\n",
       "      <td>4.898979</td>\n",
       "      <td>0.918753</td>\n",
       "      <td>0.881557</td>\n",
       "      <td>0.590248</td>\n",
       "      <td>0.886305</td>\n",
       "      <td>0.872496</td>\n",
       "      <td>1.152637</td>\n",
       "      <td>0.589794</td>\n",
       "      <td>0.659951</td>\n",
       "      <td>0.798212</td>\n",
       "      <td>...</td>\n",
       "      <td>0.947836</td>\n",
       "      <td>0.590399</td>\n",
       "      <td>0.847581</td>\n",
       "      <td>0.616441</td>\n",
       "      <td>0.801338</td>\n",
       "      <td>0.702546</td>\n",
       "      <td>0.785584</td>\n",
       "      <td>0.744024</td>\n",
       "      <td>0.730826</td>\n",
       "      <td>0.730949</td>\n",
       "    </tr>\n",
       "    <tr>\n",
       "      <th>min</th>\n",
       "      <td>2005.000000</td>\n",
       "      <td>3.400000</td>\n",
       "      <td>3.200000</td>\n",
       "      <td>3.200000</td>\n",
       "      <td>3.100000</td>\n",
       "      <td>2.700000</td>\n",
       "      <td>3.200000</td>\n",
       "      <td>4.800000</td>\n",
       "      <td>4.200000</td>\n",
       "      <td>4.100000</td>\n",
       "      <td>...</td>\n",
       "      <td>2.800000</td>\n",
       "      <td>4.300000</td>\n",
       "      <td>2.700000</td>\n",
       "      <td>4.300000</td>\n",
       "      <td>3.600000</td>\n",
       "      <td>3.700000</td>\n",
       "      <td>4.400000</td>\n",
       "      <td>4.700000</td>\n",
       "      <td>3.000000</td>\n",
       "      <td>3.500000</td>\n",
       "    </tr>\n",
       "    <tr>\n",
       "      <th>25%</th>\n",
       "      <td>2008.500000</td>\n",
       "      <td>4.175000</td>\n",
       "      <td>3.600000</td>\n",
       "      <td>3.700000</td>\n",
       "      <td>3.825000</td>\n",
       "      <td>3.700000</td>\n",
       "      <td>4.250000</td>\n",
       "      <td>5.450000</td>\n",
       "      <td>4.975000</td>\n",
       "      <td>4.750000</td>\n",
       "      <td>...</td>\n",
       "      <td>3.875000</td>\n",
       "      <td>4.625000</td>\n",
       "      <td>3.775000</td>\n",
       "      <td>4.825000</td>\n",
       "      <td>4.225000</td>\n",
       "      <td>4.250000</td>\n",
       "      <td>5.125000</td>\n",
       "      <td>5.375000</td>\n",
       "      <td>3.700000</td>\n",
       "      <td>4.400000</td>\n",
       "    </tr>\n",
       "    <tr>\n",
       "      <th>50%</th>\n",
       "      <td>2012.000000</td>\n",
       "      <td>4.850000</td>\n",
       "      <td>3.950000</td>\n",
       "      <td>4.050000</td>\n",
       "      <td>4.500000</td>\n",
       "      <td>4.250000</td>\n",
       "      <td>5.050000</td>\n",
       "      <td>5.800000</td>\n",
       "      <td>5.300000</td>\n",
       "      <td>5.500000</td>\n",
       "      <td>...</td>\n",
       "      <td>4.450000</td>\n",
       "      <td>5.150000</td>\n",
       "      <td>4.250000</td>\n",
       "      <td>5.350000</td>\n",
       "      <td>4.950000</td>\n",
       "      <td>4.850000</td>\n",
       "      <td>5.900000</td>\n",
       "      <td>5.850000</td>\n",
       "      <td>4.250000</td>\n",
       "      <td>5.000000</td>\n",
       "    </tr>\n",
       "    <tr>\n",
       "      <th>75%</th>\n",
       "      <td>2015.500000</td>\n",
       "      <td>5.500000</td>\n",
       "      <td>4.825000</td>\n",
       "      <td>4.525000</td>\n",
       "      <td>5.250000</td>\n",
       "      <td>4.800000</td>\n",
       "      <td>5.975000</td>\n",
       "      <td>6.075000</td>\n",
       "      <td>5.775000</td>\n",
       "      <td>5.875000</td>\n",
       "      <td>...</td>\n",
       "      <td>5.000000</td>\n",
       "      <td>5.575000</td>\n",
       "      <td>4.850000</td>\n",
       "      <td>5.725000</td>\n",
       "      <td>5.450000</td>\n",
       "      <td>5.275000</td>\n",
       "      <td>6.350000</td>\n",
       "      <td>6.450000</td>\n",
       "      <td>4.675000</td>\n",
       "      <td>5.225000</td>\n",
       "    </tr>\n",
       "    <tr>\n",
       "      <th>max</th>\n",
       "      <td>2019.000000</td>\n",
       "      <td>5.900000</td>\n",
       "      <td>5.600000</td>\n",
       "      <td>4.900000</td>\n",
       "      <td>5.500000</td>\n",
       "      <td>5.300000</td>\n",
       "      <td>6.400000</td>\n",
       "      <td>6.500000</td>\n",
       "      <td>6.100000</td>\n",
       "      <td>6.200000</td>\n",
       "      <td>...</td>\n",
       "      <td>5.700000</td>\n",
       "      <td>5.800000</td>\n",
       "      <td>5.200000</td>\n",
       "      <td>6.000000</td>\n",
       "      <td>5.800000</td>\n",
       "      <td>5.700000</td>\n",
       "      <td>6.500000</td>\n",
       "      <td>6.700000</td>\n",
       "      <td>5.100000</td>\n",
       "      <td>5.600000</td>\n",
       "    </tr>\n",
       "  </tbody>\n",
       "</table>\n",
       "<p>8 rows × 28 columns</p>\n",
       "</div>"
      ],
      "text/plain": [
       "               Ano        AC        AL        AP        AM        BA  \\\n",
       "count     8.000000  8.000000  8.000000  8.000000  8.000000  8.000000   \n",
       "mean   2012.000000  4.787500  4.200000  4.062500  4.462500  4.187500   \n",
       "std       4.898979  0.918753  0.881557  0.590248  0.886305  0.872496   \n",
       "min    2005.000000  3.400000  3.200000  3.200000  3.100000  2.700000   \n",
       "25%    2008.500000  4.175000  3.600000  3.700000  3.825000  3.700000   \n",
       "50%    2012.000000  4.850000  3.950000  4.050000  4.500000  4.250000   \n",
       "75%    2015.500000  5.500000  4.825000  4.525000  5.250000  4.800000   \n",
       "max    2019.000000  5.900000  5.600000  4.900000  5.500000  5.300000   \n",
       "\n",
       "             CE        DF        ES        GO  ...        PI        RJ  \\\n",
       "count  8.000000  8.000000  8.000000  8.000000  ...  8.000000  8.000000   \n",
       "mean   5.000000  5.725000  5.287500  5.300000  ...  4.387500  5.100000   \n",
       "std    1.152637  0.589794  0.659951  0.798212  ...  0.947836  0.590399   \n",
       "min    3.200000  4.800000  4.200000  4.100000  ...  2.800000  4.300000   \n",
       "25%    4.250000  5.450000  4.975000  4.750000  ...  3.875000  4.625000   \n",
       "50%    5.050000  5.800000  5.300000  5.500000  ...  4.450000  5.150000   \n",
       "75%    5.975000  6.075000  5.775000  5.875000  ...  5.000000  5.575000   \n",
       "max    6.400000  6.500000  6.100000  6.200000  ...  5.700000  5.800000   \n",
       "\n",
       "             RN        RS        RO        RR        SC        SP        SE  \\\n",
       "count  8.000000  8.000000  8.000000  8.000000  8.000000  8.000000  8.000000   \n",
       "mean   4.187500  5.250000  4.825000  4.775000  5.700000  5.825000  4.162500   \n",
       "std    0.847581  0.616441  0.801338  0.702546  0.785584  0.744024  0.730826   \n",
       "min    2.700000  4.300000  3.600000  3.700000  4.400000  4.700000  3.000000   \n",
       "25%    3.775000  4.825000  4.225000  4.250000  5.125000  5.375000  3.700000   \n",
       "50%    4.250000  5.350000  4.950000  4.850000  5.900000  5.850000  4.250000   \n",
       "75%    4.850000  5.725000  5.450000  5.275000  6.350000  6.450000  4.675000   \n",
       "max    5.200000  6.000000  5.800000  5.700000  6.500000  6.700000  5.100000   \n",
       "\n",
       "             TO  \n",
       "count  8.000000  \n",
       "mean   4.800000  \n",
       "std    0.730949  \n",
       "min    3.500000  \n",
       "25%    4.400000  \n",
       "50%    5.000000  \n",
       "75%    5.225000  \n",
       "max    5.600000  \n",
       "\n",
       "[8 rows x 28 columns]"
      ]
     },
     "execution_count": 31,
     "metadata": {},
     "output_type": "execute_result"
    }
   ],
   "source": [
    "data.describe()"
   ]
  },
  {
   "cell_type": "markdown",
   "metadata": {},
   "source": [
    "\n",
    "### ACRE"
   ]
  },
  {
   "cell_type": "code",
   "execution_count": 95,
   "metadata": {},
   "outputs": [
    {
     "data": {
      "text/plain": [
       "Text(0.5, 1.0, 'ACRE')"
      ]
     },
     "execution_count": 95,
     "metadata": {},
     "output_type": "execute_result"
    },
    {
     "data": {
      "image/png": "[encoded data removed]",
      "text/plain": [
       "<Figure size 288x216 with 1 Axes>"
      ]
     },
     "metadata": {},
     "output_type": "display_data"
    }
   ],
   "source": [
    "AC = data['AC'].values\n",
    "Ano = data['Ano'].values\n",
    "plt.figure()\n",
    "plt.scatter(Ano, AC)\n",
    "plt.xlabel('Ano')\n",
    "plt.ylabel('IDEB')\n",
    "plt.title('ACRE')"
   ]
  },
  {
   "cell_type": "code",
   "execution_count": 96,
   "metadata": {},
   "outputs": [
    {
     "data": {
      "text/plain": [
       "Text(0.5, 1.0, 'ACRE')"
      ]
     },
     "execution_count": 96,
     "metadata": {},
     "output_type": "execute_result"
    },
    {
     "data": {
      "image/png": "[encoded data removed]",
      "text/plain": [
       "<Figure size 288x216 with 1 Axes>"
      ]
     },
     "metadata": {},
     "output_type": "display_data"
    }
   ],
   "source": [
    "plt.figure()\n",
    "plt.scatter(np.log(Ano), np.log(AC))\n",
    "plt.xlabel('log(Ano)')\n",
    "plt.ylabel('log(IDEB)')\n",
    "plt.title('ACRE')"
   ]
  },
  {
   "cell_type": "code",
   "execution_count": 38,
   "metadata": {},
   "outputs": [],
   "source": [
    "t = np.log(Ano)\n",
    "ones = np.ones(len(t))\n",
    "b = np.log(AC)\n",
    "\n",
    "A = np.array([ones, t]).T\n",
    "\n",
    "AtA = A.T @ A\n",
    "Atb = A.T @ b\n",
    "\n",
    "x_hat = np.linalg.solve(AtA, Atb)"
   ]
  },
  {
   "cell_type": "code",
   "execution_count": 39,
   "metadata": {},
   "outputs": [
    {
     "data": {
      "text/plain": [
       "array([-614.31078896,   80.96086954])"
      ]
     },
     "execution_count": 39,
     "metadata": {},
     "output_type": "execute_result"
    }
   ],
   "source": [
    "x_hat"
   ]
  },
  {
   "cell_type": "code",
   "execution_count": 40,
   "metadata": {},
   "outputs": [],
   "source": [
    "t_linspace = np.linspace(np.min(t), np.max(t), 101)\n",
    "\n",
    "least_square = x_hat[0] + x_hat[1] * t\n",
    "least_square_plot = x_hat[0] + x_hat[1] * t_linspace"
   ]
  },
  {
   "cell_type": "code",
   "execution_count": 41,
   "metadata": {},
   "outputs": [
    {
     "name": "stdout",
     "output_type": "stream",
     "text": [
      "MSE:  0.001028979631956777\n"
     ]
    }
   ],
   "source": [
    "MSE = np.mean((least_square - b)**2)\n",
    "\n",
    "print('MSE: ', MSE)"
   ]
  },
  {
   "cell_type": "code",
   "execution_count": 42,
   "metadata": {},
   "outputs": [],
   "source": [
    "regr = linear_model.LinearRegression()\n",
    "regr.fit(t.reshape(-1, 1), b)\n",
    "\n",
    "least_square_sklearn_plot = regr.predict(t_linspace.reshape(-1, 1))\n",
    "least_square_sklearn = regr.predict(t.reshape(-1, 1))"
   ]
  },
  {
   "cell_type": "code",
   "execution_count": 99,
   "metadata": {},
   "outputs": [
    {
     "name": "stderr",
     "output_type": "stream",
     "text": [
      "No handles with labels found to put in legend.\n"
     ]
    },
    {
     "data": {
      "text/plain": [
       "<matplotlib.legend.Legend at 0x1f5929b1e80>"
      ]
     },
     "execution_count": 99,
     "metadata": {},
     "output_type": "execute_result"
    },
    {
     "data": {
      "image/png": "[encoded data removed]",
      "text/plain": [
       "<Figure size 288x216 with 1 Axes>"
      ]
     },
     "metadata": {},
     "output_type": "display_data"
    }
   ],
   "source": [
    "fig, ax = plt.subplots()\n",
    "plt.scatter(t, b)\n",
    "plt.plot(t_linspace, least_square_plot, color='k')\n",
    "plt.plot(t_linspace, least_square_sklearn_plot, 'k--', linewidth=5)\n",
    "plt.xlabel('log(Ano)')\n",
    "plt.ylabel('log(IDEB)')\n",
    "plt.legend()"
   ]
  },
  {
   "cell_type": "code",
   "execution_count": 44,
   "metadata": {},
   "outputs": [
    {
     "name": "stdout",
     "output_type": "stream",
     "text": [
      "IDEB estimado:  6.756740697318955\n"
     ]
    }
   ],
   "source": [
    "previsao = np.log(2021)\n",
    "\n",
    "estimado = x_hat[0] + x_hat[1] * previsao\n",
    "\n",
    "print('IDEB estimado: ', np.exp(estimado))"
   ]
  },
  {
   "cell_type": "markdown",
   "metadata": {},
   "source": [
    "# ALAGOAS"
   ]
  },
  {
   "cell_type": "code",
   "execution_count": 100,
   "metadata": {},
   "outputs": [
    {
     "data": {
      "text/plain": [
       "Text(0.5, 1.0, 'ALAGOAS')"
      ]
     },
     "execution_count": 100,
     "metadata": {},
     "output_type": "execute_result"
    },
    {
     "data": {
      "image/png": "[encoded data removed]",
      "text/plain": [
       "<Figure size 288x216 with 1 Axes>"
      ]
     },
     "metadata": {},
     "output_type": "display_data"
    }
   ],
   "source": [
    "AL = data['AL'].values\n",
    "Ano = data['Ano'].values\n",
    "plt.figure()\n",
    "plt.scatter(Ano, AL)\n",
    "plt.xlabel('Ano')\n",
    "plt.ylabel('IDEB')\n",
    "plt.title('ALAGOAS')"
   ]
  },
  {
   "cell_type": "code",
   "execution_count": 101,
   "metadata": {},
   "outputs": [
    {
     "data": {
      "text/plain": [
       "Text(0.5, 1.0, 'ALAGOAS')"
      ]
     },
     "execution_count": 101,
     "metadata": {},
     "output_type": "execute_result"
    },
    {
     "data": {
      "image/png": "[encoded data removed]",
      "text/plain": [
       "<Figure size 288x216 with 1 Axes>"
      ]
     },
     "metadata": {},
     "output_type": "display_data"
    }
   ],
   "source": [
    "plt.figure()\n",
    "plt.scatter(np.log(Ano), np.log(AL))\n",
    "plt.xlabel('log(Ano)')\n",
    "plt.ylabel('log(IDEB)')\n",
    "plt.title('ALAGOAS')"
   ]
  },
  {
   "cell_type": "code",
   "execution_count": 47,
   "metadata": {},
   "outputs": [],
   "source": [
    "t = np.log(Ano)\n",
    "ones = np.ones(len(t))\n",
    "b = np.log(AL)\n",
    "\n",
    "A = np.array([ones, t]).T\n",
    "\n",
    "AtA = A.T @ A\n",
    "Atb = A.T @ b\n",
    "\n",
    "x_hat = np.linalg.solve(AtA, Atb)"
   ]
  },
  {
   "cell_type": "code",
   "execution_count": 48,
   "metadata": {},
   "outputs": [
    {
     "data": {
      "text/plain": [
       "array([-634.82686484,   83.64046765])"
      ]
     },
     "execution_count": 48,
     "metadata": {},
     "output_type": "execute_result"
    }
   ],
   "source": [
    "x_hat"
   ]
  },
  {
   "cell_type": "code",
   "execution_count": 49,
   "metadata": {},
   "outputs": [],
   "source": [
    "t_linspace = np.linspace(np.min(t), np.max(t), 101)\n",
    "\n",
    "least_square = x_hat[0] + x_hat[1] * t\n",
    "least_square_plot = x_hat[0] + x_hat[1] * t_linspace"
   ]
  },
  {
   "cell_type": "code",
   "execution_count": 50,
   "metadata": {},
   "outputs": [
    {
     "name": "stdout",
     "output_type": "stream",
     "text": [
      "MSE:  0.0008306036634302037\n"
     ]
    }
   ],
   "source": [
    "MSE = np.mean((least_square - b)**2)\n",
    "\n",
    "print('MSE: ', MSE)"
   ]
  },
  {
   "cell_type": "code",
   "execution_count": 51,
   "metadata": {},
   "outputs": [],
   "source": [
    "regr = linear_model.LinearRegression()\n",
    "regr.fit(t.reshape(-1, 1), b)\n",
    "\n",
    "least_square_sklearn_plot = regr.predict(t_linspace.reshape(-1, 1))\n",
    "least_square_sklearn = regr.predict(t.reshape(-1, 1))"
   ]
  },
  {
   "cell_type": "code",
   "execution_count": 102,
   "metadata": {},
   "outputs": [
    {
     "data": {
      "text/plain": [
       "<matplotlib.legend.Legend at 0x1f59396c7c0>"
      ]
     },
     "execution_count": 102,
     "metadata": {},
     "output_type": "execute_result"
    },
    {
     "data": {
      "image/png": "[encoded data removed]",
      "text/plain": [
       "<Figure size 288x216 with 1 Axes>"
      ]
     },
     "metadata": {},
     "output_type": "display_data"
    }
   ],
   "source": [
    "fig, ax = plt.subplots()\n",
    "plt.scatter(t, b, label='data')\n",
    "plt.plot(t_linspace, least_square_plot, color='k', label='numpy')\n",
    "plt.plot(t_linspace, least_square_sklearn_plot, 'k--', label='sklearn', linewidth=5)\n",
    "plt.xlabel('log(Ano)')\n",
    "plt.ylabel('log(IDEB)')\n",
    "plt.legend()"
   ]
  },
  {
   "cell_type": "code",
   "execution_count": 103,
   "metadata": {},
   "outputs": [
    {
     "name": "stdout",
     "output_type": "stream",
     "text": [
      "IDEB estimado:  6.756740697318955\n"
     ]
    }
   ],
   "source": [
    "previsao = np.log(2021)\n",
    "\n",
    "estimado = x_hat[0] + x_hat[1] * previsao\n",
    "\n",
    "print('IDEB estimado: ', np.exp(estimado))"
   ]
  },
  {
   "cell_type": "markdown",
   "metadata": {},
   "source": [
    "# AMAPÁ"
   ]
  },
  {
   "cell_type": "code",
   "execution_count": 104,
   "metadata": {},
   "outputs": [
    {
     "data": {
      "text/plain": [
       "Text(0.5, 1.0, 'AMAPÁ')"
      ]
     },
     "execution_count": 104,
     "metadata": {},
     "output_type": "execute_result"
    },
    {
     "data": {
      "image/png": "[encoded data removed]",
      "text/plain": [
       "<Figure size 288x216 with 1 Axes>"
      ]
     },
     "metadata": {},
     "output_type": "display_data"
    }
   ],
   "source": [
    "AP = data['AP'].values\n",
    "Ano = data['Ano'].values\n",
    "plt.figure()\n",
    "plt.scatter(Ano, AC)\n",
    "plt.xlabel('Ano')\n",
    "plt.ylabel('IDEB')\n",
    "plt.title('AMAPÁ')"
   ]
  },
  {
   "cell_type": "code",
   "execution_count": 105,
   "metadata": {},
   "outputs": [
    {
     "data": {
      "text/plain": [
       "Text(0.5, 1.0, 'AMAPA')"
      ]
     },
     "execution_count": 105,
     "metadata": {},
     "output_type": "execute_result"
    },
    {
     "data": {
      "image/png": "[encoded data removed]",
      "text/plain": [
       "<Figure size 288x216 with 1 Axes>"
      ]
     },
     "metadata": {},
     "output_type": "display_data"
    }
   ],
   "source": [
    "plt.figure()\n",
    "plt.scatter(np.log(Ano), np.log(AP))\n",
    "plt.xlabel('log(Ano)')\n",
    "plt.ylabel('log(IDEB)')\n",
    "plt.title('AMAPA')"
   ]
  },
  {
   "cell_type": "code",
   "execution_count": 56,
   "metadata": {},
   "outputs": [],
   "source": [
    "t = np.log(Ano)\n",
    "ones = np.ones(len(t))\n",
    "b = np.log(AC)\n",
    "\n",
    "A = np.array([ones, t]).T\n",
    "\n",
    "AtA = A.T @ A\n",
    "Atb = A.T @ b\n",
    "\n",
    "x_hat = np.linalg.solve(AtA, Atb)"
   ]
  },
  {
   "cell_type": "code",
   "execution_count": 57,
   "metadata": {},
   "outputs": [
    {
     "data": {
      "text/plain": [
       "array([-614.31078896,   80.96086954])"
      ]
     },
     "execution_count": 57,
     "metadata": {},
     "output_type": "execute_result"
    }
   ],
   "source": [
    "x_hat"
   ]
  },
  {
   "cell_type": "code",
   "execution_count": 58,
   "metadata": {},
   "outputs": [],
   "source": [
    "t_linspace = np.linspace(np.min(t), np.max(t), 101)\n",
    "\n",
    "least_square = x_hat[0] + x_hat[1] * t\n",
    "least_square_plot = x_hat[0] + x_hat[1] * t_linspace"
   ]
  },
  {
   "cell_type": "code",
   "execution_count": 59,
   "metadata": {},
   "outputs": [
    {
     "name": "stdout",
     "output_type": "stream",
     "text": [
      "MSE:  0.001028979631956777\n"
     ]
    }
   ],
   "source": [
    "MSE = np.mean((least_square - b)**2)\n",
    "\n",
    "print('MSE: ', MSE)"
   ]
  },
  {
   "cell_type": "code",
   "execution_count": 60,
   "metadata": {},
   "outputs": [],
   "source": [
    "regr = linear_model.LinearRegression()\n",
    "regr.fit(t.reshape(-1, 1), b)\n",
    "\n",
    "least_square_sklearn_plot = regr.predict(t_linspace.reshape(-1, 1))\n",
    "least_square_sklearn = regr.predict(t.reshape(-1, 1))"
   ]
  },
  {
   "cell_type": "code",
   "execution_count": 107,
   "metadata": {},
   "outputs": [
    {
     "name": "stderr",
     "output_type": "stream",
     "text": [
      "No handles with labels found to put in legend.\n"
     ]
    },
    {
     "data": {
      "text/plain": [
       "<matplotlib.legend.Legend at 0x1f593ac1e20>"
      ]
     },
     "execution_count": 107,
     "metadata": {},
     "output_type": "execute_result"
    },
    {
     "data": {
      "image/png": "[encoded data removed]",
      "text/plain": [
       "<Figure size 288x216 with 1 Axes>"
      ]
     },
     "metadata": {},
     "output_type": "display_data"
    }
   ],
   "source": [
    "fig, ax = plt.subplots()\n",
    "plt.scatter(t, b)\n",
    "plt.plot(t_linspace, least_square_plot, color='k')\n",
    "plt.plot(t_linspace, least_square_sklearn_plot, 'k--', linewidth=5)\n",
    "plt.xlabel('log(Ano)')\n",
    "plt.ylabel('log(IDEB)')\n",
    "plt.legend()"
   ]
  },
  {
   "cell_type": "code",
   "execution_count": 62,
   "metadata": {},
   "outputs": [
    {
     "name": "stdout",
     "output_type": "stream",
     "text": [
      "IDEB estimado:  6.756740697318955\n"
     ]
    }
   ],
   "source": [
    "previsao = np.log(2021)\n",
    "\n",
    "estimado = x_hat[0] + x_hat[1] * previsao\n",
    "\n",
    "print('IDEB estimado: ', np.exp(estimado))"
   ]
  },
  {
   "cell_type": "markdown",
   "metadata": {},
   "source": [
    "# AMAZONAS"
   ]
  },
  {
   "cell_type": "code",
   "execution_count": 108,
   "metadata": {},
   "outputs": [
    {
     "data": {
      "text/plain": [
       "Text(0.5, 1.0, 'AMAZONAS')"
      ]
     },
     "execution_count": 108,
     "metadata": {},
     "output_type": "execute_result"
    },
    {
     "data": {
      "image/png": "[encoded data removed]",
      "text/plain": [
       "<Figure size 288x216 with 1 Axes>"
      ]
     },
     "metadata": {},
     "output_type": "display_data"
    }
   ],
   "source": [
    "AM = data['AM'].values\n",
    "Ano = data['Ano'].values\n",
    "plt.figure()\n",
    "plt.scatter(Ano, AC)\n",
    "plt.xlabel('Ano')\n",
    "plt.ylabel('IDEB')\n",
    "plt.title('AMAZONAS')"
   ]
  },
  {
   "cell_type": "code",
   "execution_count": 109,
   "metadata": {},
   "outputs": [
    {
     "data": {
      "text/plain": [
       "Text(0.5, 1.0, 'AMAZONAS')"
      ]
     },
     "execution_count": 109,
     "metadata": {},
     "output_type": "execute_result"
    },
    {
     "data": {
      "image/png": "[encoded data removed]",
      "text/plain": [
       "<Figure size 288x216 with 1 Axes>"
      ]
     },
     "metadata": {},
     "output_type": "display_data"
    }
   ],
   "source": [
    "plt.figure()\n",
    "plt.scatter(np.log(Ano), np.log(AM))\n",
    "plt.xlabel('log(Ano)')\n",
    "plt.ylabel('log(IDEB)')\n",
    "plt.title('AMAZONAS')"
   ]
  },
  {
   "cell_type": "code",
   "execution_count": 65,
   "metadata": {},
   "outputs": [],
   "source": [
    "t = np.log(Ano)\n",
    "ones = np.ones(len(t))\n",
    "b = np.log(AC)\n",
    "\n",
    "A = np.array([ones, t]).T\n",
    "\n",
    "AtA = A.T @ A\n",
    "Atb = A.T @ b\n",
    "\n",
    "x_hat = np.linalg.solve(AtA, Atb)"
   ]
  },
  {
   "cell_type": "code",
   "execution_count": 66,
   "metadata": {},
   "outputs": [
    {
     "data": {
      "text/plain": [
       "array([-614.31078896,   80.96086954])"
      ]
     },
     "execution_count": 66,
     "metadata": {},
     "output_type": "execute_result"
    }
   ],
   "source": [
    "x_hat"
   ]
  },
  {
   "cell_type": "code",
   "execution_count": 67,
   "metadata": {},
   "outputs": [],
   "source": [
    "t_linspace = np.linspace(np.min(t), np.max(t), 101)\n",
    "\n",
    "least_square = x_hat[0] + x_hat[1] * t\n",
    "least_square_plot = x_hat[0] + x_hat[1] * t_linspace"
   ]
  },
  {
   "cell_type": "code",
   "execution_count": 68,
   "metadata": {},
   "outputs": [
    {
     "name": "stdout",
     "output_type": "stream",
     "text": [
      "MSE:  0.001028979631956777\n"
     ]
    }
   ],
   "source": [
    "MSE = np.mean((least_square - b)**2)\n",
    "\n",
    "print('MSE: ', MSE)"
   ]
  },
  {
   "cell_type": "code",
   "execution_count": 69,
   "metadata": {},
   "outputs": [],
   "source": [
    "regr = linear_model.LinearRegression()\n",
    "regr.fit(t.reshape(-1, 1), b)\n",
    "\n",
    "least_square_sklearn_plot = regr.predict(t_linspace.reshape(-1, 1))\n",
    "least_square_sklearn = regr.predict(t.reshape(-1, 1))"
   ]
  },
  {
   "cell_type": "code",
   "execution_count": 111,
   "metadata": {},
   "outputs": [
    {
     "name": "stderr",
     "output_type": "stream",
     "text": [
      "No handles with labels found to put in legend.\n"
     ]
    },
    {
     "data": {
      "text/plain": [
       "<matplotlib.legend.Legend at 0x1f593c0e760>"
      ]
     },
     "execution_count": 111,
     "metadata": {},
     "output_type": "execute_result"
    },
    {
     "data": {
      "image/png": "[encoded data removed]",
      "text/plain": [
       "<Figure size 288x216 with 1 Axes>"
      ]
     },
     "metadata": {},
     "output_type": "display_data"
    }
   ],
   "source": [
    "fig, ax = plt.subplots()\n",
    "plt.scatter(t, b)\n",
    "plt.plot(t_linspace, least_square_plot, color='k')\n",
    "plt.plot(t_linspace, least_square_sklearn_plot, 'k--', linewidth=5)\n",
    "plt.xlabel('log(Ano)')\n",
    "plt.ylabel('log(IDEB)')\n",
    "plt.legend()"
   ]
  },
  {
   "cell_type": "code",
   "execution_count": 71,
   "metadata": {},
   "outputs": [
    {
     "name": "stdout",
     "output_type": "stream",
     "text": [
      "IDEB estimado:  6.756740697318955\n"
     ]
    }
   ],
   "source": [
    "previsao = np.log(2021)\n",
    "\n",
    "estimado = x_hat[0] + x_hat[1] * previsao\n",
    "\n",
    "print('IDEB estimado: ', np.exp(estimado))"
   ]
  },
  {
   "cell_type": "markdown",
   "metadata": {},
   "source": [
    "# BAHIA"
   ]
  },
  {
   "cell_type": "code",
   "execution_count": 112,
   "metadata": {},
   "outputs": [
    {
     "data": {
      "text/plain": [
       "Text(0.5, 1.0, 'BAHIA')"
      ]
     },
     "execution_count": 112,
     "metadata": {},
     "output_type": "execute_result"
    },
    {
     "data": {
      "image/png": "[encoded data removed]",
      "text/plain": [
       "<Figure size 288x216 with 1 Axes>"
      ]
     },
     "metadata": {},
     "output_type": "display_data"
    }
   ],
   "source": [
    "BA = data['BA'].values\n",
    "Ano = data['Ano'].values\n",
    "plt.figure()\n",
    "plt.scatter(Ano, BA)\n",
    "plt.xlabel('Ano')\n",
    "plt.ylabel('IDEB')\n",
    "plt.title('BAHIA')"
   ]
  },
  {
   "cell_type": "code",
   "execution_count": 113,
   "metadata": {},
   "outputs": [
    {
     "data": {
      "text/plain": [
       "Text(0.5, 1.0, 'BAHIA')"
      ]
     },
     "execution_count": 113,
     "metadata": {},
     "output_type": "execute_result"
    },
    {
     "data": {
      "image/png": "[encoded data removed]",
      "text/plain": [
       "<Figure size 288x216 with 1 Axes>"
      ]
     },
     "metadata": {},
     "output_type": "display_data"
    }
   ],
   "source": [
    "plt.figure()\n",
    "plt.scatter(np.log(Ano), np.log(BA))\n",
    "plt.xlabel('log(Ano)')\n",
    "plt.ylabel('log(IDEB)')\n",
    "plt.title('BAHIA')"
   ]
  },
  {
   "cell_type": "code",
   "execution_count": 74,
   "metadata": {},
   "outputs": [],
   "source": [
    "t = np.log(Ano)\n",
    "ones = np.ones(len(t))\n",
    "b = np.log(AC)\n",
    "\n",
    "A = np.array([ones, t]).T\n",
    "\n",
    "AtA = A.T @ A\n",
    "Atb = A.T @ b\n",
    "\n",
    "x_hat = np.linalg.solve(AtA, Atb)"
   ]
  },
  {
   "cell_type": "code",
   "execution_count": 75,
   "metadata": {},
   "outputs": [
    {
     "data": {
      "text/plain": [
       "array([-614.31078896,   80.96086954])"
      ]
     },
     "execution_count": 75,
     "metadata": {},
     "output_type": "execute_result"
    }
   ],
   "source": [
    "x_hat"
   ]
  },
  {
   "cell_type": "code",
   "execution_count": 76,
   "metadata": {},
   "outputs": [],
   "source": [
    "t_linspace = np.linspace(np.min(t), np.max(t), 101)\n",
    "\n",
    "least_square = x_hat[0] + x_hat[1] * t\n",
    "least_square_plot = x_hat[0] + x_hat[1] * t_linspace"
   ]
  },
  {
   "cell_type": "code",
   "execution_count": 77,
   "metadata": {},
   "outputs": [
    {
     "name": "stdout",
     "output_type": "stream",
     "text": [
      "MSE:  0.001028979631956777\n"
     ]
    }
   ],
   "source": [
    "MSE = np.mean((least_square - b)**2)\n",
    "\n",
    "print('MSE: ', MSE)"
   ]
  },
  {
   "cell_type": "code",
   "execution_count": 78,
   "metadata": {},
   "outputs": [],
   "source": [
    "regr = linear_model.LinearRegression()\n",
    "regr.fit(t.reshape(-1, 1), b)\n",
    "\n",
    "least_square_sklearn_plot = regr.predict(t_linspace.reshape(-1, 1))\n",
    "least_square_sklearn = regr.predict(t.reshape(-1, 1))"
   ]
  },
  {
   "cell_type": "code",
   "execution_count": 114,
   "metadata": {},
   "outputs": [
    {
     "name": "stderr",
     "output_type": "stream",
     "text": [
      "No handles with labels found to put in legend.\n"
     ]
    },
    {
     "data": {
      "text/plain": [
       "<matplotlib.legend.Legend at 0x1f59897eb80>"
      ]
     },
     "execution_count": 114,
     "metadata": {},
     "output_type": "execute_result"
    },
    {
     "data": {
      "image/png": "[encoded data removed]",
      "text/plain": [
       "<Figure size 288x216 with 1 Axes>"
      ]
     },
     "metadata": {},
     "output_type": "display_data"
    }
   ],
   "source": [
    "fig, ax = plt.subplots()\n",
    "plt.scatter(t, b)\n",
    "plt.plot(t_linspace, least_square_plot, color='k')\n",
    "plt.plot(t_linspace, least_square_sklearn_plot, 'k--', linewidth=5)\n",
    "plt.xlabel('log(Ano)')\n",
    "plt.ylabel('log(IDEB)')\n",
    "plt.legend()"
   ]
  },
  {
   "cell_type": "code",
   "execution_count": 80,
   "metadata": {},
   "outputs": [
    {
     "name": "stdout",
     "output_type": "stream",
     "text": [
      "IDEB estimado:  6.756740697318955\n"
     ]
    }
   ],
   "source": [
    "previsao = np.log(2021)\n",
    "\n",
    "estimado = x_hat[0] + x_hat[1] * previsao\n",
    "\n",
    "print('IDEB estimado: ', np.exp(estimado))"
   ]
  },
  {
   "cell_type": "markdown",
   "metadata": {},
   "source": [
    "# CEARÁ"
   ]
  },
  {
   "cell_type": "code",
   "execution_count": 119,
   "metadata": {},
   "outputs": [],
   "source": [
    "CE = data['CE'].values\n",
    "Ano = data['Ano'].values\n"
   ]
  },
  {
   "cell_type": "code",
   "execution_count": 120,
   "metadata": {},
   "outputs": [
    {
     "data": {
      "text/plain": [
       "array([-614.31078896,   80.96086954])"
      ]
     },
     "execution_count": 120,
     "metadata": {},
     "output_type": "execute_result"
    }
   ],
   "source": [
    "t = np.log(Ano)\n",
    "ones = np.ones(len(t))\n",
    "b = np.log(AC)\n",
    "\n",
    "A = np.array([ones, t]).T\n",
    "\n",
    "AtA = A.T @ A\n",
    "Atb = A.T @ b\n",
    "\n",
    "x_hat = np.linalg.solve(AtA, Atb)\n",
    "x_hat"
   ]
  },
  {
   "cell_type": "code",
   "execution_count": 84,
   "metadata": {},
   "outputs": [],
   "source": [
    "t_linspace = np.linspace(np.min(t), np.max(t), 101)\n",
    "\n",
    "least_square = x_hat[0] + x_hat[1] * t\n",
    "least_square_plot = x_hat[0] + x_hat[1] * t_linspace"
   ]
  },
  {
   "cell_type": "code",
   "execution_count": 85,
   "metadata": {},
   "outputs": [
    {
     "name": "stdout",
     "output_type": "stream",
     "text": [
      "MSE:  0.001028979631956777\n"
     ]
    }
   ],
   "source": [
    "MSE = np.mean((least_square - b)**2)\n",
    "\n",
    "print('MSE: ', MSE)"
   ]
  },
  {
   "cell_type": "code",
   "execution_count": 86,
   "metadata": {},
   "outputs": [],
   "source": [
    "regr = linear_model.LinearRegression()\n",
    "regr.fit(t.reshape(-1, 1), b)\n",
    "\n",
    "least_square_sklearn_plot = regr.predict(t_linspace.reshape(-1, 1))\n",
    "least_square_sklearn = regr.predict(t.reshape(-1, 1))"
   ]
  },
  {
   "cell_type": "code",
   "execution_count": 118,
   "metadata": {},
   "outputs": [
    {
     "name": "stderr",
     "output_type": "stream",
     "text": [
      "No handles with labels found to put in legend.\n"
     ]
    },
    {
     "data": {
      "text/plain": [
       "<matplotlib.legend.Legend at 0x1f598a602b0>"
      ]
     },
     "execution_count": 118,
     "metadata": {},
     "output_type": "execute_result"
    },
    {
     "data": {
      "image/png": "[encoded data removed]",
      "text/plain": [
       "<Figure size 288x216 with 1 Axes>"
      ]
     },
     "metadata": {},
     "output_type": "display_data"
    }
   ],
   "source": [
    "fig, ax = plt.subplots()\n",
    "plt.scatter(t, b)\n",
    "plt.plot(t_linspace, least_square_plot, color='k')\n",
    "plt.plot(t_linspace, least_square_sklearn_plot, 'k--', linewidth=5)\n",
    "plt.xlabel('log(Ano)')\n",
    "plt.ylabel('log(IDEB)')\n",
    "plt.legend()"
   ]
  },
  {
   "cell_type": "code",
   "execution_count": 88,
   "metadata": {},
   "outputs": [
    {
     "name": "stdout",
     "output_type": "stream",
     "text": [
      "IDEB estimado:  6.756740697318955\n"
     ]
    }
   ],
   "source": [
    "previsao = np.log(2021)\n",
    "\n",
    "estimado = x_hat[0] + x_hat[1] * previsao\n",
    "\n",
    "print('IDEB estimado: ', np.exp(estimado))"
   ]
  }
 ],
 "metadata": {
  "interpreter": {
   "hash": "ea66fd06e100e95532a13bdb26f09949020cc7fc57f4578ffdf034165640877b"
  },
  "kernelspec": {
   "display_name": "Python 3.8.8 64-bit ('base': conda)",
   "name": "python3"
  },
  "language_info": {
   "codemirror_mode": {
    "name": "ipython",
    "version": 3
   },
   "file_extension": ".py",
   "mimetype": "text/x-python",
   "name": "python",
   "nbconvert_exporter": "python",
   "pygments_lexer": "ipython3",
   "version": "3.8.8"
  },
  "orig_nbformat": 4
 },
 "nbformat": 4,
 "nbformat_minor": 2
}
