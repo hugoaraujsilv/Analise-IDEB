{
 "cells": [
  {
   "cell_type": "markdown",
   "metadata": {},
   "source": [
    "# Relatório: Análise de Dados do INEP"
   ]
  },
  {
   "cell_type": "markdown",
   "metadata": {},
   "source": [
    "## Introdução"
   ]
  },
  {
   "cell_type": "markdown",
   "metadata": {},
   "source": [
    "Nesse trabalho, desenvolvido para o curso de Álgebra Linear, encontraremos um modelo linear para as notas do IDEB de cada unidade federativa brasileira. Em seguida, será analisado se o modelo é devidamente ajustado aos dados, utilizando $R^{2}$. Assim, poderá ser analisado quais estados tiveram maiores taxas de crescimento na educação. Ao fazer a regressão linear para encontrar tal modelo, utilizaremos o Método dos Mínimos Quadrados (MMQ), que explicaremos adiante, desenvolvido pelo famoso matemático Carl Friedrich Gauss, em 1795."
   ]
  },
  {
   "cell_type": "markdown",
   "metadata": {},
   "source": [
    "### Sobre os métodos que serão utilizados:"
   ]
  },
  {
   "cell_type": "markdown",
   "metadata": {},
   "source": [
    "Ao fazermos a regressão linear, encontraremos um modelo da forma $b_i =Dt_i+C$, onde $b_i$ será a nota em função de $t_i$, o ano. Tendo os pontos $(t_i,b_i)$, a solução utilizando mínimos quadrados, técnica de otimização para obter o melhor ajuste de dados ao minimizar a soma dos erros quadrados(SEQ), sendo erro=e, é dada por:\n",
    "$$e=\\displaystyle\\sum_{i=1}^{n} (y(t_i)-b_i)^{2}=\\displaystyle\\sum_{i=1}^{n} (C+ Dt_i-b_i)^{2}$$\n",
    "\n",
    "Sendo: $A=\\begin{bmatrix}\n",
    "1 & t_1\\\\\n",
    "\\vdots & \\vdots \\\\\n",
    "1 & t_n\n",
    "\\end{bmatrix}$ $b=\\begin{bmatrix}\n",
    "b_1\\\\\n",
    "\\vdots\\\\\n",
    "b_n\n",
    "\\end{bmatrix}$ $\\hat x=\\begin{bmatrix}\n",
    "C\\\\\n",
    "D\n",
    "\\end{bmatrix}$\n",
    "\n",
    "$e=\\|Ax-b||^{2}\\Rightarrow$\n",
    " $\\hat x = (A^{T}A)^{-1}A^{T}b\\Rightarrow A^{T}A\\hat x =A^{T}b$\n",
    "\n",
    "$A^{T}A = \\begin{bmatrix}\n",
    "    m & \\displaystyle\\sum_{i=1}^{n} t_i\\\\\n",
    "    \\displaystyle\\sum_{i=1}^{n} t_i & \\displaystyle\\sum_{i=1}^{n} t_i^{2}\n",
    "    \\end{bmatrix}$\n",
    "\n",
    "$A^{T}b=\\begin{bmatrix}\n",
    "    \\displaystyle\\sum_{i=1}^{n} b_i\\\\\n",
    "    \\displaystyle\\sum_{i=1}^{n} t_ib_i\n",
    "    \\end{bmatrix} $"
   ]
  },
  {
   "cell_type": "markdown",
   "metadata": {},
   "source": [
    "### Sobre o IDEB e a base de dados:"
   ]
  },
  {
   "cell_type": "markdown",
   "metadata": {},
   "source": [
    "O Índice de Desenvolvimento da Educação Básica (IDEB) é um indicador social da qualidade da educação brasileira criado em 2005 pelo Ministério da Educação, por meio do Instituto Nacional de Estudos e Pesquisas Educacionais Anísio Teixeira (Inep). O cálculo do IDEB é baseado em dois fatores: \n",
    "\n",
    "(i) o fluxo escolar, isto é, as aprovações e o rendimento escolar dos alunos de cada instituição, obtidos pelo Censo Escolar; \n",
    "\n",
    "(ii) o desempenho dos alunos no Saeb, o Sistema de Avaliação da Educação Básica, que consiste em um conjunto de provas aplicadas no 2º, 5º e 9º ano do Ensino Fundamental, bem como no 3º ano do Ensino Médio.\n",
    "\n",
    "O valor final do IDEB varia de zero a dez, e, a cada aplicação, são estipuladas metas de melhoria na nota, o que reflete diretamente o progresso da qualidade das escolas, em nível local, municipal, estadual e federal. A principal função do IDEB é nortear as políticas públicas que serão aplicadas nas escolas brasileiras, com base em suas deficiências no ensino e seus contextos sociais, analisados a partir dos questionários socioeconômicos aplicados no Saeb, como também encontrar exemplos de instituições bem sucedidas, de forma a estudá-las e expandir seus métodos em larga escala.\n",
    "\n",
    "Para este trabalho, a base de dados escolhida retrata o valor do IDEB do 5º ano do Ensino Fundamental para cada um dos estados brasileiros, de 2005 a 2019.\n",
    "\n"
   ]
  },
  {
   "cell_type": "markdown",
   "metadata": {},
   "source": [
    "## Análise dos dados"
   ]
  },
  {
   "cell_type": "markdown",
   "metadata": {},
   "source": [
    "### Importando bibliotecas"
   ]
  },
  {
   "cell_type": "markdown",
   "metadata": {},
   "source": [
    "Utilizando o código disponibilizado no EClass como referência, primeiramente foram importadas as bibliotecas e os pacotes necessários para dar início à análise."
   ]
  },
  {
   "cell_type": "code",
   "execution_count": 3,
   "metadata": {},
   "outputs": [],
   "source": [
    "# Importando bibliotecas\n",
    "import pandas as pd\n",
    "import matplotlib.pyplot as plt\n",
    "import numpy as np\n",
    "from sklearn import linear_model"
   ]
  },
  {
   "cell_type": "markdown",
   "metadata": {},
   "source": [
    "Realizando a estilização dos gráficos plotados pelo matplotlib:"
   ]
  },
  {
   "cell_type": "code",
   "execution_count": 10,
   "metadata": {},
   "outputs": [],
   "source": [
    "# Definindo a estilização dos gráficos\n",
    "params = {'legend.fontsize': 20,\n",
    "          'figure.figsize': (10, 7.5),\n",
    "         'axes.labelsize': 20,\n",
    "         'axes.titlesize':20,\n",
    "         'xtick.labelsize':20,\n",
    "         'ytick.labelsize':20}\n",
    "\n",
    "plt.style.use('ggplot')\n",
    "    \n",
    "plt.rcParams.update(params)"
   ]
  },
  {
   "cell_type": "markdown",
   "metadata": {},
   "source": [
    "### Coletando os dados"
   ]
  },
  {
   "cell_type": "markdown",
   "metadata": {},
   "source": [
    "Em sequência, foi feita a leitura da base de dados dos valores do IDEB."
   ]
  },
  {
   "cell_type": "code",
   "execution_count": 5,
   "metadata": {},
   "outputs": [
    {
     "name": "stdout",
     "output_type": "stream",
     "text": [
      "    Ano   AC   AL   AP   AM   BA   CE   DF   ES   GO  ...   PI   RJ   RN   RS  \\\n",
      "0  2005  3.4  3.2  3.2  3.1  2.7  3.2  4.8  4.2  4.1  ...  2.8  4.3  2.7  4.3   \n",
      "1  2007  3.8  3.3  3.4  3.6  3.4  3.8  5.0  4.6  4.3  ...  3.5  4.4  3.4  4.6   \n",
      "2  2009  4.3  3.7  3.8  3.9  3.8  4.4  5.6  5.1  4.9  ...  4.0  4.7  3.9  4.9   \n",
      "3  2011  4.6  3.8  4.1  4.3  4.2  4.9  5.7  5.2  5.3  ...  4.4  5.1  4.1  5.1   \n",
      "4  2013  5.1  4.1  4.0  4.7  4.3  5.2  5.9  5.4  5.7  ...  4.5  5.2  4.4  5.6   \n",
      "5  2015  5.4  4.7  4.5  5.2  4.7  5.9  6.0  5.7  5.8  ...  4.9  5.5  4.8  5.7   \n",
      "6  2017  5.8  5.2  4.6  5.4  5.1  6.2  6.3  6.0  6.1  ...  5.3  5.8  5.0  5.8   \n",
      "7  2019  5.9  5.6  4.9  5.5  5.3  6.4  6.5  6.1  6.2  ...  5.7  5.8  5.2  6.0   \n",
      "\n",
      "    RO   RR   SC   SP   SE   TO  \n",
      "0  3.6  3.7  4.4  4.7  3.0  3.5  \n",
      "1  4.0  4.1  4.9  5.0  3.4  4.1  \n",
      "2  4.3  4.3  5.2  5.5  3.8  4.5  \n",
      "3  4.7  4.7  5.8  5.6  4.1  4.9  \n",
      "4  5.2  5.0  6.0  6.1  4.4  5.1  \n",
      "5  5.4  5.2  6.3  6.4  4.6  5.1  \n",
      "6  5.8  5.5  6.5  6.6  4.9  5.6  \n",
      "7  5.6  5.7  6.5  6.7  5.1  5.6  \n",
      "\n",
      "[8 rows x 28 columns]\n"
     ]
    }
   ],
   "source": [
    "# Lendo a base de dados\n",
    "data = pd.read_excel('ideb.xlsx').dropna()\n",
    "print(data)\n"
   ]
  },
  {
   "cell_type": "markdown",
   "metadata": {},
   "source": [
    "Abaixo, segue um resumo dos dados da base escolhida"
   ]
  },
  {
   "cell_type": "code",
   "execution_count": 33,
   "metadata": {},
   "outputs": [
    {
     "data": {
      "text/html": [
       "<div>\n",
       "<style scoped>\n",
       "    .dataframe tbody tr th:only-of-type {\n",
       "        vertical-align: middle;\n",
       "    }\n",
       "\n",
       "    .dataframe tbody tr th {\n",
       "        vertical-align: top;\n",
       "    }\n",
       "\n",
       "    .dataframe thead th {\n",
       "        text-align: right;\n",
       "    }\n",
       "</style>\n",
       "<table border=\"1\" class=\"dataframe\">\n",
       "  <thead>\n",
       "    <tr style=\"text-align: right;\">\n",
       "      <th></th>\n",
       "      <th>Ano</th>\n",
       "      <th>AC</th>\n",
       "      <th>AL</th>\n",
       "      <th>AP</th>\n",
       "      <th>AM</th>\n",
       "      <th>BA</th>\n",
       "      <th>CE</th>\n",
       "      <th>DF</th>\n",
       "      <th>ES</th>\n",
       "      <th>GO</th>\n",
       "      <th>...</th>\n",
       "      <th>PI</th>\n",
       "      <th>RJ</th>\n",
       "      <th>RN</th>\n",
       "      <th>RS</th>\n",
       "      <th>RO</th>\n",
       "      <th>RR</th>\n",
       "      <th>SC</th>\n",
       "      <th>SP</th>\n",
       "      <th>SE</th>\n",
       "      <th>TO</th>\n",
       "    </tr>\n",
       "  </thead>\n",
       "  <tbody>\n",
       "    <tr>\n",
       "      <th>count</th>\n",
       "      <td>8.000000</td>\n",
       "      <td>8.000000</td>\n",
       "      <td>8.000000</td>\n",
       "      <td>8.000000</td>\n",
       "      <td>8.000000</td>\n",
       "      <td>8.000000</td>\n",
       "      <td>8.000000</td>\n",
       "      <td>8.000000</td>\n",
       "      <td>8.000000</td>\n",
       "      <td>8.000000</td>\n",
       "      <td>...</td>\n",
       "      <td>8.000000</td>\n",
       "      <td>8.000000</td>\n",
       "      <td>8.000000</td>\n",
       "      <td>8.000000</td>\n",
       "      <td>8.000000</td>\n",
       "      <td>8.000000</td>\n",
       "      <td>8.000000</td>\n",
       "      <td>8.000000</td>\n",
       "      <td>8.000000</td>\n",
       "      <td>8.000000</td>\n",
       "    </tr>\n",
       "    <tr>\n",
       "      <th>mean</th>\n",
       "      <td>2012.000000</td>\n",
       "      <td>4.787500</td>\n",
       "      <td>4.200000</td>\n",
       "      <td>4.062500</td>\n",
       "      <td>4.462500</td>\n",
       "      <td>4.187500</td>\n",
       "      <td>5.000000</td>\n",
       "      <td>5.725000</td>\n",
       "      <td>5.287500</td>\n",
       "      <td>5.300000</td>\n",
       "      <td>...</td>\n",
       "      <td>4.387500</td>\n",
       "      <td>5.100000</td>\n",
       "      <td>4.187500</td>\n",
       "      <td>5.250000</td>\n",
       "      <td>4.825000</td>\n",
       "      <td>4.775000</td>\n",
       "      <td>5.700000</td>\n",
       "      <td>5.825000</td>\n",
       "      <td>4.162500</td>\n",
       "      <td>4.800000</td>\n",
       "    </tr>\n",
       "    <tr>\n",
       "      <th>std</th>\n",
       "      <td>4.898979</td>\n",
       "      <td>0.918753</td>\n",
       "      <td>0.881557</td>\n",
       "      <td>0.590248</td>\n",
       "      <td>0.886305</td>\n",
       "      <td>0.872496</td>\n",
       "      <td>1.152637</td>\n",
       "      <td>0.589794</td>\n",
       "      <td>0.659951</td>\n",
       "      <td>0.798212</td>\n",
       "      <td>...</td>\n",
       "      <td>0.947836</td>\n",
       "      <td>0.590399</td>\n",
       "      <td>0.847581</td>\n",
       "      <td>0.616441</td>\n",
       "      <td>0.801338</td>\n",
       "      <td>0.702546</td>\n",
       "      <td>0.785584</td>\n",
       "      <td>0.744024</td>\n",
       "      <td>0.730826</td>\n",
       "      <td>0.730949</td>\n",
       "    </tr>\n",
       "    <tr>\n",
       "      <th>min</th>\n",
       "      <td>2005.000000</td>\n",
       "      <td>3.400000</td>\n",
       "      <td>3.200000</td>\n",
       "      <td>3.200000</td>\n",
       "      <td>3.100000</td>\n",
       "      <td>2.700000</td>\n",
       "      <td>3.200000</td>\n",
       "      <td>4.800000</td>\n",
       "      <td>4.200000</td>\n",
       "      <td>4.100000</td>\n",
       "      <td>...</td>\n",
       "      <td>2.800000</td>\n",
       "      <td>4.300000</td>\n",
       "      <td>2.700000</td>\n",
       "      <td>4.300000</td>\n",
       "      <td>3.600000</td>\n",
       "      <td>3.700000</td>\n",
       "      <td>4.400000</td>\n",
       "      <td>4.700000</td>\n",
       "      <td>3.000000</td>\n",
       "      <td>3.500000</td>\n",
       "    </tr>\n",
       "    <tr>\n",
       "      <th>25%</th>\n",
       "      <td>2008.500000</td>\n",
       "      <td>4.175000</td>\n",
       "      <td>3.600000</td>\n",
       "      <td>3.700000</td>\n",
       "      <td>3.825000</td>\n",
       "      <td>3.700000</td>\n",
       "      <td>4.250000</td>\n",
       "      <td>5.450000</td>\n",
       "      <td>4.975000</td>\n",
       "      <td>4.750000</td>\n",
       "      <td>...</td>\n",
       "      <td>3.875000</td>\n",
       "      <td>4.625000</td>\n",
       "      <td>3.775000</td>\n",
       "      <td>4.825000</td>\n",
       "      <td>4.225000</td>\n",
       "      <td>4.250000</td>\n",
       "      <td>5.125000</td>\n",
       "      <td>5.375000</td>\n",
       "      <td>3.700000</td>\n",
       "      <td>4.400000</td>\n",
       "    </tr>\n",
       "    <tr>\n",
       "      <th>50%</th>\n",
       "      <td>2012.000000</td>\n",
       "      <td>4.850000</td>\n",
       "      <td>3.950000</td>\n",
       "      <td>4.050000</td>\n",
       "      <td>4.500000</td>\n",
       "      <td>4.250000</td>\n",
       "      <td>5.050000</td>\n",
       "      <td>5.800000</td>\n",
       "      <td>5.300000</td>\n",
       "      <td>5.500000</td>\n",
       "      <td>...</td>\n",
       "      <td>4.450000</td>\n",
       "      <td>5.150000</td>\n",
       "      <td>4.250000</td>\n",
       "      <td>5.350000</td>\n",
       "      <td>4.950000</td>\n",
       "      <td>4.850000</td>\n",
       "      <td>5.900000</td>\n",
       "      <td>5.850000</td>\n",
       "      <td>4.250000</td>\n",
       "      <td>5.000000</td>\n",
       "    </tr>\n",
       "    <tr>\n",
       "      <th>75%</th>\n",
       "      <td>2015.500000</td>\n",
       "      <td>5.500000</td>\n",
       "      <td>4.825000</td>\n",
       "      <td>4.525000</td>\n",
       "      <td>5.250000</td>\n",
       "      <td>4.800000</td>\n",
       "      <td>5.975000</td>\n",
       "      <td>6.075000</td>\n",
       "      <td>5.775000</td>\n",
       "      <td>5.875000</td>\n",
       "      <td>...</td>\n",
       "      <td>5.000000</td>\n",
       "      <td>5.575000</td>\n",
       "      <td>4.850000</td>\n",
       "      <td>5.725000</td>\n",
       "      <td>5.450000</td>\n",
       "      <td>5.275000</td>\n",
       "      <td>6.350000</td>\n",
       "      <td>6.450000</td>\n",
       "      <td>4.675000</td>\n",
       "      <td>5.225000</td>\n",
       "    </tr>\n",
       "    <tr>\n",
       "      <th>max</th>\n",
       "      <td>2019.000000</td>\n",
       "      <td>5.900000</td>\n",
       "      <td>5.600000</td>\n",
       "      <td>4.900000</td>\n",
       "      <td>5.500000</td>\n",
       "      <td>5.300000</td>\n",
       "      <td>6.400000</td>\n",
       "      <td>6.500000</td>\n",
       "      <td>6.100000</td>\n",
       "      <td>6.200000</td>\n",
       "      <td>...</td>\n",
       "      <td>5.700000</td>\n",
       "      <td>5.800000</td>\n",
       "      <td>5.200000</td>\n",
       "      <td>6.000000</td>\n",
       "      <td>5.800000</td>\n",
       "      <td>5.700000</td>\n",
       "      <td>6.500000</td>\n",
       "      <td>6.700000</td>\n",
       "      <td>5.100000</td>\n",
       "      <td>5.600000</td>\n",
       "    </tr>\n",
       "  </tbody>\n",
       "</table>\n",
       "<p>8 rows × 28 columns</p>\n",
       "</div>"
      ],
      "text/plain": [
       "               Ano        AC        AL        AP        AM        BA  \\\n",
       "count     8.000000  8.000000  8.000000  8.000000  8.000000  8.000000   \n",
       "mean   2012.000000  4.787500  4.200000  4.062500  4.462500  4.187500   \n",
       "std       4.898979  0.918753  0.881557  0.590248  0.886305  0.872496   \n",
       "min    2005.000000  3.400000  3.200000  3.200000  3.100000  2.700000   \n",
       "25%    2008.500000  4.175000  3.600000  3.700000  3.825000  3.700000   \n",
       "50%    2012.000000  4.850000  3.950000  4.050000  4.500000  4.250000   \n",
       "75%    2015.500000  5.500000  4.825000  4.525000  5.250000  4.800000   \n",
       "max    2019.000000  5.900000  5.600000  4.900000  5.500000  5.300000   \n",
       "\n",
       "             CE        DF        ES        GO  ...        PI        RJ  \\\n",
       "count  8.000000  8.000000  8.000000  8.000000  ...  8.000000  8.000000   \n",
       "mean   5.000000  5.725000  5.287500  5.300000  ...  4.387500  5.100000   \n",
       "std    1.152637  0.589794  0.659951  0.798212  ...  0.947836  0.590399   \n",
       "min    3.200000  4.800000  4.200000  4.100000  ...  2.800000  4.300000   \n",
       "25%    4.250000  5.450000  4.975000  4.750000  ...  3.875000  4.625000   \n",
       "50%    5.050000  5.800000  5.300000  5.500000  ...  4.450000  5.150000   \n",
       "75%    5.975000  6.075000  5.775000  5.875000  ...  5.000000  5.575000   \n",
       "max    6.400000  6.500000  6.100000  6.200000  ...  5.700000  5.800000   \n",
       "\n",
       "             RN        RS        RO        RR        SC        SP        SE  \\\n",
       "count  8.000000  8.000000  8.000000  8.000000  8.000000  8.000000  8.000000   \n",
       "mean   4.187500  5.250000  4.825000  4.775000  5.700000  5.825000  4.162500   \n",
       "std    0.847581  0.616441  0.801338  0.702546  0.785584  0.744024  0.730826   \n",
       "min    2.700000  4.300000  3.600000  3.700000  4.400000  4.700000  3.000000   \n",
       "25%    3.775000  4.825000  4.225000  4.250000  5.125000  5.375000  3.700000   \n",
       "50%    4.250000  5.350000  4.950000  4.850000  5.900000  5.850000  4.250000   \n",
       "75%    4.850000  5.725000  5.450000  5.275000  6.350000  6.450000  4.675000   \n",
       "max    5.200000  6.000000  5.800000  5.700000  6.500000  6.700000  5.100000   \n",
       "\n",
       "             TO  \n",
       "count  8.000000  \n",
       "mean   4.800000  \n",
       "std    0.730949  \n",
       "min    3.500000  \n",
       "25%    4.400000  \n",
       "50%    5.000000  \n",
       "75%    5.225000  \n",
       "max    5.600000  \n",
       "\n",
       "[8 rows x 28 columns]"
      ]
     },
     "execution_count": 33,
     "metadata": {},
     "output_type": "execute_result"
    }
   ],
   "source": [
    "# Descrevendo informações sobre a base\n",
    "data.describe()"
   ]
  },
  {
   "cell_type": "markdown",
   "metadata": {},
   "source": [
    "## Regressão linear e minímos quadrados"
   ]
  },
  {
   "cell_type": "markdown",
   "metadata": {},
   "source": [
    "Nessa etapa, será realizada a regressão linear e o cálculo dos mínimos quadrados para cada estado. Devido à grande quantidade de estados, a explicação do código e dos procedimentos será feita somente uma vez (correspondente ao estado do Acre), visando tornar o trabalho mais compacto e evitar muitas repetições."
   ]
  },
  {
   "cell_type": "markdown",
   "metadata": {},
   "source": [
    "\n",
    "### Acre"
   ]
  },
  {
   "cell_type": "markdown",
   "metadata": {},
   "source": [
    "Primeiramente foram setadas duas variáveis, uma correspondente aos valores do IDEB do estado em questão e a outra com os anos relacionados a esses valores. Plotou-se então o gráfico de dispersão da nota pelo ano. "
   ]
  },
  {
   "cell_type": "code",
   "execution_count": 13,
   "metadata": {},
   "outputs": [
    {
     "data": {
      "text/plain": [
       "Text(0.5, 1.0, 'ACRE')"
      ]
     },
     "execution_count": 13,
     "metadata": {},
     "output_type": "execute_result"
    },
    {
     "data": {
      "image/png": "[encoded data removed]",
      "text/plain": [
       "<Figure size 720x540 with 1 Axes>"
      ]
     },
     "metadata": {},
     "output_type": "display_data"
    }
   ],
   "source": [
    "# Setando as váriaveis\n",
    "AC = data['AC'].values\n",
    "Ano = data['Ano'].values\n",
    "\n",
    "# Plotando o gráfico\n",
    "plt.figure()\n",
    "plt.scatter(Ano, AC)\n",
    "plt.xlabel('Ano')\n",
    "plt.ylabel('IDEB')\n",
    "plt.title('ACRE')"
   ]
  },
  {
   "cell_type": "markdown",
   "metadata": {},
   "source": [
    "Abaixo, foi feita uma modelagem nos dados, aplicando o logaritmo natural em cada uma das variáveis, de modo a controlar a discrepância na escala dos dados. Após a modelagem, o gráfico foi plotado mais uma vez."
   ]
  },
  {
   "cell_type": "code",
   "execution_count": 15,
   "metadata": {},
   "outputs": [
    {
     "data": {
      "text/plain": [
       "Text(0.5, 1.0, 'ACRE')"
      ]
     },
     "execution_count": 15,
     "metadata": {},
     "output_type": "execute_result"
    },
    {
     "data": {
      "image/png": "[encoded data removed]",
      "text/plain": [
       "<Figure size 720x540 with 1 Axes>"
      ]
     },
     "metadata": {},
     "output_type": "display_data"
    }
   ],
   "source": [
    "# Plotando o gráfico com a nova modelagem\n",
    "plt.figure()\n",
    "plt.scatter(np.log(Ano), np.log(AC))\n",
    "plt.xlabel('log(Ano)')\n",
    "plt.ylabel('log(IDEB)')\n",
    "plt.title('ACRE')"
   ]
  },
  {
   "cell_type": "markdown",
   "metadata": {},
   "source": [
    "Foi calculada, então, a solução dos mínimos quadrados para $b=Dt+C$, em que $b$ será a nota em função de $t$, o ano. Para isso, setamos as variáveis $t$ como o log do ano, $b$ como o log do IDEB e uma variável $ones$, que é um vetor composto somente pelo número $1$ e do mesmo tamanho de $t$. Utilizando $t$ e $ones$, foi composta a matriz $A$. Por fim, efetua-se a multiplicação $A^TA$ e $A^Tb$ e resolve-se o sistema $(A^TA)\\hat x=A^Tb$."
   ]
  },
  {
   "cell_type": "code",
   "execution_count": 20,
   "metadata": {},
   "outputs": [],
   "source": [
    "# Setando as variáveis\n",
    "t = np.log(Ano)\n",
    "ones = np.ones(len(t))\n",
    "b = np.log(AC)\n",
    "\n",
    "# Criando a matriz A\n",
    "A = np.array([ones, t]).T\n",
    "\n",
    "# Realizando a multiplicação matricial\n",
    "AtA = A.T @ A\n",
    "Atb = A.T @ b\n",
    "\n",
    "# Encontrando a solução do sistema\n",
    "x_hat = np.linalg.solve(AtA, Atb)"
   ]
  },
  {
   "cell_type": "markdown",
   "metadata": {},
   "source": [
    "Portanto, obtemos que $b = 80.96086954t -614.31078896$."
   ]
  },
  {
   "cell_type": "code",
   "execution_count": 34,
   "metadata": {},
   "outputs": [
    {
     "data": {
      "text/plain": [
       "array([-614.31078896,   80.96086954])"
      ]
     },
     "execution_count": 34,
     "metadata": {},
     "output_type": "execute_result"
    }
   ],
   "source": [
    "# Exibindo o resultado do sistema\n",
    "x_hat"
   ]
  },
  {
   "cell_type": "markdown",
   "metadata": {},
   "source": [
    "Para o novo plot, criou-se um linspace da variável $t$, isto é, um conjunto de números igualmente espaçados no intervalo entre o menor e o maior valor de $t$. O linspace auxilia na visualização dos dados e na construção do eixo desejado."
   ]
  },
  {
   "cell_type": "code",
   "execution_count": 22,
   "metadata": {},
   "outputs": [],
   "source": [
    "# Criando o linspace\n",
    "t_linspace = np.linspace(np.min(t), np.max(t), 101)\n",
    "\n",
    "# Criando a reta\n",
    "least_square = x_hat[0] + x_hat[1] * t\n",
    "least_square_plot = x_hat[0] + x_hat[1] * t_linspace"
   ]
  },
  {
   "cell_type": "markdown",
   "metadata": {},
   "source": [
    "Abaixo, foi calculado o coeficiente de determinação, $R^2$, o qual diz muito sobre a confiabilidade do modelo: quanto mais próximo de 1, melhor é a previsão do modelo."
   ]
  },
  {
   "cell_type": "code",
   "execution_count": 35,
   "metadata": {},
   "outputs": [
    {
     "name": "stdout",
     "output_type": "stream",
     "text": [
      "SEQ:  0.008231837055654216\n",
      "R²: 0.9946856648881632\n"
     ]
    }
   ],
   "source": [
    "# Calculando o R²\n",
    "SEQ = np.sum((least_square - b)**2)\n",
    "SEQ_m = np.mean(least_square)\n",
    "R = (SEQ_m -SEQ)/SEQ_m\n",
    "\n",
    "# Printando o valor\n",
    "print('SEQ: ', SEQ)\n",
    "print('R²:', R)"
   ]
  },
  {
   "cell_type": "markdown",
   "metadata": {},
   "source": [
    "A seguir, foi feita a regressão através da biblioteca scikit-learn."
   ]
  },
  {
   "cell_type": "code",
   "execution_count": 27,
   "metadata": {},
   "outputs": [],
   "source": [
    "# Determinando o modelo da regressão e ajustando-o\n",
    "regr = linear_model.LinearRegression()\n",
    "regr.fit(t.reshape(-1, 1), b)\n",
    "\n",
    "# Fazendo o predict da regressão\n",
    "least_square_sklearn_plot = regr.predict(t_linspace.reshape(-1, 1))\n",
    "least_square_sklearn = regr.predict(t.reshape(-1, 1))"
   ]
  },
  {
   "cell_type": "markdown",
   "metadata": {},
   "source": [
    "Plota-se, portanto, o gráfico de dispersão contendo a regressão calculada a partir da fórmula e a partir do scikit-learn."
   ]
  },
  {
   "cell_type": "code",
   "execution_count": 31,
   "metadata": {},
   "outputs": [
    {
     "data": {
      "text/plain": [
       "<matplotlib.legend.Legend at 0x15ef8bdcee0>"
      ]
     },
     "execution_count": 31,
     "metadata": {},
     "output_type": "execute_result"
    },
    {
     "data": {
      "image/png": "[encoded data removed]",
      "text/plain": [
       "<Figure size 720x540 with 1 Axes>"
      ]
     },
     "metadata": {},
     "output_type": "display_data"
    }
   ],
   "source": [
    "# Plotando o gráfico\n",
    "fig, ax = plt.subplots()\n",
    "plt.scatter(t, b, label='data')\n",
    "plt.plot(t_linspace, least_square_plot, color='k', label='numpy')\n",
    "plt.plot(t_linspace, least_square_sklearn_plot, 'k--', linewidth=5, label='sklearn')\n",
    "plt.xlabel('log(Ano)')\n",
    "plt.ylabel('log(IDEB)')\n",
    "plt.title('ACRE')\n",
    "plt.legend()"
   ]
  },
  {
   "cell_type": "markdown",
   "metadata": {},
   "source": [
    "Por fim, utiliza-se a fórmula encontrada para estimar uma previsão do IDEB do estado em 2021."
   ]
  },
  {
   "cell_type": "code",
   "execution_count": 32,
   "metadata": {},
   "outputs": [
    {
     "name": "stdout",
     "output_type": "stream",
     "text": [
      "IDEB estimado:  6.756740697318955\n"
     ]
    }
   ],
   "source": [
    "# Calculando a previsão\n",
    "previsao = np.log(2021)\n",
    "\n",
    "estimado = x_hat[0] + x_hat[1] * previsao\n",
    "\n",
    "print('IDEB estimado: ', np.exp(estimado))"
   ]
  },
  {
   "cell_type": "markdown",
   "metadata": {},
   "source": [
    "# ALAGOAS"
   ]
  },
  {
   "cell_type": "code",
   "execution_count": 140,
   "metadata": {},
   "outputs": [],
   "source": [
    "AL = data['AL'].values\n",
    "Ano = data['Ano'].values\n"
   ]
  },
  {
   "cell_type": "code",
   "execution_count": 141,
   "metadata": {},
   "outputs": [
    {
     "data": {
      "text/plain": [
       "array([-634.82686484,   83.64046765])"
      ]
     },
     "execution_count": 141,
     "metadata": {},
     "output_type": "execute_result"
    }
   ],
   "source": [
    "t = np.log(Ano)\n",
    "ones = np.ones(len(t))\n",
    "b = np.log(AL)\n",
    "\n",
    "A = np.array([ones, t]).T\n",
    "\n",
    "AtA = A.T @ A\n",
    "Atb = A.T @ b\n",
    "\n",
    "x_hat = np.linalg.solve(AtA, Atb)\n",
    "x_hat"
   ]
  },
  {
   "cell_type": "code",
   "execution_count": 142,
   "metadata": {},
   "outputs": [],
   "source": [
    "t_linspace = np.linspace(np.min(t), np.max(t), 101)\n",
    "\n",
    "least_square = x_hat[0] + x_hat[1] * t\n",
    "least_square_plot = x_hat[0] + x_hat[1] * t_linspace"
   ]
  },
  {
   "cell_type": "code",
   "execution_count": 143,
   "metadata": {},
   "outputs": [
    {
     "name": "stdout",
     "output_type": "stream",
     "text": [
      "SEQ:  0.00664482930744163\n",
      "$R^{2}$ 0.9953083104287654\n"
     ]
    }
   ],
   "source": [
    "SEQ = np.sum((least_square - b)**2)\n",
    "SEQ_m = np.mean(least_square)\n",
    "R = (SEQ_m -SEQ)/SEQ_m\n",
    "\n",
    "print('SEQ: ', SEQ)\n",
    "print('$R^{2}$', R)"
   ]
  },
  {
   "cell_type": "code",
   "execution_count": 144,
   "metadata": {},
   "outputs": [],
   "source": [
    "regr = linear_model.LinearRegression()\n",
    "regr.fit(t.reshape(-1, 1), b)\n",
    "\n",
    "least_square_sklearn_plot = regr.predict(t_linspace.reshape(-1, 1))\n",
    "least_square_sklearn = regr.predict(t.reshape(-1, 1))"
   ]
  },
  {
   "cell_type": "code",
   "execution_count": 145,
   "metadata": {},
   "outputs": [
    {
     "data": {
      "text/plain": [
       "<matplotlib.legend.Legend at 0x1f593b67ca0>"
      ]
     },
     "execution_count": 145,
     "metadata": {},
     "output_type": "execute_result"
    },
    {
     "data": {
      "image/png": "[encoded data removed]",
      "text/plain": [
       "<Figure size 288x216 with 1 Axes>"
      ]
     },
     "metadata": {},
     "output_type": "display_data"
    }
   ],
   "source": [
    "fig, ax = plt.subplots()\n",
    "plt.scatter(t, b, label='data')\n",
    "plt.plot(t_linspace, least_square_plot, color='k', label='numpy')\n",
    "plt.plot(t_linspace, least_square_sklearn_plot, 'k--', label='sklearn', linewidth=5)\n",
    "plt.xlabel('log(Ano)')\n",
    "plt.ylabel('log(IDEB)')\n",
    "plt.legend()"
   ]
  },
  {
   "cell_type": "code",
   "execution_count": 103,
   "metadata": {},
   "outputs": [
    {
     "name": "stdout",
     "output_type": "stream",
     "text": [
      "IDEB estimado:  6.756740697318955\n"
     ]
    }
   ],
   "source": [
    "previsao = np.log(2021)\n",
    "\n",
    "estimado = x_hat[0] + x_hat[1] * previsao\n",
    "\n",
    "print('IDEB estimado: ', np.exp(estimado))"
   ]
  },
  {
   "cell_type": "markdown",
   "metadata": {},
   "source": [
    "# AMAPÁ"
   ]
  },
  {
   "cell_type": "code",
   "execution_count": 146,
   "metadata": {},
   "outputs": [],
   "source": [
    "AP = data['AP'].values\n",
    "Ano = data['Ano'].values\n"
   ]
  },
  {
   "cell_type": "code",
   "execution_count": 147,
   "metadata": {},
   "outputs": [],
   "source": [
    "t = np.log(Ano)\n",
    "ones = np.ones(len(t))\n",
    "b = np.log(AP)\n",
    "\n",
    "A = np.array([ones, t]).T\n",
    "\n",
    "AtA = A.T @ A\n",
    "Atb = A.T @ b\n",
    "\n",
    "x_hat = np.linalg.solve(AtA, Atb)"
   ]
  },
  {
   "cell_type": "code",
   "execution_count": 148,
   "metadata": {},
   "outputs": [
    {
     "data": {
      "text/plain": [
       "array([-452.01931289,   59.60545185])"
      ]
     },
     "execution_count": 148,
     "metadata": {},
     "output_type": "execute_result"
    }
   ],
   "source": [
    "x_hat"
   ]
  },
  {
   "cell_type": "code",
   "execution_count": 149,
   "metadata": {},
   "outputs": [],
   "source": [
    "t_linspace = np.linspace(np.min(t), np.max(t), 101)\n",
    "\n",
    "least_square = x_hat[0] + x_hat[1] * t\n",
    "least_square_plot = x_hat[0] + x_hat[1] * t_linspace"
   ]
  },
  {
   "cell_type": "code",
   "execution_count": 154,
   "metadata": {},
   "outputs": [
    {
     "name": "stdout",
     "output_type": "stream",
     "text": [
      "SEQ:  0.0063022949635165686\n",
      "$R^{2}$ 0.9954735369494758\n"
     ]
    }
   ],
   "source": [
    "SEQ = np.sum((least_square - b)**2)\n",
    "SEQ_m = np.mean(least_square)\n",
    "R = (SEQ_m -SEQ)/SEQ_m\n",
    "\n",
    "print('SEQ: ', SEQ)\n",
    "print('$R^{2}$', R)"
   ]
  },
  {
   "cell_type": "code",
   "execution_count": 155,
   "metadata": {},
   "outputs": [],
   "source": [
    "regr = linear_model.LinearRegression()\n",
    "regr.fit(t.reshape(-1, 1), b)\n",
    "\n",
    "least_square_sklearn_plot = regr.predict(t_linspace.reshape(-1, 1))\n",
    "least_square_sklearn = regr.predict(t.reshape(-1, 1))"
   ]
  },
  {
   "cell_type": "code",
   "execution_count": 156,
   "metadata": {},
   "outputs": [
    {
     "name": "stderr",
     "output_type": "stream",
     "text": [
      "No handles with labels found to put in legend.\n"
     ]
    },
    {
     "data": {
      "text/plain": [
       "<matplotlib.legend.Legend at 0x1f598c94430>"
      ]
     },
     "execution_count": 156,
     "metadata": {},
     "output_type": "execute_result"
    },
    {
     "data": {
      "image/png": "[encoded data removed]",
      "text/plain": [
       "<Figure size 288x216 with 1 Axes>"
      ]
     },
     "metadata": {},
     "output_type": "display_data"
    }
   ],
   "source": [
    "fig, ax = plt.subplots()\n",
    "plt.scatter(t, b)\n",
    "plt.plot(t_linspace, least_square_plot, color='k')\n",
    "plt.plot(t_linspace, least_square_sklearn_plot, 'k--', linewidth=5)\n",
    "plt.xlabel('log(Ano)')\n",
    "plt.ylabel('log(IDEB)')\n",
    "plt.legend()"
   ]
  },
  {
   "cell_type": "code",
   "execution_count": 157,
   "metadata": {},
   "outputs": [
    {
     "name": "stdout",
     "output_type": "stream",
     "text": [
      "IDEB estimado:  5.251464693668699\n"
     ]
    }
   ],
   "source": [
    "previsao = np.log(2021)\n",
    "\n",
    "estimado = x_hat[0] + x_hat[1] * previsao\n",
    "\n",
    "print('IDEB estimado: ', np.exp(estimado))"
   ]
  },
  {
   "cell_type": "markdown",
   "metadata": {},
   "source": [
    "# AMAZONAS"
   ]
  },
  {
   "cell_type": "code",
   "execution_count": 158,
   "metadata": {},
   "outputs": [],
   "source": [
    "AM = data['AM'].values\n",
    "Ano = data['Ano'].values\n"
   ]
  },
  {
   "cell_type": "code",
   "execution_count": 160,
   "metadata": {},
   "outputs": [
    {
     "data": {
      "text/plain": [
       "array([-635.68120253,   83.76081287])"
      ]
     },
     "execution_count": 160,
     "metadata": {},
     "output_type": "execute_result"
    }
   ],
   "source": [
    "t = np.log(Ano)\n",
    "ones = np.ones(len(t))\n",
    "b = np.log(AM)\n",
    "\n",
    "A = np.array([ones, t]).T\n",
    "\n",
    "AtA = A.T @ A\n",
    "Atb = A.T @ b\n",
    "\n",
    "x_hat = np.linalg.solve(AtA, Atb)\n",
    "x_hat"
   ]
  },
  {
   "cell_type": "code",
   "execution_count": 161,
   "metadata": {},
   "outputs": [],
   "source": [
    "t_linspace = np.linspace(np.min(t), np.max(t), 101)\n",
    "\n",
    "least_square = x_hat[0] + x_hat[1] * t\n",
    "least_square_plot = x_hat[0] + x_hat[1] * t_linspace"
   ]
  },
  {
   "cell_type": "code",
   "execution_count": 162,
   "metadata": {},
   "outputs": [
    {
     "name": "stdout",
     "output_type": "stream",
     "text": [
      "SEQ:  0.010676462216950249\n",
      "$R^{2}$ 0.9927735374585493\n"
     ]
    }
   ],
   "source": [
    "SEQ = np.sum((least_square - b)**2)\n",
    "SEQ_m = np.mean(least_square)\n",
    "R = (SEQ_m -SEQ)/SEQ_m\n",
    "\n",
    "print('SEQ: ', SEQ)\n",
    "print('$R^{2}$', R)"
   ]
  },
  {
   "cell_type": "code",
   "execution_count": 163,
   "metadata": {},
   "outputs": [],
   "source": [
    "regr = linear_model.LinearRegression()\n",
    "regr.fit(t.reshape(-1, 1), b)\n",
    "\n",
    "least_square_sklearn_plot = regr.predict(t_linspace.reshape(-1, 1))\n",
    "least_square_sklearn = regr.predict(t.reshape(-1, 1))"
   ]
  },
  {
   "cell_type": "code",
   "execution_count": 164,
   "metadata": {},
   "outputs": [
    {
     "name": "stderr",
     "output_type": "stream",
     "text": [
      "No handles with labels found to put in legend.\n"
     ]
    },
    {
     "data": {
      "text/plain": [
       "<matplotlib.legend.Legend at 0x1f598ce2af0>"
      ]
     },
     "execution_count": 164,
     "metadata": {},
     "output_type": "execute_result"
    },
    {
     "data": {
      "image/png": "[encoded data removed]",
      "text/plain": [
       "<Figure size 288x216 with 1 Axes>"
      ]
     },
     "metadata": {},
     "output_type": "display_data"
    }
   ],
   "source": [
    "fig, ax = plt.subplots()\n",
    "plt.scatter(t, b)\n",
    "plt.plot(t_linspace, least_square_plot, color='k')\n",
    "plt.plot(t_linspace, least_square_sklearn_plot, 'k--', linewidth=5)\n",
    "plt.xlabel('log(Ano)')\n",
    "plt.ylabel('log(IDEB)')\n",
    "plt.legend()"
   ]
  },
  {
   "cell_type": "code",
   "execution_count": 71,
   "metadata": {},
   "outputs": [
    {
     "name": "stdout",
     "output_type": "stream",
     "text": [
      "IDEB estimado:  6.756740697318955\n"
     ]
    }
   ],
   "source": [
    "previsao = np.log(2021)\n",
    "\n",
    "estimado = x_hat[0] + x_hat[1] * previsao\n",
    "\n",
    "print('IDEB estimado: ', np.exp(estimado))"
   ]
  },
  {
   "cell_type": "markdown",
   "metadata": {},
   "source": [
    "# BAHIA"
   ]
  },
  {
   "cell_type": "code",
   "execution_count": 165,
   "metadata": {},
   "outputs": [],
   "source": [
    "BA = data['BA'].values\n",
    "Ano = data['Ano'].values\n"
   ]
  },
  {
   "cell_type": "code",
   "execution_count": 167,
   "metadata": {},
   "outputs": [
    {
     "data": {
      "text/plain": [
       "array([-673.77117425,   88.75942331])"
      ]
     },
     "execution_count": 167,
     "metadata": {},
     "output_type": "execute_result"
    }
   ],
   "source": [
    "t = np.log(Ano)\n",
    "ones = np.ones(len(t))\n",
    "b = np.log(BA)\n",
    "\n",
    "A = np.array([ones, t]).T\n",
    "\n",
    "AtA = A.T @ A\n",
    "Atb = A.T @ b\n",
    "\n",
    "x_hat = np.linalg.solve(AtA, Atb)\n",
    "x_hat"
   ]
  },
  {
   "cell_type": "code",
   "execution_count": 168,
   "metadata": {},
   "outputs": [],
   "source": [
    "t_linspace = np.linspace(np.min(t), np.max(t), 101)\n",
    "\n",
    "least_square = x_hat[0] + x_hat[1] * t\n",
    "least_square_plot = x_hat[0] + x_hat[1] * t_linspace"
   ]
  },
  {
   "cell_type": "code",
   "execution_count": 169,
   "metadata": {},
   "outputs": [
    {
     "name": "stdout",
     "output_type": "stream",
     "text": [
      "SEQ:  0.023412713723739865\n",
      "$R^{2}$ 0.9834102952515283\n"
     ]
    }
   ],
   "source": [
    "SEQ = np.sum((least_square - b)**2)\n",
    "SEQ_m = np.mean(least_square)\n",
    "R = (SEQ_m -SEQ)/SEQ_m\n",
    "\n",
    "print('SEQ: ', SEQ)\n",
    "print('$R^{2}$', R)"
   ]
  },
  {
   "cell_type": "code",
   "execution_count": 170,
   "metadata": {},
   "outputs": [],
   "source": [
    "regr = linear_model.LinearRegression()\n",
    "regr.fit(t.reshape(-1, 1), b)\n",
    "\n",
    "least_square_sklearn_plot = regr.predict(t_linspace.reshape(-1, 1))\n",
    "least_square_sklearn = regr.predict(t.reshape(-1, 1))"
   ]
  },
  {
   "cell_type": "code",
   "execution_count": 171,
   "metadata": {},
   "outputs": [
    {
     "name": "stderr",
     "output_type": "stream",
     "text": [
      "No handles with labels found to put in legend.\n"
     ]
    },
    {
     "data": {
      "text/plain": [
       "<matplotlib.legend.Legend at 0x1f598d426a0>"
      ]
     },
     "execution_count": 171,
     "metadata": {},
     "output_type": "execute_result"
    },
    {
     "data": {
      "image/png": "[encoded data removed]",
      "text/plain": [
       "<Figure size 288x216 with 1 Axes>"
      ]
     },
     "metadata": {},
     "output_type": "display_data"
    }
   ],
   "source": [
    "fig, ax = plt.subplots()\n",
    "plt.scatter(t, b)\n",
    "plt.plot(t_linspace, least_square_plot, color='k')\n",
    "plt.plot(t_linspace, least_square_sklearn_plot, 'k--', linewidth=5)\n",
    "plt.xlabel('log(Ano)')\n",
    "plt.ylabel('log(IDEB)')\n",
    "plt.legend()"
   ]
  },
  {
   "cell_type": "code",
   "execution_count": 172,
   "metadata": {},
   "outputs": [
    {
     "name": "stdout",
     "output_type": "stream",
     "text": [
      "IDEB estimado:  6.096164277590525\n"
     ]
    }
   ],
   "source": [
    "previsao = np.log(2021)\n",
    "\n",
    "estimado = x_hat[0] + x_hat[1] * previsao\n",
    "\n",
    "print('IDEB estimado: ', np.exp(estimado))"
   ]
  },
  {
   "cell_type": "markdown",
   "metadata": {},
   "source": [
    "# CEARÁ"
   ]
  },
  {
   "cell_type": "code",
   "execution_count": 174,
   "metadata": {},
   "outputs": [],
   "source": [
    "CE = data['CE'].values\n",
    "Ano = data['Ano'].values\n"
   ]
  },
  {
   "cell_type": "code",
   "execution_count": 175,
   "metadata": {},
   "outputs": [
    {
     "data": {
      "text/plain": [
       "array([-749.17013448,   98.69409331])"
      ]
     },
     "execution_count": 175,
     "metadata": {},
     "output_type": "execute_result"
    }
   ],
   "source": [
    "t = np.log(Ano)\n",
    "ones = np.ones(len(t))\n",
    "b = np.log(CE)\n",
    "\n",
    "A = np.array([ones, t]).T\n",
    "\n",
    "AtA = A.T @ A\n",
    "Atb = A.T @ b\n",
    "\n",
    "x_hat = np.linalg.solve(AtA, Atb)\n",
    "x_hat"
   ]
  },
  {
   "cell_type": "code",
   "execution_count": 176,
   "metadata": {},
   "outputs": [],
   "source": [
    "t_linspace = np.linspace(np.min(t), np.max(t), 101)\n",
    "\n",
    "least_square = x_hat[0] + x_hat[1] * t\n",
    "least_square_plot = x_hat[0] + x_hat[1] * t_linspace"
   ]
  },
  {
   "cell_type": "code",
   "execution_count": 177,
   "metadata": {},
   "outputs": [
    {
     "name": "stdout",
     "output_type": "stream",
     "text": [
      "SEQ:  0.018040698224176206\n",
      "$R^{2}$ 0.9886119732872302\n"
     ]
    }
   ],
   "source": [
    "SEQ = np.sum((least_square - b)**2)\n",
    "SEQ_m = np.mean(least_square)\n",
    "R = (SEQ_m -SEQ)/SEQ_m\n",
    "\n",
    "print('SEQ: ', SEQ)\n",
    "print('$R^{2}$', R)"
   ]
  },
  {
   "cell_type": "code",
   "execution_count": 178,
   "metadata": {},
   "outputs": [],
   "source": [
    "regr = linear_model.LinearRegression()\n",
    "regr.fit(t.reshape(-1, 1), b)\n",
    "\n",
    "least_square_sklearn_plot = regr.predict(t_linspace.reshape(-1, 1))\n",
    "least_square_sklearn = regr.predict(t.reshape(-1, 1))"
   ]
  },
  {
   "cell_type": "code",
   "execution_count": 179,
   "metadata": {},
   "outputs": [
    {
     "name": "stderr",
     "output_type": "stream",
     "text": [
      "No handles with labels found to put in legend.\n"
     ]
    },
    {
     "data": {
      "text/plain": [
       "<matplotlib.legend.Legend at 0x1f598d9b280>"
      ]
     },
     "execution_count": 179,
     "metadata": {},
     "output_type": "execute_result"
    },
    {
     "data": {
      "image/png": "[encoded data removed]",
      "text/plain": [
       "<Figure size 288x216 with 1 Axes>"
      ]
     },
     "metadata": {},
     "output_type": "display_data"
    }
   ],
   "source": [
    "fig, ax = plt.subplots()\n",
    "plt.scatter(t, b)\n",
    "plt.plot(t_linspace, least_square_plot, color='k')\n",
    "plt.plot(t_linspace, least_square_sklearn_plot, 'k--', linewidth=5)\n",
    "plt.xlabel('log(Ano)')\n",
    "plt.ylabel('log(IDEB)')\n",
    "plt.legend()"
   ]
  },
  {
   "cell_type": "code",
   "execution_count": 180,
   "metadata": {},
   "outputs": [
    {
     "name": "stdout",
     "output_type": "stream",
     "text": [
      "IDEB estimado:  7.575560491539805\n"
     ]
    }
   ],
   "source": [
    "previsao = np.log(2021)\n",
    "\n",
    "estimado = x_hat[0] + x_hat[1] * previsao\n",
    "\n",
    "print('IDEB estimado: ', np.exp(estimado))"
   ]
  }
 ],
 "metadata": {
  "interpreter": {
   "hash": "ea66fd06e100e95532a13bdb26f09949020cc7fc57f4578ffdf034165640877b"
  },
  "kernelspec": {
   "display_name": "Python 3.8.8 64-bit ('base': conda)",
   "name": "python3"
  },
  "language_info": {
   "codemirror_mode": {
    "name": "ipython",
    "version": 3
   },
   "file_extension": ".py",
   "mimetype": "text/x-python",
   "name": "python",
   "nbconvert_exporter": "python",
   "pygments_lexer": "ipython3",
   "version": "3.8.8"
  },
  "orig_nbformat": 4
 },
 "nbformat": 4,
 "nbformat_minor": 2
}
